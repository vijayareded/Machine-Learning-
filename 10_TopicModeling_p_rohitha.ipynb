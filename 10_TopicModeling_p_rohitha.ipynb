{
  "nbformat": 4,
  "nbformat_minor": 0,
  "metadata": {
    "colab": {
      "provenance": [],
      "toc_visible": true
    },
    "kernelspec": {
      "name": "python3",
      "display_name": "Python 3"
    }
  },
  "cells": [
    {
      "cell_type": "markdown",
      "metadata": {
        "id": "8_2ehW7x19jL"
      },
      "source": [
        "# Topic Modeling\n",
        "\n",
        "In this activity we will use the Bag-of-Words (BOW) approach for text feature constructions, and LDA for topic modeling.\n",
        "We will use the gensim, nltk, and pyLDSvis libraries."
      ]
    },
    {
      "cell_type": "code",
      "metadata": {
        "id": "ZkJhljGq3IIt",
        "colab": {
          "base_uri": "https://localhost:8080/"
        },
        "outputId": "de117a3d-885a-40e1-ceef-f3047f77be4f"
      },
      "source": [
        "#run once!\n",
        "!pip install gensim==4.0.1\n",
        "!pip install pyldavis==3.3.1"
      ],
      "execution_count": 9,
      "outputs": [
        {
          "output_type": "stream",
          "name": "stdout",
          "text": [
            "Collecting gensim==4.0.1\n",
            "  Using cached gensim-4.0.1.tar.gz (23.1 MB)\n",
            "  Preparing metadata (setup.py) ... \u001b[?25l\u001b[?25hdone\n",
            "Requirement already satisfied: numpy>=1.11.3 in /usr/local/lib/python3.10/dist-packages (from gensim==4.0.1) (1.23.5)\n",
            "Requirement already satisfied: scipy>=0.18.1 in /usr/local/lib/python3.10/dist-packages (from gensim==4.0.1) (1.11.3)\n",
            "Requirement already satisfied: smart_open>=1.8.1 in /usr/local/lib/python3.10/dist-packages (from gensim==4.0.1) (6.4.0)\n",
            "Building wheels for collected packages: gensim\n",
            "  \u001b[1;31merror\u001b[0m: \u001b[1msubprocess-exited-with-error\u001b[0m\n",
            "  \n",
            "  \u001b[31m×\u001b[0m \u001b[32mpython setup.py bdist_wheel\u001b[0m did not run successfully.\n",
            "  \u001b[31m│\u001b[0m exit code: \u001b[1;36m1\u001b[0m\n",
            "  \u001b[31m╰─>\u001b[0m See above for output.\n",
            "  \n",
            "  \u001b[1;35mnote\u001b[0m: This error originates from a subprocess, and is likely not a problem with pip.\n",
            "  Building wheel for gensim (setup.py) ... \u001b[?25lerror\n",
            "\u001b[31m  ERROR: Failed building wheel for gensim\u001b[0m\u001b[31m\n",
            "\u001b[0m\u001b[?25h  Running setup.py clean for gensim\n",
            "Failed to build gensim\n",
            "\u001b[31mERROR: Could not build wheels for gensim, which is required to install pyproject.toml-based projects\u001b[0m\u001b[31m\n",
            "\u001b[0mRequirement already satisfied: pyldavis==3.3.1 in /usr/local/lib/python3.10/dist-packages (3.3.1)\n",
            "Requirement already satisfied: numpy>=1.20.0 in /usr/local/lib/python3.10/dist-packages (from pyldavis==3.3.1) (1.23.5)\n",
            "Requirement already satisfied: scipy in /usr/local/lib/python3.10/dist-packages (from pyldavis==3.3.1) (1.11.3)\n",
            "Requirement already satisfied: pandas>=1.2.0 in /usr/local/lib/python3.10/dist-packages (from pyldavis==3.3.1) (1.5.3)\n",
            "Requirement already satisfied: joblib in /usr/local/lib/python3.10/dist-packages (from pyldavis==3.3.1) (1.3.2)\n",
            "Requirement already satisfied: jinja2 in /usr/local/lib/python3.10/dist-packages (from pyldavis==3.3.1) (3.1.2)\n",
            "Requirement already satisfied: numexpr in /usr/local/lib/python3.10/dist-packages (from pyldavis==3.3.1) (2.8.7)\n",
            "Requirement already satisfied: future in /usr/local/lib/python3.10/dist-packages (from pyldavis==3.3.1) (0.18.3)\n",
            "Requirement already satisfied: funcy in /usr/local/lib/python3.10/dist-packages (from pyldavis==3.3.1) (2.0)\n",
            "Requirement already satisfied: sklearn in /usr/local/lib/python3.10/dist-packages (from pyldavis==3.3.1) (0.0.post11)\n",
            "Requirement already satisfied: scikit-learn in /usr/local/lib/python3.10/dist-packages (from pyldavis==3.3.1) (1.2.2)\n",
            "Requirement already satisfied: gensim in /usr/local/lib/python3.10/dist-packages (from pyldavis==3.3.1) (4.3.2)\n",
            "Requirement already satisfied: setuptools in /usr/local/lib/python3.10/dist-packages (from pyldavis==3.3.1) (67.7.2)\n",
            "Requirement already satisfied: python-dateutil>=2.8.1 in /usr/local/lib/python3.10/dist-packages (from pandas>=1.2.0->pyldavis==3.3.1) (2.8.2)\n",
            "Requirement already satisfied: pytz>=2020.1 in /usr/local/lib/python3.10/dist-packages (from pandas>=1.2.0->pyldavis==3.3.1) (2023.3.post1)\n",
            "Requirement already satisfied: smart-open>=1.8.1 in /usr/local/lib/python3.10/dist-packages (from gensim->pyldavis==3.3.1) (6.4.0)\n",
            "Requirement already satisfied: MarkupSafe>=2.0 in /usr/local/lib/python3.10/dist-packages (from jinja2->pyldavis==3.3.1) (2.1.3)\n",
            "Requirement already satisfied: threadpoolctl>=2.0.0 in /usr/local/lib/python3.10/dist-packages (from scikit-learn->pyldavis==3.3.1) (3.2.0)\n",
            "Requirement already satisfied: six>=1.5 in /usr/local/lib/python3.10/dist-packages (from python-dateutil>=2.8.1->pandas>=1.2.0->pyldavis==3.3.1) (1.16.0)\n"
          ]
        }
      ]
    },
    {
      "cell_type": "code",
      "metadata": {
        "id": "Smvq72OB3I5-",
        "colab": {
          "base_uri": "https://localhost:8080/"
        },
        "outputId": "5c4dca62-b257-4611-feb2-ed59504a0007"
      },
      "source": [
        "import pyLDAvis\n",
        "import gensim\n"
      ],
      "execution_count": 42,
      "outputs": [
        {
          "output_type": "stream",
          "name": "stderr",
          "text": [
            "/usr/local/lib/python3.10/dist-packages/ipykernel/ipkernel.py:283: DeprecationWarning: `should_run_async` will not call `transform_cell` automatically in the future. Please pass the result to `transformed_cell` argument and any exception that happen during thetransform in `preprocessing_exc_tuple` in IPython 7.17 and above.\n",
            "  and should_run_async(code)\n"
          ]
        }
      ]
    },
    {
      "cell_type": "markdown",
      "metadata": {
        "id": "QAQp2_ZLBGJ4"
      },
      "source": [
        "## Data & Scenario\n",
        "\n",
        "We will use a dataset on restaurant reviews for this exercise. We can explore whether there are certain topics that people write about in their reviews. These topics can be used to come pu with different strategies to engage with users on online platforms.\n",
        "\n",
        "This is a small dataset for learning purposes and to avoid long processing times.\n",
        "You can use any other textual data as input. Depending on the data format, you may have to use different functions to import your text data. Once you have your data imported as a dataframe, where one colum contains the *documents*, the rest will be the same.\n",
        "\n",
        "Download the file \"**Restaurant_Reviews.tsv**\" form elearn and upload it to your session before processing."
      ]
    },
    {
      "cell_type": "code",
      "metadata": {
        "id": "zxdjezpdA-SX",
        "colab": {
          "base_uri": "https://localhost:8080/",
          "height": 112
        },
        "outputId": "2913a34b-5f66-46c9-cd93-e182a4a5cf58"
      },
      "source": [
        "# importing restaurant reviews dataset\n",
        "import pandas as pd\n",
        "df=pd.read_csv('Restaurant_Reviews.tsv',delimiter=\"\\t\")\n",
        "df.head(2)"
      ],
      "execution_count": 4,
      "outputs": [
        {
          "output_type": "execute_result",
          "data": {
            "text/plain": [
              "                     Review  Sentiment\n",
              "0  Wow... Loved this place.          1\n",
              "1        Crust is not good.          0"
            ],
            "text/html": [
              "\n",
              "  <div id=\"df-407e7004-cb62-408a-833f-4f442fa977cd\" class=\"colab-df-container\">\n",
              "    <div>\n",
              "<style scoped>\n",
              "    .dataframe tbody tr th:only-of-type {\n",
              "        vertical-align: middle;\n",
              "    }\n",
              "\n",
              "    .dataframe tbody tr th {\n",
              "        vertical-align: top;\n",
              "    }\n",
              "\n",
              "    .dataframe thead th {\n",
              "        text-align: right;\n",
              "    }\n",
              "</style>\n",
              "<table border=\"1\" class=\"dataframe\">\n",
              "  <thead>\n",
              "    <tr style=\"text-align: right;\">\n",
              "      <th></th>\n",
              "      <th>Review</th>\n",
              "      <th>Sentiment</th>\n",
              "    </tr>\n",
              "  </thead>\n",
              "  <tbody>\n",
              "    <tr>\n",
              "      <th>0</th>\n",
              "      <td>Wow... Loved this place.</td>\n",
              "      <td>1</td>\n",
              "    </tr>\n",
              "    <tr>\n",
              "      <th>1</th>\n",
              "      <td>Crust is not good.</td>\n",
              "      <td>0</td>\n",
              "    </tr>\n",
              "  </tbody>\n",
              "</table>\n",
              "</div>\n",
              "    <div class=\"colab-df-buttons\">\n",
              "\n",
              "  <div class=\"colab-df-container\">\n",
              "    <button class=\"colab-df-convert\" onclick=\"convertToInteractive('df-407e7004-cb62-408a-833f-4f442fa977cd')\"\n",
              "            title=\"Convert this dataframe to an interactive table.\"\n",
              "            style=\"display:none;\">\n",
              "\n",
              "  <svg xmlns=\"http://www.w3.org/2000/svg\" height=\"24px\" viewBox=\"0 -960 960 960\">\n",
              "    <path d=\"M120-120v-720h720v720H120Zm60-500h600v-160H180v160Zm220 220h160v-160H400v160Zm0 220h160v-160H400v160ZM180-400h160v-160H180v160Zm440 0h160v-160H620v160ZM180-180h160v-160H180v160Zm440 0h160v-160H620v160Z\"/>\n",
              "  </svg>\n",
              "    </button>\n",
              "\n",
              "  <style>\n",
              "    .colab-df-container {\n",
              "      display:flex;\n",
              "      gap: 12px;\n",
              "    }\n",
              "\n",
              "    .colab-df-convert {\n",
              "      background-color: #E8F0FE;\n",
              "      border: none;\n",
              "      border-radius: 50%;\n",
              "      cursor: pointer;\n",
              "      display: none;\n",
              "      fill: #1967D2;\n",
              "      height: 32px;\n",
              "      padding: 0 0 0 0;\n",
              "      width: 32px;\n",
              "    }\n",
              "\n",
              "    .colab-df-convert:hover {\n",
              "      background-color: #E2EBFA;\n",
              "      box-shadow: 0px 1px 2px rgba(60, 64, 67, 0.3), 0px 1px 3px 1px rgba(60, 64, 67, 0.15);\n",
              "      fill: #174EA6;\n",
              "    }\n",
              "\n",
              "    .colab-df-buttons div {\n",
              "      margin-bottom: 4px;\n",
              "    }\n",
              "\n",
              "    [theme=dark] .colab-df-convert {\n",
              "      background-color: #3B4455;\n",
              "      fill: #D2E3FC;\n",
              "    }\n",
              "\n",
              "    [theme=dark] .colab-df-convert:hover {\n",
              "      background-color: #434B5C;\n",
              "      box-shadow: 0px 1px 3px 1px rgba(0, 0, 0, 0.15);\n",
              "      filter: drop-shadow(0px 1px 2px rgba(0, 0, 0, 0.3));\n",
              "      fill: #FFFFFF;\n",
              "    }\n",
              "  </style>\n",
              "\n",
              "    <script>\n",
              "      const buttonEl =\n",
              "        document.querySelector('#df-407e7004-cb62-408a-833f-4f442fa977cd button.colab-df-convert');\n",
              "      buttonEl.style.display =\n",
              "        google.colab.kernel.accessAllowed ? 'block' : 'none';\n",
              "\n",
              "      async function convertToInteractive(key) {\n",
              "        const element = document.querySelector('#df-407e7004-cb62-408a-833f-4f442fa977cd');\n",
              "        const dataTable =\n",
              "          await google.colab.kernel.invokeFunction('convertToInteractive',\n",
              "                                                    [key], {});\n",
              "        if (!dataTable) return;\n",
              "\n",
              "        const docLinkHtml = 'Like what you see? Visit the ' +\n",
              "          '<a target=\"_blank\" href=https://colab.research.google.com/notebooks/data_table.ipynb>data table notebook</a>'\n",
              "          + ' to learn more about interactive tables.';\n",
              "        element.innerHTML = '';\n",
              "        dataTable['output_type'] = 'display_data';\n",
              "        await google.colab.output.renderOutput(dataTable, element);\n",
              "        const docLink = document.createElement('div');\n",
              "        docLink.innerHTML = docLinkHtml;\n",
              "        element.appendChild(docLink);\n",
              "      }\n",
              "    </script>\n",
              "  </div>\n",
              "\n",
              "\n",
              "<div id=\"df-ef1268fc-a9c9-42a4-8575-e085833440a6\">\n",
              "  <button class=\"colab-df-quickchart\" onclick=\"quickchart('df-ef1268fc-a9c9-42a4-8575-e085833440a6')\"\n",
              "            title=\"Suggest charts\"\n",
              "            style=\"display:none;\">\n",
              "\n",
              "<svg xmlns=\"http://www.w3.org/2000/svg\" height=\"24px\"viewBox=\"0 0 24 24\"\n",
              "     width=\"24px\">\n",
              "    <g>\n",
              "        <path d=\"M19 3H5c-1.1 0-2 .9-2 2v14c0 1.1.9 2 2 2h14c1.1 0 2-.9 2-2V5c0-1.1-.9-2-2-2zM9 17H7v-7h2v7zm4 0h-2V7h2v10zm4 0h-2v-4h2v4z\"/>\n",
              "    </g>\n",
              "</svg>\n",
              "  </button>\n",
              "\n",
              "<style>\n",
              "  .colab-df-quickchart {\n",
              "      --bg-color: #E8F0FE;\n",
              "      --fill-color: #1967D2;\n",
              "      --hover-bg-color: #E2EBFA;\n",
              "      --hover-fill-color: #174EA6;\n",
              "      --disabled-fill-color: #AAA;\n",
              "      --disabled-bg-color: #DDD;\n",
              "  }\n",
              "\n",
              "  [theme=dark] .colab-df-quickchart {\n",
              "      --bg-color: #3B4455;\n",
              "      --fill-color: #D2E3FC;\n",
              "      --hover-bg-color: #434B5C;\n",
              "      --hover-fill-color: #FFFFFF;\n",
              "      --disabled-bg-color: #3B4455;\n",
              "      --disabled-fill-color: #666;\n",
              "  }\n",
              "\n",
              "  .colab-df-quickchart {\n",
              "    background-color: var(--bg-color);\n",
              "    border: none;\n",
              "    border-radius: 50%;\n",
              "    cursor: pointer;\n",
              "    display: none;\n",
              "    fill: var(--fill-color);\n",
              "    height: 32px;\n",
              "    padding: 0;\n",
              "    width: 32px;\n",
              "  }\n",
              "\n",
              "  .colab-df-quickchart:hover {\n",
              "    background-color: var(--hover-bg-color);\n",
              "    box-shadow: 0 1px 2px rgba(60, 64, 67, 0.3), 0 1px 3px 1px rgba(60, 64, 67, 0.15);\n",
              "    fill: var(--button-hover-fill-color);\n",
              "  }\n",
              "\n",
              "  .colab-df-quickchart-complete:disabled,\n",
              "  .colab-df-quickchart-complete:disabled:hover {\n",
              "    background-color: var(--disabled-bg-color);\n",
              "    fill: var(--disabled-fill-color);\n",
              "    box-shadow: none;\n",
              "  }\n",
              "\n",
              "  .colab-df-spinner {\n",
              "    border: 2px solid var(--fill-color);\n",
              "    border-color: transparent;\n",
              "    border-bottom-color: var(--fill-color);\n",
              "    animation:\n",
              "      spin 1s steps(1) infinite;\n",
              "  }\n",
              "\n",
              "  @keyframes spin {\n",
              "    0% {\n",
              "      border-color: transparent;\n",
              "      border-bottom-color: var(--fill-color);\n",
              "      border-left-color: var(--fill-color);\n",
              "    }\n",
              "    20% {\n",
              "      border-color: transparent;\n",
              "      border-left-color: var(--fill-color);\n",
              "      border-top-color: var(--fill-color);\n",
              "    }\n",
              "    30% {\n",
              "      border-color: transparent;\n",
              "      border-left-color: var(--fill-color);\n",
              "      border-top-color: var(--fill-color);\n",
              "      border-right-color: var(--fill-color);\n",
              "    }\n",
              "    40% {\n",
              "      border-color: transparent;\n",
              "      border-right-color: var(--fill-color);\n",
              "      border-top-color: var(--fill-color);\n",
              "    }\n",
              "    60% {\n",
              "      border-color: transparent;\n",
              "      border-right-color: var(--fill-color);\n",
              "    }\n",
              "    80% {\n",
              "      border-color: transparent;\n",
              "      border-right-color: var(--fill-color);\n",
              "      border-bottom-color: var(--fill-color);\n",
              "    }\n",
              "    90% {\n",
              "      border-color: transparent;\n",
              "      border-bottom-color: var(--fill-color);\n",
              "    }\n",
              "  }\n",
              "</style>\n",
              "\n",
              "  <script>\n",
              "    async function quickchart(key) {\n",
              "      const quickchartButtonEl =\n",
              "        document.querySelector('#' + key + ' button');\n",
              "      quickchartButtonEl.disabled = true;  // To prevent multiple clicks.\n",
              "      quickchartButtonEl.classList.add('colab-df-spinner');\n",
              "      try {\n",
              "        const charts = await google.colab.kernel.invokeFunction(\n",
              "            'suggestCharts', [key], {});\n",
              "      } catch (error) {\n",
              "        console.error('Error during call to suggestCharts:', error);\n",
              "      }\n",
              "      quickchartButtonEl.classList.remove('colab-df-spinner');\n",
              "      quickchartButtonEl.classList.add('colab-df-quickchart-complete');\n",
              "    }\n",
              "    (() => {\n",
              "      let quickchartButtonEl =\n",
              "        document.querySelector('#df-ef1268fc-a9c9-42a4-8575-e085833440a6 button');\n",
              "      quickchartButtonEl.style.display =\n",
              "        google.colab.kernel.accessAllowed ? 'block' : 'none';\n",
              "    })();\n",
              "  </script>\n",
              "</div>\n",
              "    </div>\n",
              "  </div>\n"
            ]
          },
          "metadata": {},
          "execution_count": 4
        }
      ]
    },
    {
      "cell_type": "markdown",
      "metadata": {
        "id": "Uhq7ywn2e3Jq"
      },
      "source": [
        "The sentiment for each review has been manually labeled for this dataset, we will use it in another activity on sentimenet analysis. Here, we only use the Review content for the topic modeling.\n",
        "\n",
        "There are 1000 reviews. In NLP terminology, each Review is a ***document***."
      ]
    },
    {
      "cell_type": "code",
      "metadata": {
        "id": "5bGsgQ7RBZJL",
        "colab": {
          "base_uri": "https://localhost:8080/"
        },
        "outputId": "c3bba38b-08ef-4055-ad58-0fc30c7a2b45"
      },
      "source": [
        "len(df)\n",
        "docs=df['Review']\n",
        "docs=docs.drop_duplicates() #drop duplicate reviews\n",
        "docs=docs.values\n",
        "len(docs)"
      ],
      "execution_count": 5,
      "outputs": [
        {
          "output_type": "execute_result",
          "data": {
            "text/plain": [
              "996"
            ]
          },
          "metadata": {},
          "execution_count": 5
        }
      ]
    },
    {
      "cell_type": "markdown",
      "metadata": {
        "id": "hNR0txA-jbop"
      },
      "source": [
        "##Text Pre-processing\n",
        "\n",
        "The pre-processing steps include:\n",
        "* tokenization: extracting the single words in each document\n",
        "* remove possible tags, e.g., characters from html documents\n",
        "* lowercase/uppercase all words (to not double count)\n",
        "* (optional) remove multiple whitespaces\n",
        "* remove punctuations\n",
        "* (optional) remove words that are shorter than 3 characters\n",
        "* remove stopwords; there are several stopword lists you can use, we use the default built-in from the gensim library\n",
        "* lemmatize words, using the NLTK implementation\n",
        "* stem words\n",
        "\n",
        "We will first apply each step on only one document (review) to see what exactly happens and then apply them on all documents."
      ]
    },
    {
      "cell_type": "code",
      "metadata": {
        "id": "_dRQbwjuJepa",
        "colab": {
          "base_uri": "https://localhost:8080/"
        },
        "outputId": "2597a371-ef40-4491-ff7e-ded0f364947b"
      },
      "source": [
        "#installing and importing libraries we need\n",
        "import nltk\n",
        "from nltk.stem.wordnet import WordNetLemmatizer\n",
        "nltk.download('wordnet')\n",
        "from gensim.parsing.preprocessing import strip_multiple_whitespaces,strip_numeric,strip_punctuation,strip_tags,strip_short,remove_stopwords,stem_text"
      ],
      "execution_count": 11,
      "outputs": [
        {
          "output_type": "stream",
          "name": "stderr",
          "text": [
            "/usr/local/lib/python3.10/dist-packages/ipykernel/ipkernel.py:283: DeprecationWarning: `should_run_async` will not call `transform_cell` automatically in the future. Please pass the result to `transformed_cell` argument and any exception that happen during thetransform in `preprocessing_exc_tuple` in IPython 7.17 and above.\n",
            "  and should_run_async(code)\n",
            "[nltk_data] Downloading package wordnet to /root/nltk_data...\n"
          ]
        }
      ]
    },
    {
      "cell_type": "code",
      "metadata": {
        "id": "rkz_aWeTt66A",
        "colab": {
          "base_uri": "https://localhost:8080/",
          "height": 90
        },
        "outputId": "1e3dacc9-2015-4265-d595-76749a319ac3"
      },
      "source": [
        "#Let take a look at 1 review\n",
        "docs[3]"
      ],
      "execution_count": 12,
      "outputs": [
        {
          "output_type": "stream",
          "name": "stderr",
          "text": [
            "/usr/local/lib/python3.10/dist-packages/ipykernel/ipkernel.py:283: DeprecationWarning: `should_run_async` will not call `transform_cell` automatically in the future. Please pass the result to `transformed_cell` argument and any exception that happen during thetransform in `preprocessing_exc_tuple` in IPython 7.17 and above.\n",
            "  and should_run_async(code)\n"
          ]
        },
        {
          "output_type": "execute_result",
          "data": {
            "text/plain": [
              "'Stopped by during the late May bank holiday  off Rick Steve recommendation and loved it!!!.'"
            ],
            "application/vnd.google.colaboratory.intrinsic+json": {
              "type": "string"
            }
          },
          "metadata": {},
          "execution_count": 12
        }
      ]
    },
    {
      "cell_type": "code",
      "metadata": {
        "id": "yB1T86V1uLA-",
        "colab": {
          "base_uri": "https://localhost:8080/",
          "height": 90
        },
        "outputId": "db770f08-c76e-471c-c753-a35a5dcf9a28"
      },
      "source": [
        "tmp=strip_tags(docs[3]) #removing any tags (such as from html input)\n",
        "#changing all words to lower case, since we do not want to double count words\n",
        "tmp=tmp.lower()\n",
        "tmp"
      ],
      "execution_count": 13,
      "outputs": [
        {
          "output_type": "stream",
          "name": "stderr",
          "text": [
            "/usr/local/lib/python3.10/dist-packages/ipykernel/ipkernel.py:283: DeprecationWarning: `should_run_async` will not call `transform_cell` automatically in the future. Please pass the result to `transformed_cell` argument and any exception that happen during thetransform in `preprocessing_exc_tuple` in IPython 7.17 and above.\n",
            "  and should_run_async(code)\n"
          ]
        },
        {
          "output_type": "execute_result",
          "data": {
            "text/plain": [
              "'stopped by during the late may bank holiday  off rick steve recommendation and loved it!!!.'"
            ],
            "application/vnd.google.colaboratory.intrinsic+json": {
              "type": "string"
            }
          },
          "metadata": {},
          "execution_count": 13
        }
      ]
    },
    {
      "cell_type": "code",
      "metadata": {
        "id": "df0e6qHqusJw",
        "colab": {
          "base_uri": "https://localhost:8080/",
          "height": 90
        },
        "outputId": "c7146f81-e4fd-4ffb-cffe-1273275caa73"
      },
      "source": [
        "tmp=strip_multiple_whitespaces(tmp) #remove consequent whitespaces\n",
        "tmp=strip_punctuation(tmp) #remove punctuations\n",
        "tmp"
      ],
      "execution_count": 14,
      "outputs": [
        {
          "output_type": "stream",
          "name": "stderr",
          "text": [
            "/usr/local/lib/python3.10/dist-packages/ipykernel/ipkernel.py:283: DeprecationWarning: `should_run_async` will not call `transform_cell` automatically in the future. Please pass the result to `transformed_cell` argument and any exception that happen during thetransform in `preprocessing_exc_tuple` in IPython 7.17 and above.\n",
            "  and should_run_async(code)\n"
          ]
        },
        {
          "output_type": "execute_result",
          "data": {
            "text/plain": [
              "'stopped by during the late may bank holiday off rick steve recommendation and loved it '"
            ],
            "application/vnd.google.colaboratory.intrinsic+json": {
              "type": "string"
            }
          },
          "metadata": {},
          "execution_count": 14
        }
      ]
    },
    {
      "cell_type": "code",
      "metadata": {
        "id": "Zd5XGNExvLIr",
        "colab": {
          "base_uri": "https://localhost:8080/",
          "height": 90
        },
        "outputId": "7866fe18-d1ab-4ce8-d726-95f28aa31def"
      },
      "source": [
        "#remove words that are shorter than 3 characters\n",
        "tmp=strip_short(tmp, minsize=3)\n",
        "tmp=remove_stopwords(tmp) #remove stopwords: is, the, as, etc.\n",
        "tmp"
      ],
      "execution_count": 15,
      "outputs": [
        {
          "output_type": "stream",
          "name": "stderr",
          "text": [
            "/usr/local/lib/python3.10/dist-packages/ipykernel/ipkernel.py:283: DeprecationWarning: `should_run_async` will not call `transform_cell` automatically in the future. Please pass the result to `transformed_cell` argument and any exception that happen during thetransform in `preprocessing_exc_tuple` in IPython 7.17 and above.\n",
            "  and should_run_async(code)\n"
          ]
        },
        {
          "output_type": "execute_result",
          "data": {
            "text/plain": [
              "'stopped late bank holiday rick steve recommendation loved'"
            ],
            "application/vnd.google.colaboratory.intrinsic+json": {
              "type": "string"
            }
          },
          "metadata": {},
          "execution_count": 15
        }
      ]
    },
    {
      "cell_type": "code",
      "metadata": {
        "id": "gD_p8ngyvlL3",
        "colab": {
          "base_uri": "https://localhost:8080/",
          "height": 90
        },
        "outputId": "27ea94b5-50ef-4afe-c7e2-d3e8e244e7a9"
      },
      "source": [
        "tmp=WordNetLemmatizer().lemmatize(tmp) #lemmatize words\n",
        "tmp"
      ],
      "execution_count": 16,
      "outputs": [
        {
          "output_type": "stream",
          "name": "stderr",
          "text": [
            "/usr/local/lib/python3.10/dist-packages/ipykernel/ipkernel.py:283: DeprecationWarning: `should_run_async` will not call `transform_cell` automatically in the future. Please pass the result to `transformed_cell` argument and any exception that happen during thetransform in `preprocessing_exc_tuple` in IPython 7.17 and above.\n",
            "  and should_run_async(code)\n"
          ]
        },
        {
          "output_type": "execute_result",
          "data": {
            "text/plain": [
              "'stopped late bank holiday rick steve recommendation loved'"
            ],
            "application/vnd.google.colaboratory.intrinsic+json": {
              "type": "string"
            }
          },
          "metadata": {},
          "execution_count": 16
        }
      ]
    },
    {
      "cell_type": "code",
      "metadata": {
        "id": "CdffQhxywZFp",
        "colab": {
          "base_uri": "https://localhost:8080/",
          "height": 90
        },
        "outputId": "572a2c15-6b0c-42b9-8dae-8cd3583e2162"
      },
      "source": [
        "#stem words\n",
        "tmp=stem_text(tmp)\n",
        "tmp"
      ],
      "execution_count": 17,
      "outputs": [
        {
          "output_type": "stream",
          "name": "stderr",
          "text": [
            "/usr/local/lib/python3.10/dist-packages/ipykernel/ipkernel.py:283: DeprecationWarning: `should_run_async` will not call `transform_cell` automatically in the future. Please pass the result to `transformed_cell` argument and any exception that happen during thetransform in `preprocessing_exc_tuple` in IPython 7.17 and above.\n",
            "  and should_run_async(code)\n"
          ]
        },
        {
          "output_type": "execute_result",
          "data": {
            "text/plain": [
              "'stop late bank holidai rick steve recommend love'"
            ],
            "application/vnd.google.colaboratory.intrinsic+json": {
              "type": "string"
            }
          },
          "metadata": {},
          "execution_count": 17
        }
      ]
    },
    {
      "cell_type": "code",
      "metadata": {
        "id": "38j98vdIdn--",
        "colab": {
          "base_uri": "https://localhost:8080/"
        },
        "outputId": "1be2b9f6-faa3-4546-d97f-99eda0813c72"
      },
      "source": [
        "#list the tokens\n",
        "list(gensim.utils.tokenize(tmp,deacc=True))"
      ],
      "execution_count": 18,
      "outputs": [
        {
          "output_type": "stream",
          "name": "stderr",
          "text": [
            "/usr/local/lib/python3.10/dist-packages/ipykernel/ipkernel.py:283: DeprecationWarning: `should_run_async` will not call `transform_cell` automatically in the future. Please pass the result to `transformed_cell` argument and any exception that happen during thetransform in `preprocessing_exc_tuple` in IPython 7.17 and above.\n",
            "  and should_run_async(code)\n"
          ]
        },
        {
          "output_type": "execute_result",
          "data": {
            "text/plain": [
              "['stop', 'late', 'bank', 'holidai', 'rick', 'steve', 'recommend', 'love']"
            ]
          },
          "metadata": {},
          "execution_count": 18
        }
      ]
    },
    {
      "cell_type": "code",
      "metadata": {
        "id": "rNrcF9kNj456",
        "colab": {
          "base_uri": "https://localhost:8080/"
        },
        "outputId": "7365586b-949a-4b64-ab81-c2b5ae36f7d6"
      },
      "source": [
        "# If you want to apply all the above pre-processing steps you can also use the following function in the gensim library\n",
        "# For selective pre-processing steps (or just to know how exactly you are processing text) use the above approach\n",
        "gensim.parsing.preprocessing.preprocess_string(docs[3])"
      ],
      "execution_count": 19,
      "outputs": [
        {
          "output_type": "stream",
          "name": "stderr",
          "text": [
            "/usr/local/lib/python3.10/dist-packages/ipykernel/ipkernel.py:283: DeprecationWarning: `should_run_async` will not call `transform_cell` automatically in the future. Please pass the result to `transformed_cell` argument and any exception that happen during thetransform in `preprocessing_exc_tuple` in IPython 7.17 and above.\n",
            "  and should_run_async(code)\n"
          ]
        },
        {
          "output_type": "execute_result",
          "data": {
            "text/plain": [
              "['stop', 'late', 'bank', 'holidai', 'rick', 'steve', 'recommend', 'love']"
            ]
          },
          "metadata": {},
          "execution_count": 19
        }
      ]
    },
    {
      "cell_type": "markdown",
      "metadata": {
        "id": "gIRLu9X6zigN"
      },
      "source": [
        "## Applying pre-processing steps on corpus\n",
        "Now we will apply these steps except for stemming on our all documents (i.e., collection of all documents) and save it as a 2D list, \"text_data1\"."
      ]
    },
    {
      "cell_type": "code",
      "metadata": {
        "id": "MK6O5nt8OfLx",
        "colab": {
          "base_uri": "https://localhost:8080/"
        },
        "outputId": "2e66d956-d4c3-44c1-a9e4-059e746f218e"
      },
      "source": [
        "text_data1 = []\n",
        "for eachdoc in docs:\n",
        "  tmp=strip_tags(eachdoc)\n",
        "  tmp=tmp.lower()\n",
        "  tmp=strip_multiple_whitespaces(tmp)\n",
        "  tmp=strip_punctuation(tmp)\n",
        "  tmp=strip_short(tmp)\n",
        "  tmp=remove_stopwords(tmp)\n",
        "  tmp=WordNetLemmatizer().lemmatize(tmp)\n",
        "  #tmp=stem_text(tmp)\n",
        "  text_data1.append(list(gensim.utils.tokenize(tmp,deacc=True)))"
      ],
      "execution_count": 20,
      "outputs": [
        {
          "output_type": "stream",
          "name": "stderr",
          "text": [
            "/usr/local/lib/python3.10/dist-packages/ipykernel/ipkernel.py:283: DeprecationWarning: `should_run_async` will not call `transform_cell` automatically in the future. Please pass the result to `transformed_cell` argument and any exception that happen during thetransform in `preprocessing_exc_tuple` in IPython 7.17 and above.\n",
            "  and should_run_async(code)\n"
          ]
        }
      ]
    },
    {
      "cell_type": "code",
      "metadata": {
        "id": "PCjezerqWFqp",
        "colab": {
          "base_uri": "https://localhost:8080/"
        },
        "outputId": "abb7ec33-9a04-4294-e7a5-636576cf413d"
      },
      "source": [
        "# To apply all pre-processing steps you can also use the following function in gensim\n",
        "# strip_tags(),strip_punctuation(),strip_multiple_whitespaces(),strip_numeric(),remove_stopwords(),strip_short(),stem_text()\n",
        "text_data2=gensim.parsing.preprocessing.preprocess_documents(docs)"
      ],
      "execution_count": 21,
      "outputs": [
        {
          "output_type": "stream",
          "name": "stderr",
          "text": [
            "/usr/local/lib/python3.10/dist-packages/ipykernel/ipkernel.py:283: DeprecationWarning: `should_run_async` will not call `transform_cell` automatically in the future. Please pass the result to `transformed_cell` argument and any exception that happen during thetransform in `preprocessing_exc_tuple` in IPython 7.17 and above.\n",
            "  and should_run_async(code)\n"
          ]
        }
      ]
    },
    {
      "cell_type": "markdown",
      "metadata": {
        "id": "y9Ma4F4x4Dih"
      },
      "source": [
        "* text_data1, tokenization with pre-processing steps without stemming\n",
        "* text_data2, tokenization with all pre-processing steps\n",
        "\n",
        "both have equal length but the number of words for some documents may differ."
      ]
    },
    {
      "cell_type": "code",
      "metadata": {
        "id": "PTwsIvBqWQNV",
        "colab": {
          "base_uri": "https://localhost:8080/"
        },
        "outputId": "bfb3c1fa-e464-4ec4-cef5-a0ab9e2377d9"
      },
      "source": [
        "len(text_data1),len(text_data2)"
      ],
      "execution_count": 22,
      "outputs": [
        {
          "output_type": "stream",
          "name": "stderr",
          "text": [
            "/usr/local/lib/python3.10/dist-packages/ipykernel/ipkernel.py:283: DeprecationWarning: `should_run_async` will not call `transform_cell` automatically in the future. Please pass the result to `transformed_cell` argument and any exception that happen during thetransform in `preprocessing_exc_tuple` in IPython 7.17 and above.\n",
            "  and should_run_async(code)\n"
          ]
        },
        {
          "output_type": "execute_result",
          "data": {
            "text/plain": [
              "(996, 996)"
            ]
          },
          "metadata": {},
          "execution_count": 22
        }
      ]
    },
    {
      "cell_type": "markdown",
      "metadata": {
        "id": "W5fQxgeS4wy0"
      },
      "source": [
        "## Build dictionary from tokenized documents\n",
        "Next, we build our dictionary based on the tokenized documents. Our dictionary is the collection of all unique words in our corpus.\n",
        "Sometimes, words that are very rare or very frequent are dropped fro teh dictionary. We do not do it for our small dataset.\n",
        "\n",
        "Each unique word is assigned a number in our dictionary."
      ]
    },
    {
      "cell_type": "code",
      "metadata": {
        "id": "2qaZnlvtO1QW",
        "colab": {
          "base_uri": "https://localhost:8080/"
        },
        "outputId": "9e490c1a-a418-431d-8b8c-c3dbc1d3bade"
      },
      "source": [
        "from gensim import corpora\n",
        "dictionary = corpora.Dictionary(text_data1)\n",
        "#dictionary.filter_extremes(no_below=15, no_above=0.5, keep_n=100000) #optional"
      ],
      "execution_count": 23,
      "outputs": [
        {
          "output_type": "stream",
          "name": "stderr",
          "text": [
            "/usr/local/lib/python3.10/dist-packages/ipykernel/ipkernel.py:283: DeprecationWarning: `should_run_async` will not call `transform_cell` automatically in the future. Please pass the result to `transformed_cell` argument and any exception that happen during thetransform in `preprocessing_exc_tuple` in IPython 7.17 and above.\n",
            "  and should_run_async(code)\n"
          ]
        }
      ]
    },
    {
      "cell_type": "markdown",
      "metadata": {
        "id": "rF3nNDXX6GSo"
      },
      "source": [
        "## Build corpus represenation based on word frequency\n",
        "Then we build the mathematical represenation (i.e., document-term matrix) of our corpus based on the frequency of words appearing in each document.\n",
        "\n",
        "*corpus_bow* contains the frequency of each word (using the words numeric reference based on our dictionary) for each document."
      ]
    },
    {
      "cell_type": "code",
      "metadata": {
        "id": "ioCmnl5p6XZQ",
        "colab": {
          "base_uri": "https://localhost:8080/"
        },
        "outputId": "0d4c2e50-d951-4110-881d-ba355621b3fa"
      },
      "source": [
        "# corpus using word frequencies\n",
        "corpus_bow = [dictionary.doc2bow(text) for text in text_data1]\n",
        "print('Number of unique tokens: %d' % len(dictionary))\n",
        "print('Number of documents: %d' % len(corpus_bow))"
      ],
      "execution_count": 24,
      "outputs": [
        {
          "output_type": "stream",
          "name": "stdout",
          "text": [
            "Number of unique tokens: 1776\n",
            "Number of documents: 996\n"
          ]
        },
        {
          "output_type": "stream",
          "name": "stderr",
          "text": [
            "/usr/local/lib/python3.10/dist-packages/ipykernel/ipkernel.py:283: DeprecationWarning: `should_run_async` will not call `transform_cell` automatically in the future. Please pass the result to `transformed_cell` argument and any exception that happen during thetransform in `preprocessing_exc_tuple` in IPython 7.17 and above.\n",
            "  and should_run_async(code)\n"
          ]
        }
      ]
    },
    {
      "cell_type": "code",
      "metadata": {
        "id": "14ZV8FKW8Ae7",
        "colab": {
          "base_uri": "https://localhost:8080/"
        },
        "outputId": "abe7b21b-d1d1-4cf0-dd32-a09ab6529ff6"
      },
      "source": [
        "# one of the documents in our corpus and its numerical representation using word frequencies in corpus_bow\n",
        "print(docs[3])\n",
        "print(text_data1[3])\n",
        "print(corpus_bow[3])"
      ],
      "execution_count": 25,
      "outputs": [
        {
          "output_type": "stream",
          "name": "stdout",
          "text": [
            "Stopped by during the late May bank holiday  off Rick Steve recommendation and loved it!!!.\n",
            "['stopped', 'late', 'bank', 'holiday', 'rick', 'steve', 'recommendation', 'loved']\n",
            "[(0, 1), (8, 1), (9, 1), (10, 1), (11, 1), (12, 1), (13, 1), (14, 1)]\n"
          ]
        },
        {
          "output_type": "stream",
          "name": "stderr",
          "text": [
            "/usr/local/lib/python3.10/dist-packages/ipykernel/ipkernel.py:283: DeprecationWarning: `should_run_async` will not call `transform_cell` automatically in the future. Please pass the result to `transformed_cell` argument and any exception that happen during thetransform in `preprocessing_exc_tuple` in IPython 7.17 and above.\n",
            "  and should_run_async(code)\n"
          ]
        }
      ]
    },
    {
      "cell_type": "markdown",
      "metadata": {
        "id": "StBbC-hz6Y_7"
      },
      "source": [
        "## Build corpus representation based on TF-IDF\n",
        "\n",
        "Mere word frequencies are not the best input for our topic modeling (as well as other text analysis).\n",
        "Hence, we also create the mathematical represenation (i.e., document-term matrix) for our corpus based on TF-IDF.\n",
        "Note that the we need to first create the word frequencies in order to derive the tf-idf.\n",
        "\n",
        "TF-IDF indicates the relative importance of a word within a document relative to the corpus (see slides for formula and simple example).\n",
        "\n",
        "For more detail on tf-idf see https://en.wikipedia.org/wiki/Tf-idf"
      ]
    },
    {
      "cell_type": "code",
      "metadata": {
        "id": "5V6vDSbvwz2H",
        "colab": {
          "base_uri": "https://localhost:8080/"
        },
        "outputId": "540663ee-629c-41d1-90f1-be6d0c2066ae"
      },
      "source": [
        "# corpus using TFIDF\n",
        "tfidf=gensim.models.TfidfModel(corpus_bow)\n",
        "corpus_tfidf=tfidf[corpus_bow]"
      ],
      "execution_count": 26,
      "outputs": [
        {
          "output_type": "stream",
          "name": "stderr",
          "text": [
            "/usr/local/lib/python3.10/dist-packages/ipykernel/ipkernel.py:283: DeprecationWarning: `should_run_async` will not call `transform_cell` automatically in the future. Please pass the result to `transformed_cell` argument and any exception that happen during thetransform in `preprocessing_exc_tuple` in IPython 7.17 and above.\n",
            "  and should_run_async(code)\n"
          ]
        }
      ]
    },
    {
      "cell_type": "code",
      "metadata": {
        "id": "Z6WWw8x9808U",
        "colab": {
          "base_uri": "https://localhost:8080/"
        },
        "outputId": "c9f255db-2c63-4c82-bd75-7773eb23581c"
      },
      "source": [
        "# one of the documents in our corpus and its TF-IDF representation in corpus_tfidf\n",
        "print(text_data1[3])\n",
        "print(corpus_tfidf[3])"
      ],
      "execution_count": 27,
      "outputs": [
        {
          "output_type": "stream",
          "name": "stdout",
          "text": [
            "['stopped', 'late', 'bank', 'holiday', 'rick', 'steve', 'recommendation', 'loved']\n",
            "[(0, 0.2561502449513664), (8, 0.38433693224763466), (9, 0.38433693224763466), (10, 0.34574889432665895), (11, 0.3231763391664821), (12, 0.38433693224763466), (13, 0.38433693224763466), (14, 0.34574889432665895)]\n"
          ]
        },
        {
          "output_type": "stream",
          "name": "stderr",
          "text": [
            "/usr/local/lib/python3.10/dist-packages/ipykernel/ipkernel.py:283: DeprecationWarning: `should_run_async` will not call `transform_cell` automatically in the future. Please pass the result to `transformed_cell` argument and any exception that happen during thetransform in `preprocessing_exc_tuple` in IPython 7.17 and above.\n",
            "  and should_run_async(code)\n"
          ]
        }
      ]
    },
    {
      "cell_type": "markdown",
      "metadata": {
        "id": "9mOJFhx6AR8u"
      },
      "source": [
        "### Question 1\n",
        "Based on the values in corpus_bow and corpus_tfidf for the 3rd document (in the above cells).\n",
        "Are all words in the 3rd review equally important in on both document-term matrices?\n",
        "\n",
        "In which representation are the words in the 3rd review weighted based on their total frequency in our corpus?\n"
      ]
    },
    {
      "cell_type": "markdown",
      "source": [
        "Ans)No,Words have an equal role in the BOW concept.However,word weights in TF-IDF are determined by document frequency."
      ],
      "metadata": {
        "id": "c0pcNgCAKwec"
      }
    },
    {
      "cell_type": "markdown",
      "source": [
        "Ans)Words are represented in TF-IDF representation depending on their overall frequency in our corpus."
      ],
      "metadata": {
        "id": "qOFdjZxzLzde"
      }
    },
    {
      "cell_type": "markdown",
      "metadata": {
        "id": "dpE2dCnlAC32"
      },
      "source": [
        "## Using LDA for topic modeling\n",
        "\n",
        "Topic modeling is exploratory in nature and we have to specify the number of topics we want the algorithm to derive.\n",
        "\n",
        "Each topic will be a collection of words from our vocabulary.\n",
        "\n",
        "It is usual to try several values and evaluating the results.\n",
        "We will build topic models with 3, 5, and 10 topics using both corpus_bow (doc-term matrix of term frequencies) and corpus_tfidf (doc-term matric of TF-IDFs)."
      ]
    },
    {
      "cell_type": "code",
      "metadata": {
        "id": "f5dQaB9XovX1",
        "colab": {
          "base_uri": "https://localhost:8080/"
        },
        "outputId": "c88e9e8f-2168-47e1-a6a5-e7b120c04ba3"
      },
      "source": [
        "# topic models using LDA\n",
        "from gensim.models import LdaModel\n",
        "# using document-term matrix of TF\n",
        "lda_bow_model2 = LdaModel(corpus_bow, num_topics = 2, id2word=dictionary, passes=5,eval_every=None)\n",
        "lda_bow_model3 = LdaModel(corpus_bow, num_topics = 3, id2word=dictionary, passes=5,eval_every=None)\n",
        "lda_bow_model5 = LdaModel(corpus_bow, num_topics = 5, id2word=dictionary, passes=5,eval_every=None)\n",
        "\n",
        "# using document-term matrix of TF-IDF\n",
        "lda_tfidf_model2 = LdaModel(corpus_tfidf, num_topics = 2, id2word=dictionary, passes=5,eval_every=None)\n",
        "lda_tfidf_model3 = LdaModel(corpus_tfidf, num_topics = 3, id2word=dictionary, passes=5,eval_every=None)\n",
        "lda_tfidf_model5 = LdaModel(corpus_tfidf, num_topics = 5, id2word=dictionary, passes=5,eval_every=None)\n"
      ],
      "execution_count": 28,
      "outputs": [
        {
          "output_type": "stream",
          "name": "stderr",
          "text": [
            "/usr/local/lib/python3.10/dist-packages/ipykernel/ipkernel.py:283: DeprecationWarning: `should_run_async` will not call `transform_cell` automatically in the future. Please pass the result to `transformed_cell` argument and any exception that happen during thetransform in `preprocessing_exc_tuple` in IPython 7.17 and above.\n",
            "  and should_run_async(code)\n",
            "WARNING:gensim.models.ldamodel:too few updates, training might not converge; consider increasing the number of passes or iterations to improve accuracy\n",
            "WARNING:gensim.models.ldamodel:too few updates, training might not converge; consider increasing the number of passes or iterations to improve accuracy\n",
            "WARNING:gensim.models.ldamodel:too few updates, training might not converge; consider increasing the number of passes or iterations to improve accuracy\n",
            "WARNING:gensim.models.ldamodel:too few updates, training might not converge; consider increasing the number of passes or iterations to improve accuracy\n",
            "WARNING:gensim.models.ldamodel:too few updates, training might not converge; consider increasing the number of passes or iterations to improve accuracy\n",
            "WARNING:gensim.models.ldamodel:too few updates, training might not converge; consider increasing the number of passes or iterations to improve accuracy\n"
          ]
        }
      ]
    },
    {
      "cell_type": "markdown",
      "metadata": {
        "id": "VSiqH7r2JvdE"
      },
      "source": [
        "## Explore the topic models\n",
        "Let's take a look at the most probable words for each topic in the model with 3 topics.\n",
        "\n",
        "You can check the top words for the other topic models as well."
      ]
    },
    {
      "cell_type": "code",
      "metadata": {
        "id": "flSerPzAJrRI",
        "colab": {
          "base_uri": "https://localhost:8080/"
        },
        "outputId": "bcd51bb1-4308-4308-92cf-35943255a0b9"
      },
      "source": [
        "# top words for the 3-topic model based on TF\n",
        "lda_bow_model3.show_topics(num_words=10)"
      ],
      "execution_count": 29,
      "outputs": [
        {
          "output_type": "stream",
          "name": "stderr",
          "text": [
            "/usr/local/lib/python3.10/dist-packages/ipykernel/ipkernel.py:283: DeprecationWarning: `should_run_async` will not call `transform_cell` automatically in the future. Please pass the result to `transformed_cell` argument and any exception that happen during thetransform in `preprocessing_exc_tuple` in IPython 7.17 and above.\n",
            "  and should_run_async(code)\n"
          ]
        },
        {
          "output_type": "execute_result",
          "data": {
            "text/plain": [
              "[(0,\n",
              "  '0.028*\"service\" + 0.021*\"great\" + 0.011*\"place\" + 0.011*\"time\" + 0.008*\"food\" + 0.008*\"good\" + 0.007*\"restaurant\" + 0.006*\"steak\" + 0.006*\"won\" + 0.006*\"minutes\"'),\n",
              " (1,\n",
              "  '0.030*\"place\" + 0.012*\"food\" + 0.011*\"like\" + 0.010*\"service\" + 0.010*\"great\" + 0.009*\"pretty\" + 0.009*\"time\" + 0.006*\"best\" + 0.006*\"disappointed\" + 0.006*\"delicious\"'),\n",
              " (2,\n",
              "  '0.037*\"food\" + 0.033*\"good\" + 0.010*\"like\" + 0.010*\"nice\" + 0.008*\"place\" + 0.007*\"chicken\" + 0.007*\"way\" + 0.006*\"amazing\" + 0.005*\"got\" + 0.005*\"salad\"')]"
            ]
          },
          "metadata": {},
          "execution_count": 29
        }
      ]
    },
    {
      "cell_type": "code",
      "metadata": {
        "id": "3gciciSitZSe",
        "colab": {
          "base_uri": "https://localhost:8080/"
        },
        "outputId": "6acb4539-366e-4f65-dca1-4c63e81656df"
      },
      "source": [
        "# top words for the 3-topic model based on TF-IDF\n",
        "lda_tfidf_model3.show_topics(num_words=5)"
      ],
      "execution_count": 47,
      "outputs": [
        {
          "output_type": "stream",
          "name": "stderr",
          "text": [
            "/usr/local/lib/python3.10/dist-packages/ipykernel/ipkernel.py:283: DeprecationWarning: `should_run_async` will not call `transform_cell` automatically in the future. Please pass the result to `transformed_cell` argument and any exception that happen during thetransform in `preprocessing_exc_tuple` in IPython 7.17 and above.\n",
            "  and should_run_async(code)\n"
          ]
        },
        {
          "output_type": "execute_result",
          "data": {
            "text/plain": [
              "[(0,\n",
              "  '0.015*\"place\" + 0.012*\"great\" + 0.010*\"food\" + 0.008*\"service\" + 0.005*\"awesome\"'),\n",
              " (1,\n",
              "  '0.005*\"going\" + 0.005*\"place\" + 0.004*\"definitely\" + 0.004*\"better\" + 0.004*\"soon\"'),\n",
              " (2,\n",
              "  '0.014*\"good\" + 0.009*\"food\" + 0.008*\"service\" + 0.007*\"best\" + 0.005*\"won\"')]"
            ]
          },
          "metadata": {},
          "execution_count": 47
        }
      ]
    },
    {
      "cell_type": "markdown",
      "metadata": {
        "id": "XLfS8gK0LD6A"
      },
      "source": [
        "### Question 2\n",
        "What seems to be the difference between the topic models (with topics = 3) using TF vs TF-IDF as the input?"
      ]
    },
    {
      "cell_type": "markdown",
      "source": [
        "Ans)The top words in both models differ."
      ],
      "metadata": {
        "id": "LOWkQfZYMJa7"
      }
    },
    {
      "cell_type": "markdown",
      "metadata": {
        "id": "bNaLv4jYLnYh"
      },
      "source": [
        "## Visualizing topic models\n",
        "An important part in exploratory analysis in the interpretation of results.\n",
        "Visualizing the topics for a topic model can help a lot.\n",
        "\n",
        "We use the LDAvis library that provides methods for visualizing and evluating topics models.\n",
        "\n",
        "The next two visualizations are for the same models we checked the top words above."
      ]
    },
    {
      "cell_type": "code",
      "metadata": {
        "id": "m70DRJppsODf",
        "colab": {
          "base_uri": "https://localhost:8080/"
        },
        "outputId": "1e103cb7-25bd-43b9-d81e-c4a7bef1c57e"
      },
      "source": [
        "import pyLDAvis.gensim_models"
      ],
      "execution_count": 48,
      "outputs": [
        {
          "output_type": "stream",
          "name": "stderr",
          "text": [
            "/usr/local/lib/python3.10/dist-packages/ipykernel/ipkernel.py:283: DeprecationWarning: `should_run_async` will not call `transform_cell` automatically in the future. Please pass the result to `transformed_cell` argument and any exception that happen during thetransform in `preprocessing_exc_tuple` in IPython 7.17 and above.\n",
            "  and should_run_async(code)\n"
          ]
        }
      ]
    },
    {
      "cell_type": "code",
      "metadata": {
        "id": "aDcSiNAFGxgk",
        "colab": {
          "base_uri": "https://localhost:8080/",
          "height": 950
        },
        "outputId": "31572229-a1bb-43d1-88d4-3b9b3957d2e6"
      },
      "source": [
        "# visualizing topics for the model with 3 topics based on TFs\n",
        "lda_display1 = pyLDAvis.gensim_models.prepare(lda_bow_model3, corpus_bow, dictionary, sort_topics=False)\n",
        "pyLDAvis.display(lda_display1)"
      ],
      "execution_count": 49,
      "outputs": [
        {
          "output_type": "stream",
          "name": "stderr",
          "text": [
            "/usr/local/lib/python3.10/dist-packages/ipykernel/ipkernel.py:283: DeprecationWarning: `should_run_async` will not call `transform_cell` automatically in the future. Please pass the result to `transformed_cell` argument and any exception that happen during thetransform in `preprocessing_exc_tuple` in IPython 7.17 and above.\n",
            "  and should_run_async(code)\n",
            "/usr/local/lib/python3.10/dist-packages/pyLDAvis/_prepare.py:247: FutureWarning: In a future version of pandas all arguments of DataFrame.drop except for the argument 'labels' will be keyword-only.\n",
            "  by='saliency', ascending=False).head(R).drop('saliency', 1)\n"
          ]
        },
        {
          "output_type": "execute_result",
          "data": {
            "text/plain": [
              "<IPython.core.display.HTML object>"
            ],
            "text/html": [
              "\n",
              "<link rel=\"stylesheet\" type=\"text/css\" href=\"https://cdn.jsdelivr.net/gh/bmabey/pyLDAvis@3.3.1/pyLDAvis/js/ldavis.v1.0.0.css\">\n",
              "\n",
              "\n",
              "<div id=\"ldavis_el1371334155476660167370675127\"></div>\n",
              "<script type=\"text/javascript\">\n",
              "\n",
              "var ldavis_el1371334155476660167370675127_data = {\"mdsDat\": {\"x\": [-0.05645661621888105, -0.05764970041914633, 0.11410631663802738], \"y\": [0.08727412663061383, -0.08666788655030117, -0.0006062400803127107], \"topics\": [1, 2, 3], \"cluster\": [1, 1, 1], \"Freq\": [33.18090021938299, 31.722297918190602, 35.09680186242641]}, \"tinfo\": {\"Term\": [\"good\", \"service\", \"food\", \"place\", \"great\", \"pretty\", \"time\", \"nice\", \"way\", \"like\", \"burger\", \"chicken\", \"recommend\", \"steak\", \"atmosphere\", \"amazing\", \"selection\", \"experience\", \"lunch\", \"waited\", \"want\", \"won\", \"think\", \"vegas\", \"worst\", \"quality\", \"town\", \"eat\", \"terrible\", \"meal\", \"atmosphere\", \"waited\", \"waste\", \"places\", \"steaks\", \"leave\", \"terrible\", \"steak\", \"happy\", \"fun\", \"list\", \"point\", \"perfectly\", \"care\", \"stay\", \"wow\", \"sucks\", \"couldn\", \"rice\", \"subway\", \"reviews\", \"soon\", \"pleased\", \"years\", \"ago\", \"anytime\", \"said\", \"equally\", \"rude\", \"cooked\", \"service\", \"loved\", \"great\", \"slow\", \"won\", \"time\", \"restaurant\", \"minutes\", \"wait\", \"fantastic\", \"times\", \"sauce\", \"eating\", \"going\", \"eat\", \"staff\", \"day\", \"stars\", \"place\", \"vegas\", \"good\", \"went\", \"food\", \"friendly\", \"bad\", \"experience\", \"best\", \"came\", \"recommend\", \"town\", \"burger\", \"pretty\", \"deal\", \"lunch\", \"owners\", \"world\", \"big\", \"stop\", \"edible\", \"maybe\", \"flavorful\", \"lacking\", \"fine\", \"quickly\", \"expected\", \"believe\", \"pork\", \"desserts\", \"tip\", \"brought\", \"ambience\", \"soup\", \"interesting\", \"course\", \"pulled\", \"regular\", \"texture\", \"want\", \"know\", \"spot\", \"place\", \"flavor\", \"worst\", \"think\", \"getting\", \"disappointed\", \"fries\", \"twice\", \"wonderful\", \"experience\", \"definitely\", \"like\", \"vegas\", \"delicious\", \"perfect\", \"time\", \"night\", \"people\", \"best\", \"come\", \"great\", \"service\", \"friendly\", \"food\", \"amazing\", \"eat\", \"bad\", \"way\", \"selection\", \"waiter\", \"real\", \"seafood\", \"check\", \"tea\", \"house\", \"chicken\", \"sad\", \"pasta\", \"cafe\", \"meal\", \"clean\", \"nice\", \"green\", \"homemade\", \"salsa\", \"priced\", \"soggy\", \"wings\", \"pita\", \"deserves\", \"watched\", \"wife\", \"hot\", \"delish\", \"white\", \"enjoyed\", \"overpriced\", \"good\", \"quality\", \"food\", \"salad\", \"got\", \"awesome\", \"tasty\", \"breakfast\", \"wasn\", \"amazing\", \"beer\", \"like\", \"taste\", \"prices\", \"love\", \"pizza\", \"took\", \"better\", \"staff\", \"place\", \"menu\", \"restaurant\", \"best\", \"came\", \"friendly\", \"delicious\"], \"Freq\": [70.0, 62.0, 92.0, 75.0, 51.0, 15.0, 31.0, 19.0, 11.0, 34.0, 9.0, 13.0, 7.0, 10.0, 8.0, 18.0, 8.0, 15.0, 7.0, 8.0, 10.0, 13.0, 12.0, 16.0, 11.0, 10.0, 5.0, 14.0, 7.0, 8.0, 7.7691991848122175, 7.1064606900808585, 3.872795997617173, 3.7848216285128626, 3.1509763651594374, 3.146939359759293, 6.2932594953928165, 9.348763987071353, 5.557467523271689, 3.0394749478072125, 2.4269547629478567, 2.4254716919579513, 2.425192931568785, 2.4238214012454025, 2.422075817197461, 2.420262505510763, 2.419539590552611, 2.4147818608457032, 3.0172478686039943, 2.4138842414393316, 2.4107419345770413, 6.008769457520464, 2.3660698063574657, 2.3558531559450993, 2.352179798675419, 3.53001528206107, 5.280517707478, 2.340157868964779, 5.213883568873196, 4.61389628316081, 44.21432589244066, 6.033898419596102, 32.87887038432439, 6.279884108232747, 8.96542555171154, 16.990062720792523, 10.827460246154414, 8.641572794367816, 6.748946383503917, 5.9636277996866545, 6.282192324578927, 5.128915138582252, 4.381003022546574, 7.519840258146095, 7.470929584598648, 7.329774232173888, 4.683759807020592, 6.162351279945577, 17.273550535654707, 6.92648699505473, 12.509936739117816, 5.405184757119861, 12.974752071564124, 6.735460733557301, 5.86825925192957, 5.932693246323353, 6.437066266214596, 5.49551517179233, 7.308563620040374, 5.2375004793123, 8.505305867326184, 13.70446434025582, 5.096628407010704, 6.861175054614307, 3.085361468964571, 2.3839335497895426, 2.3832172812896952, 2.383219026583311, 2.3824919372630466, 2.381058353087183, 2.380844729148632, 2.3807939411044177, 2.3796432690236444, 2.3796380331427973, 2.3789151325272107, 2.3782231236086204, 2.967812802424572, 2.3731343710135797, 2.3704427791995824, 2.359807308964764, 2.3442686108462443, 2.9201737914809023, 2.333370473922276, 2.3322629105938084, 2.32695756706107, 2.315270208364122, 2.2992627243804487, 8.004885508213567, 6.6005706044008585, 4.896293134049026, 45.21760314748315, 6.932846584115597, 7.73569142094152, 8.134958750797923, 4.699394693275212, 9.165207666446225, 5.0946401685237985, 3.7739443761874156, 4.187710209167434, 8.87902070241513, 8.462054699061525, 16.01592561983323, 8.954405518612997, 8.965795304748482, 5.0016205565750615, 13.064858909650457, 5.480643615960271, 4.4681600440252875, 9.358279027379725, 5.028731249482537, 14.348525156403117, 15.207372974766809, 8.012638800571564, 18.044994203699886, 7.2996277167284385, 6.529469436853151, 5.235129323406129, 10.827443077651873, 7.427553905145143, 5.363972886127418, 3.9127310133815243, 3.9046967096628182, 5.115492232062278, 3.1751144259338524, 3.1726395251752804, 11.418177578041396, 3.169061085535907, 3.795651620626214, 3.1365932917347608, 7.454894636065616, 6.188327822701284, 15.933335776569761, 2.446763123896069, 2.4443403588326538, 2.443177732830675, 2.440909636996222, 2.4400229439882355, 3.0485546397523424, 2.4309300925626958, 2.4287112359958902, 2.426828751210424, 2.4262417419020013, 6.060965339909539, 2.4100238719003095, 2.4079004043461225, 3.586583621147333, 4.779043985036266, 54.788038015172674, 8.643786215073538, 60.99810835370568, 8.83905717866247, 9.092004123945973, 6.5775991836786805, 6.138598865709825, 5.688438033264576, 6.768430503182329, 10.533823338720673, 4.637180441374799, 16.178507938039335, 6.459721921692316, 5.296700074620799, 7.572915174666075, 6.760060986253287, 4.565539044804443, 6.411236883768245, 6.78613964716065, 13.351356796334949, 5.893224726695314, 6.995066300977108, 6.6895016950001684, 5.989768448414179, 5.564903469068284, 5.455216917886093], \"Total\": [70.0, 62.0, 92.0, 75.0, 51.0, 15.0, 31.0, 19.0, 11.0, 34.0, 9.0, 13.0, 7.0, 10.0, 8.0, 18.0, 8.0, 15.0, 7.0, 8.0, 10.0, 13.0, 12.0, 16.0, 11.0, 10.0, 5.0, 14.0, 7.0, 8.0, 8.745142202981668, 8.014729542102133, 4.37190394590281, 4.370224992207156, 3.6428761644171965, 3.642883473061818, 7.287062753990615, 10.923323272716896, 6.550193826695191, 3.6426321213244073, 2.913821156710041, 2.9138260897209083, 2.913809797093349, 2.913776986106663, 2.913757280386567, 2.9136779572707887, 2.913711005336487, 2.913758454523998, 3.6409624815976818, 2.913901194856359, 2.9139164976792475, 7.281373675483451, 2.9132761943146237, 2.914190908541701, 2.9142251242442607, 4.374584507700521, 6.547103323823976, 2.9122168440371876, 6.556038886641414, 5.817238721779806, 62.45091637762645, 8.027180687062916, 51.54001042547817, 8.717909787003943, 13.774539884753585, 31.123088179938016, 18.989686940279512, 14.5274159840938, 10.92460495001183, 9.442794501097776, 10.178932474226597, 7.981489505926595, 6.53413765924479, 13.805565162726813, 14.46725886878172, 14.625425385626198, 7.251630156538462, 11.695276757105677, 75.84251047947281, 16.61291112739561, 70.3665213664448, 10.128244645639382, 92.0178546289697, 20.31300300319715, 13.77870107013394, 15.152935049697755, 22.484846988594487, 15.288727996261173, 7.890187536365806, 5.740001518210689, 9.327049058138376, 15.071888153589107, 5.743613092807658, 7.901106772414241, 3.591497394385613, 2.8751065095262986, 2.875115793283675, 2.875118970211798, 2.8751324757701995, 2.875140449617285, 2.875142970369595, 2.875157221725419, 2.875172890674336, 2.8751706368592878, 2.875190286, 2.8752075225966744, 3.593587805096433, 2.8752563005679734, 2.8753166893843316, 2.875560139195109, 2.875788044015284, 3.5958581975636994, 2.875984698916699, 2.876009865397547, 2.8764376387006743, 2.876268559789088, 2.877174386298362, 10.06653011121274, 8.637672114727387, 6.482939819915314, 75.84251047947281, 10.086728726307674, 11.527676159879626, 12.249746130775643, 6.487703362959046, 14.447328699032234, 7.213205780593806, 5.043140092680797, 5.759690136269732, 15.152935049697755, 14.45515281831706, 34.10467371867013, 16.61291112739561, 17.378572143077623, 7.9504440510216146, 31.123088179938016, 9.384243289410604, 7.213110726916654, 22.484846988594487, 8.660020255415327, 51.54001042547817, 62.45091637762645, 20.31300300319715, 92.0178546289697, 18.177694966397627, 14.46725886878172, 13.77870107013394, 11.740787539926293, 8.071872232405388, 5.870184405721281, 4.400689170345567, 4.4005970844271705, 5.864537965940886, 3.665726238580853, 3.665676959644522, 13.194300309532919, 3.665626479996198, 4.399546795121647, 3.665416444183725, 8.798024406837254, 7.328683316174366, 19.061654093994477, 2.931035095337966, 2.9310170908640747, 2.930943836361273, 2.9309129873118973, 2.9308980724900358, 3.662428813640038, 2.9307259905599063, 2.930557364025962, 2.930647982323574, 2.930619147761651, 7.332169547176295, 2.9300987487628176, 2.9300314731374715, 4.392900971679299, 5.865366972213024, 70.3665213664448, 10.998631234684757, 92.0178546289697, 11.723333394643388, 13.902747240071374, 9.483957577467478, 8.76025077931432, 8.054945903276796, 10.244633032527934, 18.177694966397627, 6.567768141041359, 34.10467371867013, 10.199300315126429, 8.017699848834994, 13.827497927705261, 11.700257042906467, 6.590711450562429, 12.424856099128064, 14.625425385626198, 75.84251047947281, 11.695139844773063, 18.989686940279512, 22.484846988594487, 15.288727996261173, 20.31300300319715, 17.378572143077623], \"Category\": [\"Default\", \"Default\", \"Default\", \"Default\", \"Default\", \"Default\", \"Default\", \"Default\", \"Default\", \"Default\", \"Default\", \"Default\", \"Default\", \"Default\", \"Default\", \"Default\", \"Default\", \"Default\", \"Default\", \"Default\", \"Default\", \"Default\", \"Default\", \"Default\", \"Default\", \"Default\", \"Default\", \"Default\", \"Default\", \"Default\", \"Topic1\", \"Topic1\", \"Topic1\", \"Topic1\", \"Topic1\", \"Topic1\", \"Topic1\", \"Topic1\", \"Topic1\", \"Topic1\", \"Topic1\", \"Topic1\", \"Topic1\", \"Topic1\", \"Topic1\", \"Topic1\", \"Topic1\", \"Topic1\", \"Topic1\", \"Topic1\", \"Topic1\", \"Topic1\", \"Topic1\", \"Topic1\", \"Topic1\", \"Topic1\", \"Topic1\", \"Topic1\", \"Topic1\", \"Topic1\", \"Topic1\", \"Topic1\", \"Topic1\", \"Topic1\", \"Topic1\", \"Topic1\", \"Topic1\", \"Topic1\", \"Topic1\", \"Topic1\", \"Topic1\", \"Topic1\", \"Topic1\", \"Topic1\", \"Topic1\", \"Topic1\", \"Topic1\", \"Topic1\", \"Topic1\", \"Topic1\", \"Topic1\", \"Topic1\", \"Topic1\", \"Topic1\", \"Topic1\", \"Topic1\", \"Topic1\", \"Topic1\", \"Topic2\", \"Topic2\", \"Topic2\", \"Topic2\", \"Topic2\", \"Topic2\", \"Topic2\", \"Topic2\", \"Topic2\", \"Topic2\", \"Topic2\", \"Topic2\", \"Topic2\", \"Topic2\", \"Topic2\", \"Topic2\", \"Topic2\", \"Topic2\", \"Topic2\", \"Topic2\", \"Topic2\", \"Topic2\", \"Topic2\", \"Topic2\", \"Topic2\", \"Topic2\", \"Topic2\", \"Topic2\", \"Topic2\", \"Topic2\", \"Topic2\", \"Topic2\", \"Topic2\", \"Topic2\", \"Topic2\", \"Topic2\", \"Topic2\", \"Topic2\", \"Topic2\", \"Topic2\", \"Topic2\", \"Topic2\", \"Topic2\", \"Topic2\", \"Topic2\", \"Topic2\", \"Topic2\", \"Topic2\", \"Topic2\", \"Topic2\", \"Topic2\", \"Topic2\", \"Topic2\", \"Topic2\", \"Topic2\", \"Topic2\", \"Topic2\", \"Topic2\", \"Topic2\", \"Topic3\", \"Topic3\", \"Topic3\", \"Topic3\", \"Topic3\", \"Topic3\", \"Topic3\", \"Topic3\", \"Topic3\", \"Topic3\", \"Topic3\", \"Topic3\", \"Topic3\", \"Topic3\", \"Topic3\", \"Topic3\", \"Topic3\", \"Topic3\", \"Topic3\", \"Topic3\", \"Topic3\", \"Topic3\", \"Topic3\", \"Topic3\", \"Topic3\", \"Topic3\", \"Topic3\", \"Topic3\", \"Topic3\", \"Topic3\", \"Topic3\", \"Topic3\", \"Topic3\", \"Topic3\", \"Topic3\", \"Topic3\", \"Topic3\", \"Topic3\", \"Topic3\", \"Topic3\", \"Topic3\", \"Topic3\", \"Topic3\", \"Topic3\", \"Topic3\", \"Topic3\", \"Topic3\", \"Topic3\", \"Topic3\", \"Topic3\", \"Topic3\", \"Topic3\", \"Topic3\", \"Topic3\", \"Topic3\", \"Topic3\"], \"logprob\": [30.0, 29.0, 28.0, 27.0, 26.0, 25.0, 24.0, 23.0, 22.0, 21.0, 20.0, 19.0, 18.0, 17.0, 16.0, 15.0, 14.0, 13.0, 12.0, 11.0, 10.0, 9.0, 8.0, 7.0, 6.0, 5.0, 4.0, 3.0, 2.0, 1.0, -5.3075, -5.3966, -6.0037, -6.0266, -6.2099, -6.2112, -5.5182, -5.1224, -5.6425, -6.246, -6.471, -6.4716, -6.4717, -6.4723, -6.473, -6.4738, -6.4741, -6.476, -6.2533, -6.4764, -6.4777, -5.5644, -6.4964, -6.5007, -6.5023, -6.0963, -5.6936, -6.5074, -5.7063, -5.8286, -3.5686, -5.5602, -3.8648, -5.5203, -5.1643, -4.525, -4.9756, -5.2011, -5.4483, -5.572, -5.5199, -5.7227, -5.8804, -5.3401, -5.3466, -5.3657, -5.8135, -5.5392, -4.5085, -5.4223, -4.8311, -5.6703, -4.7946, -5.4503, -5.5881, -5.5772, -5.4956, -5.6537, -5.3236, -5.6568, -5.172, -4.695, -5.6841, -5.3868, -6.186, -6.4439, -6.4442, -6.4442, -6.4445, -6.4451, -6.4452, -6.4453, -6.4457, -6.4457, -6.446, -6.4463, -6.2249, -6.4485, -6.4496, -6.4541, -6.4607, -6.241, -6.4654, -6.4658, -6.4681, -6.4732, -6.4801, -5.2326, -5.4255, -5.7242, -3.5012, -5.3764, -5.2668, -5.2165, -5.7653, -5.0973, -5.6845, -5.9846, -5.8805, -5.129, -5.1771, -4.5391, -5.1205, -5.1193, -5.7029, -4.7428, -5.6115, -5.8157, -5.0764, -5.6975, -4.649, -4.5909, -5.2317, -4.4198, -5.3249, -5.4364, -5.6573, -5.0317, -5.4086, -5.7341, -6.0495, -6.0516, -5.7815, -6.2584, -6.2592, -4.9786, -6.2603, -6.0799, -6.2706, -5.4049, -5.5911, -4.6454, -6.519, -6.52, -6.5205, -6.5214, -6.5218, -6.2991, -6.5255, -6.5264, -6.5272, -6.5274, -5.6119, -6.5341, -6.535, -6.1366, -5.8495, -3.4103, -5.2569, -3.3029, -5.2346, -5.2064, -5.5301, -5.5992, -5.6753, -5.5015, -5.0592, -5.8797, -4.6301, -5.5482, -5.7467, -5.3892, -5.5027, -5.8952, -5.5557, -5.4989, -4.8222, -5.64, -5.4686, -5.5132, -5.6237, -5.6973, -5.7172], \"loglift\": [30.0, 29.0, 28.0, 27.0, 26.0, 25.0, 24.0, 23.0, 22.0, 21.0, 20.0, 19.0, 18.0, 17.0, 16.0, 15.0, 14.0, 13.0, 12.0, 11.0, 10.0, 9.0, 8.0, 7.0, 6.0, 5.0, 4.0, 3.0, 2.0, 1.0, 0.9849, 0.9829, 0.982, 0.9594, 0.9581, 0.9569, 0.9566, 0.9475, 0.9388, 0.9222, 0.9204, 0.9198, 0.9196, 0.9191, 0.9184, 0.9177, 0.9173, 0.9154, 0.9153, 0.9149, 0.9136, 0.9111, 0.8951, 0.8905, 0.8889, 0.8887, 0.8882, 0.8845, 0.8741, 0.8714, 0.7579, 0.8178, 0.6537, 0.7752, 0.6737, 0.4979, 0.5414, 0.5837, 0.6216, 0.6436, 0.6206, 0.661, 0.7034, 0.4957, 0.4423, 0.4124, 0.6661, 0.4625, -0.3763, 0.2284, -0.624, 0.4752, -0.8558, -0.0007, 0.2496, 0.1655, -0.1476, 0.08, 1.0716, 1.0565, 1.0559, 1.053, 1.0286, 1.007, 0.9962, 0.9608, 0.9605, 0.9605, 0.9602, 0.9596, 0.9595, 0.9595, 0.959, 0.959, 0.9587, 0.9584, 0.9568, 0.9562, 0.9551, 0.9505, 0.9438, 0.94, 0.9391, 0.9386, 0.9362, 0.9312, 0.9239, 0.919, 0.8792, 0.8675, 0.631, 0.7732, 0.7492, 0.7388, 0.8257, 0.6931, 0.8004, 0.8582, 0.8294, 0.6136, 0.6127, 0.3923, 0.5301, 0.4863, 0.6847, 0.2801, 0.6103, 0.6692, 0.2716, 0.6046, -0.1306, -0.2645, 0.2179, -0.481, 0.2358, 0.3526, 0.1804, 0.9661, 0.9639, 0.9569, 0.9295, 0.9275, 0.9104, 0.9034, 0.9026, 0.9025, 0.9015, 0.8994, 0.8913, 0.8814, 0.8779, 0.8678, 0.8665, 0.8655, 0.865, 0.8641, 0.8638, 0.8636, 0.8601, 0.8592, 0.8584, 0.8582, 0.8567, 0.8517, 0.8508, 0.8443, 0.8422, 0.7968, 0.8061, 0.6359, 0.7647, 0.6224, 0.6811, 0.6914, 0.6992, 0.6326, 0.5015, 0.699, 0.3013, 0.5903, 0.6325, 0.445, 0.4985, 0.6799, 0.3854, 0.2792, -0.69, 0.3617, 0.0484, -0.1652, 0.11, -0.2477, -0.1116]}, \"token.table\": {\"Topic\": [1, 2, 3, 2, 1, 3, 1, 3, 2, 3, 1, 2, 3, 2, 3, 2, 1, 2, 3, 1, 2, 3, 2, 1, 2, 3, 2, 2, 3, 1, 2, 3, 1, 3, 1, 2, 3, 1, 2, 3, 1, 2, 1, 2, 1, 2, 1, 2, 2, 1, 2, 3, 1, 2, 3, 3, 3, 2, 1, 2, 3, 1, 2, 1, 2, 2, 2, 3, 1, 2, 1, 2, 1, 2, 3, 2, 1, 2, 3, 2, 1, 2, 3, 1, 2, 3, 2, 3, 1, 2, 3, 1, 2, 3, 1, 2, 3, 1, 2, 3, 1, 2, 3, 3, 1, 2, 3, 1, 3, 3, 2, 1, 2, 3, 2, 1, 1, 2, 3, 1, 1, 2, 3, 1, 3, 2, 3, 2, 1, 2, 3, 1, 2, 3, 1, 2, 3, 1, 2, 3, 1, 2, 3, 1, 3, 2, 3, 1, 2, 2, 3, 1, 3, 1, 2, 3, 1, 2, 3, 1, 1, 1, 2, 2, 3, 3, 2, 3, 2, 1, 3, 2, 3, 2, 2, 1, 2, 3, 1, 1, 1, 2, 3, 3, 1, 2, 1, 2, 3, 3, 1, 2, 3, 3, 3, 1, 2, 3, 1, 2, 3, 3, 1, 2, 3, 2, 2, 3, 1, 2, 3, 1, 2, 3, 1, 1, 2, 3, 1, 2, 1, 1, 1, 2, 3, 1, 2, 3, 3, 1, 3, 2, 1, 2, 1, 2, 3, 1, 2, 3, 2, 1, 3, 2, 2, 3, 1, 2, 3, 1, 2, 3, 1, 3, 1, 2, 3, 1, 2, 3, 1, 3, 2, 3, 1, 2, 3, 3, 3, 1, 2, 1, 2, 2, 1, 2, 1, 1], \"Freq\": [0.6862887782283654, 0.3850873288907008, 0.6051372311139585, 0.6954615463271502, 0.9143725519438143, 0.22859313798595357, 0.9147935864636242, 0.11434919830795302, 0.31632364184415684, 0.738088497636366, 0.43545468977517165, 0.36287890814597634, 0.21772734488758583, 0.30451744901014244, 0.761293622525356, 0.6956019641301397, 0.26684637894327323, 0.4002695684149098, 0.31132077543381875, 0.4024191475626735, 0.0804838295125347, 0.4829029770752082, 0.6956241570068371, 0.24829465324979888, 0.12414732662489944, 0.7448839597493967, 0.69551666568859, 0.9649354199704774, 0.818460888601183, 0.3270383253088641, 0.2616306602470913, 0.392445990370637, 0.6863943292627774, 0.8525820838808088, 0.07579030161057478, 0.07579030161057478, 0.8336933177163225, 0.13645015848795175, 0.13645015848795175, 0.8187009509277106, 0.3464195130633817, 0.5773658551056361, 0.8595143227112109, 0.17190286454224216, 0.6863986947492966, 0.6954079066497022, 0.6895001388745301, 0.2758000555498121, 0.8705321753411915, 0.20753844927868945, 0.5534358647431719, 0.20753844927868945, 0.1726263800789287, 0.517879140236786, 0.2877106334648811, 0.6825708522091498, 0.6824640338220255, 0.6955901634247087, 0.0692169480484642, 0.6229525324361778, 0.2768677921938568, 0.4838511609897989, 0.4838511609897989, 0.6121695330891325, 0.30608476654456623, 0.6956201207612994, 0.22764000519176839, 0.9105600207670735, 0.6867620466158052, 0.6956061342230063, 0.39596289301851645, 0.5939443395277747, 0.635405122848164, 0.21180170761605469, 0.10590085380802734, 0.6956103427682656, 0.29742050980072043, 0.6939811895350143, 0.09914016993357348, 0.6956175816686093, 0.14127692992211155, 0.1956142106613852, 0.6629148250191388, 0.34460685103518374, 0.3938364011830671, 0.29537730088730035, 0.6931730706271892, 0.2772692282508757, 0.8235802848269081, 0.770688750744531, 0.1541377501489062, 0.5794764579141558, 0.2897382289570779, 0.21730367171780843, 0.1847469470929285, 0.042633910867598886, 0.7816216992393129, 0.2877129196789932, 0.0719282299197483, 0.6473540692777348, 0.6402792651296565, 0.2716336276307634, 0.07760960789450382, 0.6823527985663331, 0.9160034281042362, 0.1526672380173727, 0.6823569900816896, 0.13638528045019252, 0.8183116827011551, 0.8184027215237548, 0.6954139918593247, 0.11577193330770011, 0.8104035331539008, 0.11577193330770011, 0.6956141336854526, 0.8235234594200515, 0.05864298883191273, 0.46914391065530187, 0.46914391065530187, 0.6863839242138577, 0.14463932740808658, 0.36159831852021646, 0.5785573096323463, 0.7474604389645743, 0.24915347965485807, 0.8859518294879464, 0.12656454706970663, 0.6956181915447724, 0.11366188064025656, 0.11366188064025656, 0.795633164481796, 0.42752802158536496, 0.08550560431707299, 0.513033625902438, 0.6195182962926223, 0.27534146501894324, 0.13767073250947162, 0.104922688772855, 0.0524613443864275, 0.83938151018284, 0.3196848064867701, 0.5328080108112836, 0.10656160216225671, 0.1704923161223272, 0.852461580611636, 0.8353061886358966, 0.9091845561082162, 0.2772728820780113, 0.5545457641560226, 0.62889569034292, 0.377337414205752, 0.6863866001120205, 0.6824247665739321, 0.3418728311122948, 0.0854682077780737, 0.5982774544465159, 0.22414869830292794, 0.5933347896253974, 0.1714078281140037, 0.9152846837708976, 0.6865123203570883, 0.6863827621886534, 0.834820286217967, 0.9288816276589834, 0.06634868768992738, 0.6823812268252668, 0.24944810079047902, 0.6236202519761975, 0.695304488124911, 0.18184080885382317, 0.8182836398422043, 0.6956108880496615, 0.9089485408227316, 0.8871778988442367, 0.6953453609862692, 0.5792617874425101, 0.05266016249477364, 0.3686211374634155, 0.686361466292145, 0.8239579548437361, 0.7626556349731239, 0.1525311269946248, 0.1525311269946248, 0.818413991815967, 0.7636965162602081, 0.15273930325204163, 0.17059994224115793, 0.08529997112057897, 0.7676997400852107, 0.6823740445613494, 0.6264494861876706, 0.25057979447506823, 0.12528989723753411, 0.9089675612782631, 0.867208969425675, 0.7045533124596929, 0.24018862924762258, 0.04803772584952452, 0.6882383675206625, 0.22941278917355415, 0.11470639458677707, 0.6823846993426277, 0.8240203383878149, 0.1373367230646358, 0.1373367230646358, 0.8342931882109781, 0.7712550384379959, 0.15425100768759917, 0.47861855743899034, 0.06837407963414148, 0.47861855743899034, 0.513027620005195, 0.08550460333419915, 0.4275230166709958, 0.6863989713428227, 0.8239250798774063, 0.09154723109748959, 0.09154723109748959, 0.8235251116420954, 0.6956233883610974, 0.6863650708302723, 0.686409872611588, 0.09804594130020028, 0.29413782390060084, 0.5882756478012017, 0.11415198322419164, 0.22830396644838327, 0.6849118993451497, 0.8183917196068133, 0.823377017950644, 0.137229502991774, 0.6951264440293821, 0.3265373794115294, 0.6530747588230588, 0.5462182898340475, 0.41769633928485983, 0.03213048763729691, 0.5894527756414736, 0.19648425854715787, 0.19648425854715787, 0.6955755542977229, 0.30345737558110314, 0.7586434389527579, 0.871079908975117, 0.7931566298951865, 0.19828915747379663, 0.4213590228901311, 0.5417473151444543, 0.060194146127161584, 0.640755435279371, 0.18307298150839169, 0.18307298150839169, 0.873391917123134, 0.8517619983329366, 0.1986781917805295, 0.794712767122118, 0.09933909589026475, 0.29283625782149947, 0.09761208594049982, 0.6832846015834987, 0.9149331846022498, 0.6824429314141964, 0.08517316207276142, 0.9369047828003756, 0.4936689599172253, 0.39493516793378025, 0.6825865245257602, 0.6824496460168018, 0.8191285490183606, 0.653379356065584, 0.2903908249180373, 0.17362045115983457, 0.6944818046393383, 0.6956264031865446, 0.34699101054915205, 0.6939820210983041, 0.6864176581386431, 0.686296835988973], \"Term\": [\"ago\", \"amazing\", \"amazing\", \"ambience\", \"anytime\", \"anytime\", \"atmosphere\", \"atmosphere\", \"awesome\", \"awesome\", \"bad\", \"bad\", \"bad\", \"beer\", \"beer\", \"believe\", \"best\", \"best\", \"best\", \"better\", \"better\", \"better\", \"big\", \"breakfast\", \"breakfast\", \"breakfast\", \"brought\", \"burger\", \"cafe\", \"came\", \"came\", \"came\", \"care\", \"check\", \"chicken\", \"chicken\", \"chicken\", \"clean\", \"clean\", \"clean\", \"come\", \"come\", \"cooked\", \"cooked\", \"couldn\", \"course\", \"day\", \"day\", \"deal\", \"definitely\", \"definitely\", \"definitely\", \"delicious\", \"delicious\", \"delicious\", \"delish\", \"deserves\", \"desserts\", \"disappointed\", \"disappointed\", \"disappointed\", \"eat\", \"eat\", \"eating\", \"eating\", \"edible\", \"enjoyed\", \"enjoyed\", \"equally\", \"expected\", \"experience\", \"experience\", \"fantastic\", \"fantastic\", \"fantastic\", \"fine\", \"flavor\", \"flavor\", \"flavor\", \"flavorful\", \"food\", \"food\", \"food\", \"friendly\", \"friendly\", \"friendly\", \"fries\", \"fries\", \"fun\", \"getting\", \"getting\", \"going\", \"going\", \"going\", \"good\", \"good\", \"good\", \"got\", \"got\", \"got\", \"great\", \"great\", \"great\", \"green\", \"happy\", \"happy\", \"homemade\", \"hot\", \"hot\", \"house\", \"interesting\", \"know\", \"know\", \"know\", \"lacking\", \"leave\", \"like\", \"like\", \"like\", \"list\", \"love\", \"love\", \"love\", \"loved\", \"loved\", \"lunch\", \"lunch\", \"maybe\", \"meal\", \"meal\", \"meal\", \"menu\", \"menu\", \"menu\", \"minutes\", \"minutes\", \"minutes\", \"nice\", \"nice\", \"nice\", \"night\", \"night\", \"night\", \"overpriced\", \"overpriced\", \"owners\", \"pasta\", \"people\", \"people\", \"perfect\", \"perfect\", \"perfectly\", \"pita\", \"pizza\", \"pizza\", \"pizza\", \"place\", \"place\", \"place\", \"places\", \"pleased\", \"point\", \"pork\", \"pretty\", \"pretty\", \"priced\", \"prices\", \"prices\", \"pulled\", \"quality\", \"quality\", \"quickly\", \"real\", \"recommend\", \"regular\", \"restaurant\", \"restaurant\", \"restaurant\", \"reviews\", \"rice\", \"rude\", \"rude\", \"rude\", \"sad\", \"said\", \"said\", \"salad\", \"salad\", \"salad\", \"salsa\", \"sauce\", \"sauce\", \"sauce\", \"seafood\", \"selection\", \"service\", \"service\", \"service\", \"slow\", \"slow\", \"slow\", \"soggy\", \"soon\", \"soon\", \"soon\", \"soup\", \"spot\", \"spot\", \"staff\", \"staff\", \"staff\", \"stars\", \"stars\", \"stars\", \"stay\", \"steak\", \"steak\", \"steak\", \"steaks\", \"stop\", \"subway\", \"sucks\", \"taste\", \"taste\", \"taste\", \"tasty\", \"tasty\", \"tasty\", \"tea\", \"terrible\", \"terrible\", \"texture\", \"think\", \"think\", \"time\", \"time\", \"time\", \"times\", \"times\", \"times\", \"tip\", \"took\", \"took\", \"town\", \"twice\", \"twice\", \"vegas\", \"vegas\", \"vegas\", \"wait\", \"wait\", \"wait\", \"waited\", \"waiter\", \"want\", \"want\", \"want\", \"wasn\", \"wasn\", \"wasn\", \"waste\", \"watched\", \"way\", \"way\", \"went\", \"went\", \"white\", \"wife\", \"wings\", \"won\", \"won\", \"wonderful\", \"wonderful\", \"world\", \"worst\", \"worst\", \"wow\", \"years\"]}, \"R\": 30, \"lambda.step\": 0.01, \"plot.opts\": {\"xlab\": \"PC1\", \"ylab\": \"PC2\"}, \"topic.order\": [1, 2, 3]};\n",
              "\n",
              "function LDAvis_load_lib(url, callback){\n",
              "  var s = document.createElement('script');\n",
              "  s.src = url;\n",
              "  s.async = true;\n",
              "  s.onreadystatechange = s.onload = callback;\n",
              "  s.onerror = function(){console.warn(\"failed to load library \" + url);};\n",
              "  document.getElementsByTagName(\"head\")[0].appendChild(s);\n",
              "}\n",
              "\n",
              "if(typeof(LDAvis) !== \"undefined\"){\n",
              "   // already loaded: just create the visualization\n",
              "   !function(LDAvis){\n",
              "       new LDAvis(\"#\" + \"ldavis_el1371334155476660167370675127\", ldavis_el1371334155476660167370675127_data);\n",
              "   }(LDAvis);\n",
              "}else if(typeof define === \"function\" && define.amd){\n",
              "   // require.js is available: use it to load d3/LDAvis\n",
              "   require.config({paths: {d3: \"https://d3js.org/d3.v5\"}});\n",
              "   require([\"d3\"], function(d3){\n",
              "      window.d3 = d3;\n",
              "      LDAvis_load_lib(\"https://cdn.jsdelivr.net/gh/bmabey/pyLDAvis@3.3.1/pyLDAvis/js/ldavis.v3.0.0.js\", function(){\n",
              "        new LDAvis(\"#\" + \"ldavis_el1371334155476660167370675127\", ldavis_el1371334155476660167370675127_data);\n",
              "      });\n",
              "    });\n",
              "}else{\n",
              "    // require.js not available: dynamically load d3 & LDAvis\n",
              "    LDAvis_load_lib(\"https://d3js.org/d3.v5.js\", function(){\n",
              "         LDAvis_load_lib(\"https://cdn.jsdelivr.net/gh/bmabey/pyLDAvis@3.3.1/pyLDAvis/js/ldavis.v3.0.0.js\", function(){\n",
              "                 new LDAvis(\"#\" + \"ldavis_el1371334155476660167370675127\", ldavis_el1371334155476660167370675127_data);\n",
              "            })\n",
              "         });\n",
              "}\n",
              "</script>"
            ]
          },
          "metadata": {},
          "execution_count": 49
        }
      ]
    },
    {
      "cell_type": "code",
      "metadata": {
        "id": "wXxNSJbLsGr5",
        "colab": {
          "base_uri": "https://localhost:8080/",
          "height": 950
        },
        "outputId": "555bd0fd-6099-4662-80e3-d1d12a985d3f"
      },
      "source": [
        "# visualizing topics for the model with 3 topics based on TF-IDF\n",
        "lda_display2 = pyLDAvis.gensim_models.prepare(lda_tfidf_model3, corpus_tfidf, dictionary, sort_topics=False)\n",
        "pyLDAvis.display(lda_display2)"
      ],
      "execution_count": 52,
      "outputs": [
        {
          "output_type": "stream",
          "name": "stderr",
          "text": [
            "/usr/local/lib/python3.10/dist-packages/ipykernel/ipkernel.py:283: DeprecationWarning: `should_run_async` will not call `transform_cell` automatically in the future. Please pass the result to `transformed_cell` argument and any exception that happen during thetransform in `preprocessing_exc_tuple` in IPython 7.17 and above.\n",
            "  and should_run_async(code)\n",
            "/usr/local/lib/python3.10/dist-packages/pyLDAvis/_prepare.py:247: FutureWarning: In a future version of pandas all arguments of DataFrame.drop except for the argument 'labels' will be keyword-only.\n",
            "  by='saliency', ascending=False).head(R).drop('saliency', 1)\n"
          ]
        },
        {
          "output_type": "execute_result",
          "data": {
            "text/plain": [
              "<IPython.core.display.HTML object>"
            ],
            "text/html": [
              "\n",
              "<link rel=\"stylesheet\" type=\"text/css\" href=\"https://cdn.jsdelivr.net/gh/bmabey/pyLDAvis@3.3.1/pyLDAvis/js/ldavis.v1.0.0.css\">\n",
              "\n",
              "\n",
              "<div id=\"ldavis_el1371334155468809603402587342\"></div>\n",
              "<script type=\"text/javascript\">\n",
              "\n",
              "var ldavis_el1371334155468809603402587342_data = {\"mdsDat\": {\"x\": [0.05495643441154631, -0.0013107601821631275, -0.05364567422938317], \"y\": [0.027045790172554835, -0.056123715803744666, 0.02907792563118983], \"topics\": [1, 2, 3], \"cluster\": [1, 1, 1], \"Freq\": [34.98014272382888, 28.244247740714574, 36.77560953545654]}, \"tinfo\": {\"Term\": [\"place\", \"great\", \"good\", \"best\", \"awesome\", \"going\", \"soon\", \"wait\", \"pizza\", \"loved\", \"won\", \"cold\", \"slow\", \"fantastic\", \"overall\", \"perfect\", \"wasn\", \"come\", \"better\", \"eating\", \"probably\", \"terrible\", \"fresh\", \"delicious\", \"worst\", \"friendly\", \"return\", \"clean\", \"worth\", \"tasty\", \"awesome\", \"pizza\", \"loved\", \"wait\", \"authentic\", \"clean\", \"drive\", \"worth\", \"lot\", \"waste\", \"mediocre\", \"gone\", \"lacked\", \"thai\", \"interesting\", \"quick\", \"look\", \"beer\", \"joint\", \"insulted\", \"meh\", \"beans\", \"money\", \"place\", \"rated\", \"ago\", \"great\", \"beef\", \"pork\", \"margaritas\", \"love\", \"taste\", \"delicious\", \"recommend\", \"nice\", \"friendly\", \"price\", \"staff\", \"atmosphere\", \"like\", \"food\", \"lunch\", \"service\", \"pretty\", \"time\", \"restaurant\", \"good\", \"way\", \"eat\", \"cold\", \"soon\", \"anytime\", \"disappointment\", \"deserves\", \"return\", \"hour\", \"fried\", \"overall\", \"mistake\", \"brunch\", \"strip\", \"ambience\", \"going\", \"thumb\", \"perfect\", \"door\", \"sashimi\", \"cute\", \"cheese\", \"immediately\", \"come\", \"rice\", \"reasonably\", \"busy\", \"wasn\", \"seated\", \"simply\", \"completely\", \"fresh\", \"better\", \"warm\", \"leave\", \"definitely\", \"times\", \"poor\", \"special\", \"quality\", \"place\", \"impressed\", \"food\", \"service\", \"like\", \"stars\", \"won\", \"time\", \"delicious\", \"pretty\", \"amazing\", \"nice\", \"best\", \"slow\", \"eating\", \"people\", \"fantastic\", \"probably\", \"tasty\", \"rude\", \"enjoyed\", \"management\", \"buffet\", \"waitress\", \"terrible\", \"treated\", \"check\", \"kept\", \"chicken\", \"sucks\", \"gross\", \"average\", \"tea\", \"wings\", \"job\", \"fries\", \"chips\", \"left\", \"establishment\", \"gave\", \"wrong\", \"phoenix\", \"good\", \"worst\", \"won\", \"know\", \"selection\", \"experience\", \"think\", \"coming\", \"twice\", \"service\", \"food\", \"bad\", \"amazing\", \"vegas\", \"time\", \"disappointed\", \"great\", \"eat\"], \"Freq\": [14.0, 12.0, 15.0, 5.0, 4.0, 4.0, 2.0, 3.0, 3.0, 3.0, 5.0, 2.0, 3.0, 3.0, 2.0, 2.0, 3.0, 3.0, 3.0, 2.0, 3.0, 3.0, 2.0, 5.0, 4.0, 5.0, 1.0, 2.0, 3.0, 3.0, 3.842507362430268, 2.902412773566751, 2.7799071932930746, 3.180321279626174, 1.7103037679329627, 2.2275291814485176, 1.4712715324639647, 2.38084359086694, 1.6124675367249324, 1.6620380391886058, 1.8112095765108356, 1.1404387625930121, 1.09780051102518, 1.4646721851233635, 1.0781808363370293, 1.3182023476287454, 1.0489764998466262, 1.808580183367956, 1.0260460899481032, 1.1865818956664418, 1.022663048052999, 1.0407045825793306, 1.9142095948957754, 10.521197503267391, 0.9942518077187521, 0.9276340893123804, 8.720507614034265, 1.2198691604660323, 1.1102322993730427, 0.8993269575905714, 2.8731533733805508, 1.800855324325079, 3.80586958967696, 2.2605556867078933, 3.1461144429732864, 3.5014911435658393, 1.6152365004763611, 2.4701175393807975, 2.208848192304229, 3.8196324229018095, 6.648666193028335, 2.0218239021876023, 5.448629316557416, 2.4976308429327694, 3.4498021935087655, 2.372757442404963, 3.75680027258035, 1.9784597370525776, 1.8516027421184194, 1.9646331902159249, 2.2932216127502634, 1.4213315595317413, 1.290081571523072, 1.2821069309374198, 1.519857741571027, 1.3627342709026122, 1.2850801984814766, 2.083799657107921, 1.1654559926050287, 1.126918967205844, 1.0386509325281612, 0.9984047084475782, 3.010305917572864, 1.127070539885344, 2.099673020593999, 0.9115682081146707, 0.9102179766196447, 0.8826376594970721, 0.8799194648677372, 0.8677555603196478, 2.2256004958718374, 1.1635513518550897, 0.8021683938124501, 0.894474185445808, 2.1411708357170043, 1.1313210108396763, 0.7864985501416971, 0.7546058326727781, 1.9491839412723992, 2.355589173272848, 1.0997158086180931, 0.9994576394572937, 2.405777330481155, 1.7140449354324294, 1.1777067165128663, 1.2361957764696314, 1.457937543740277, 2.622185026619067, 1.2233662130483134, 2.1548741092458044, 2.0536754408028908, 1.6170306711693347, 1.3530374284334212, 1.424126197228207, 1.4790645949276728, 1.4068030423761662, 1.3061284423831705, 1.3309522119973665, 1.2586456079475337, 4.891699058674114, 2.9204946338460878, 2.512479140545583, 2.0694009394394546, 3.2396411732185366, 2.7469453293573, 2.4921924955742205, 1.8235482892445773, 1.4447290305621543, 1.6836579665921583, 2.36477511957332, 2.1074499853146604, 3.0066500254015596, 1.2129689647858306, 2.031859136647194, 1.1593484455643017, 2.4945087802388874, 1.1572561106019663, 1.1601570245582875, 1.4652455253998276, 1.0998050168041273, 1.1122824954656583, 1.0708819854311584, 2.0655379567160717, 1.460667682229139, 1.4151343211014358, 1.2031268927015675, 1.0366019472037868, 1.4498230098165674, 1.071361352377043, 10.543404909228453, 2.9539343690093838, 3.962710544321042, 2.3624694381018903, 2.135694497830049, 3.3237114981296183, 2.75622654382507, 1.9853651604160178, 1.3672758678179087, 6.236193538273035, 6.783544738811936, 2.4749082644815417, 2.7698702882331085, 2.1764945592926614, 2.7517427612395533, 2.110172440688024, 2.7561996938034845, 2.0322677016253308], \"Total\": [14.0, 12.0, 15.0, 5.0, 4.0, 4.0, 2.0, 3.0, 3.0, 3.0, 5.0, 2.0, 3.0, 3.0, 2.0, 2.0, 3.0, 3.0, 3.0, 2.0, 3.0, 3.0, 2.0, 5.0, 4.0, 5.0, 1.0, 2.0, 3.0, 3.0, 4.371161767712632, 3.3537410541525166, 3.2390843767508315, 3.774911693971342, 2.0680087233621998, 2.7614489254122967, 1.8502546739445034, 3.0123316693672533, 2.0617597688295994, 2.1664449012892697, 2.367264523542744, 1.497557778959152, 1.4536484598746457, 1.946058107294841, 1.4335133317254276, 1.7550850822898016, 1.4036190685918948, 2.4336518229667767, 1.3828454452779722, 1.6001059153752566, 1.3794083291689276, 1.4041124706498698, 2.5875523004076078, 14.239204679475922, 1.3548426562303324, 1.2830051653804522, 12.111463348778758, 1.6985814209400467, 1.5483640826502614, 1.2548896784027659, 4.104056163674234, 2.555052708829168, 5.848998561923589, 3.369203242070634, 4.942184140055501, 5.638407995978405, 2.342309208215468, 4.050790907282117, 3.537645963120554, 7.267257034202826, 15.587085041086077, 3.259247484097032, 13.738498295633342, 4.548382382981695, 7.680609549675991, 5.043348398705926, 15.122469236457025, 3.624089181128114, 4.2041687995314145, 2.3844608242233587, 2.8363578565878367, 1.8117728002694529, 1.6615423840857708, 1.655648477442585, 1.9786605013160936, 1.7905663225256756, 1.6952747747242725, 2.7560242889255635, 1.5414356635378146, 1.5136768836562111, 1.4059022509009125, 1.3639929784419382, 4.113206757593009, 1.5438444569421128, 2.886855602901582, 1.277914827944219, 1.2765668576766682, 1.2487612644880552, 1.2464110948275453, 1.232665306266826, 3.2118448009057037, 1.6878795462291156, 1.1662108271961376, 1.3030312221194862, 3.1461511520922416, 1.6704698098468327, 1.1651432098159105, 1.1216071534052252, 2.901926414774906, 3.7257397058089032, 1.6893118967841376, 1.5306886299474538, 4.898520728208502, 3.324467392661644, 2.037215651688122, 2.27017799054449, 3.267469051999112, 14.239204679475922, 2.692366750708538, 15.587085041086077, 13.738498295633342, 7.267257034202826, 3.8071853406353973, 5.64091041447331, 7.680609549675991, 5.848998561923589, 4.548382382981695, 5.649047865614245, 4.942184140055501, 5.601080310587685, 3.353744825173804, 2.930288532271604, 2.432021844212451, 3.9144632135571893, 3.3374612696215236, 3.065203790480628, 2.2610391170478, 1.8067813831578718, 2.115495201297965, 2.971585385659422, 2.648326612439664, 3.8095695872355604, 1.572276600564902, 2.6487333779181697, 1.5156312983400588, 3.2642105273619757, 1.515382684404369, 1.5225590670460545, 1.938315049750436, 1.4563769789818881, 1.4799348822819756, 1.4250223427424262, 2.7489927172888335, 1.9492586105100196, 1.8954755556993161, 1.6139648123960242, 1.391380446774125, 1.9558238172635183, 1.4453808307175093, 15.122469236457025, 4.102392537928779, 5.64091041447331, 3.337013536715058, 3.131876246249142, 5.2442714666130605, 4.36150645855711, 2.962996718879216, 1.8728935243523965, 13.738498295633342, 15.587085041086077, 4.454403179067663, 5.649047865614245, 4.199601679491639, 7.680609549675991, 4.570894070488954, 12.111463348778758, 4.2041687995314145], \"Category\": [\"Default\", \"Default\", \"Default\", \"Default\", \"Default\", \"Default\", \"Default\", \"Default\", \"Default\", \"Default\", \"Default\", \"Default\", \"Default\", \"Default\", \"Default\", \"Default\", \"Default\", \"Default\", \"Default\", \"Default\", \"Default\", \"Default\", \"Default\", \"Default\", \"Default\", \"Default\", \"Default\", \"Default\", \"Default\", \"Default\", \"Topic1\", \"Topic1\", \"Topic1\", \"Topic1\", \"Topic1\", \"Topic1\", \"Topic1\", \"Topic1\", \"Topic1\", \"Topic1\", \"Topic1\", \"Topic1\", \"Topic1\", \"Topic1\", \"Topic1\", \"Topic1\", \"Topic1\", \"Topic1\", \"Topic1\", \"Topic1\", \"Topic1\", \"Topic1\", \"Topic1\", \"Topic1\", \"Topic1\", \"Topic1\", \"Topic1\", \"Topic1\", \"Topic1\", \"Topic1\", \"Topic1\", \"Topic1\", \"Topic1\", \"Topic1\", \"Topic1\", \"Topic1\", \"Topic1\", \"Topic1\", \"Topic1\", \"Topic1\", \"Topic1\", \"Topic1\", \"Topic1\", \"Topic1\", \"Topic1\", \"Topic1\", \"Topic1\", \"Topic1\", \"Topic1\", \"Topic2\", \"Topic2\", \"Topic2\", \"Topic2\", \"Topic2\", \"Topic2\", \"Topic2\", \"Topic2\", \"Topic2\", \"Topic2\", \"Topic2\", \"Topic2\", \"Topic2\", \"Topic2\", \"Topic2\", \"Topic2\", \"Topic2\", \"Topic2\", \"Topic2\", \"Topic2\", \"Topic2\", \"Topic2\", \"Topic2\", \"Topic2\", \"Topic2\", \"Topic2\", \"Topic2\", \"Topic2\", \"Topic2\", \"Topic2\", \"Topic2\", \"Topic2\", \"Topic2\", \"Topic2\", \"Topic2\", \"Topic2\", \"Topic2\", \"Topic2\", \"Topic2\", \"Topic2\", \"Topic2\", \"Topic2\", \"Topic2\", \"Topic2\", \"Topic2\", \"Topic2\", \"Topic2\", \"Topic2\", \"Topic2\", \"Topic2\", \"Topic3\", \"Topic3\", \"Topic3\", \"Topic3\", \"Topic3\", \"Topic3\", \"Topic3\", \"Topic3\", \"Topic3\", \"Topic3\", \"Topic3\", \"Topic3\", \"Topic3\", \"Topic3\", \"Topic3\", \"Topic3\", \"Topic3\", \"Topic3\", \"Topic3\", \"Topic3\", \"Topic3\", \"Topic3\", \"Topic3\", \"Topic3\", \"Topic3\", \"Topic3\", \"Topic3\", \"Topic3\", \"Topic3\", \"Topic3\", \"Topic3\", \"Topic3\", \"Topic3\", \"Topic3\", \"Topic3\", \"Topic3\", \"Topic3\", \"Topic3\", \"Topic3\", \"Topic3\", \"Topic3\", \"Topic3\", \"Topic3\", \"Topic3\", \"Topic3\", \"Topic3\", \"Topic3\", \"Topic3\"], \"logprob\": [30.0, 29.0, 28.0, 27.0, 26.0, 25.0, 24.0, 23.0, 22.0, 21.0, 20.0, 19.0, 18.0, 17.0, 16.0, 15.0, 14.0, 13.0, 12.0, 11.0, 10.0, 9.0, 8.0, 7.0, 6.0, 5.0, 4.0, 3.0, 2.0, 1.0, -5.203, -5.4836, -5.5267, -5.3922, -6.0125, -5.7483, -6.163, -5.6817, -6.0714, -6.0411, -5.9552, -6.4178, -6.4559, -6.1675, -6.4739, -6.2729, -6.5014, -5.9566, -6.5235, -6.3781, -6.5268, -6.5093, -5.8999, -4.1958, -6.5549, -6.6243, -4.3835, -6.3504, -6.4446, -6.6553, -5.4938, -5.9609, -5.2126, -5.7336, -5.403, -5.296, -6.0697, -5.6449, -5.7567, -5.209, -4.6547, -5.8452, -4.8538, -5.6338, -5.3108, -5.6851, -5.2256, -5.8668, -5.9331, -5.66, -5.5053, -5.9837, -6.0806, -6.0868, -5.9167, -6.0258, -6.0845, -5.6011, -6.1822, -6.2158, -6.2974, -6.3369, -5.2332, -6.2157, -5.5935, -6.4279, -6.4293, -6.4601, -6.4632, -6.4771, -5.5352, -6.1838, -6.5557, -6.4468, -5.5739, -6.2119, -6.5754, -6.6168, -5.6679, -5.4785, -6.2402, -6.3358, -5.4574, -5.7964, -6.1717, -6.1232, -5.9583, -5.3713, -6.1337, -5.5675, -5.6156, -5.8547, -6.0329, -5.9817, -5.9439, -5.994, -6.0682, -6.0494, -6.1052, -5.0117, -5.5275, -5.678, -5.872, -5.4238, -5.5887, -5.6861, -5.9984, -6.2313, -6.0783, -5.7385, -5.8537, -5.4984, -6.4061, -5.8903, -6.4514, -5.6851, -6.4532, -6.4507, -6.2172, -6.5041, -6.4928, -6.5307, -5.8738, -6.2203, -6.252, -6.4143, -6.5633, -6.2278, -6.5303, -4.2437, -5.5161, -5.2223, -5.7395, -5.8404, -5.3981, -5.5854, -5.9134, -6.2864, -4.7689, -4.6847, -5.693, -5.5804, -5.8215, -5.587, -5.8525, -5.5854, -5.8901], \"loglift\": [30.0, 29.0, 28.0, 27.0, 26.0, 25.0, 24.0, 23.0, 22.0, 21.0, 20.0, 19.0, 18.0, 17.0, 16.0, 15.0, 14.0, 13.0, 12.0, 11.0, 10.0, 9.0, 8.0, 7.0, 6.0, 5.0, 4.0, 3.0, 2.0, 1.0, 0.9215, 0.9059, 0.8975, 0.879, 0.8605, 0.8355, 0.8212, 0.8151, 0.8046, 0.7853, 0.7826, 0.778, 0.7696, 0.7662, 0.7655, 0.7641, 0.7592, 0.7535, 0.752, 0.7514, 0.7511, 0.7509, 0.749, 0.7478, 0.7409, 0.7261, 0.7219, 0.7193, 0.7178, 0.7172, 0.6938, 0.7006, 0.6207, 0.6513, 0.5988, 0.574, 0.6787, 0.5557, 0.5794, 0.4072, 0.1984, 0.5729, 0.1256, 0.451, 0.25, 0.2964, -0.3422, 0.4451, 0.2304, 1.0706, 1.0517, 1.0216, 1.0112, 1.0086, 1.0005, 0.9912, 0.9873, 0.9847, 0.9847, 0.9692, 0.9615, 0.9523, 0.9521, 0.9496, 0.9459, 0.9265, 0.926, 0.9173, 0.9161, 0.9133, 0.8975, 0.8923, 0.8901, 0.8881, 0.8795, 0.8746, 0.8713, 0.868, 0.8663, 0.8058, 0.835, 0.838, 0.5532, 0.6018, 0.7163, 0.6565, 0.4573, -0.4277, 0.4755, -0.7144, -0.6363, -0.2385, 0.2297, -0.1122, -0.383, -0.1607, 0.0166, -0.1813, -0.1035, 0.8649, 0.862, 0.8465, 0.8389, 0.8111, 0.8056, 0.7934, 0.7853, 0.7767, 0.772, 0.7719, 0.7719, 0.7636, 0.7409, 0.7352, 0.7324, 0.7314, 0.7307, 0.7285, 0.7205, 0.7195, 0.7148, 0.7146, 0.7145, 0.7118, 0.7081, 0.7066, 0.706, 0.701, 0.7009, 0.6397, 0.6719, 0.6472, 0.655, 0.6175, 0.5443, 0.5414, 0.5999, 0.6857, 0.2105, 0.1684, 0.4126, 0.2876, 0.3431, -0.0261, 0.2274, -0.48, 0.2734]}, \"token.table\": {\"Topic\": [1, 1, 2, 3, 2, 2, 1, 2, 1, 3, 1, 1, 2, 3, 1, 1, 1, 3, 2, 3, 2, 3, 2, 3, 2, 2, 3, 3, 1, 2, 2, 3, 3, 2, 2, 1, 2, 3, 1, 2, 3, 2, 1, 2, 3, 2, 2, 1, 1, 3, 3, 3, 3, 1, 2, 3, 3, 1, 2, 3, 1, 2, 2, 1, 3, 3, 3, 1, 2, 1, 1, 2, 3, 1, 2, 3, 3, 2, 2, 1, 2, 3, 1, 1, 3, 1, 3, 1, 3, 1, 2, 3, 1, 2, 3, 1, 1, 1, 3, 1, 1, 3, 3, 1, 1, 1, 2, 1, 1, 2, 3, 2, 3, 2, 3, 3, 1, 1, 2, 3, 1, 2, 1, 1, 2, 3, 1, 3, 3, 2, 3, 1, 1, 2, 1, 3, 1, 2, 3, 2, 2, 3, 2, 2, 1, 3, 1, 2, 3, 2, 3, 2, 2, 3, 1, 2, 3, 1, 2, 3, 2, 3, 1, 3, 3, 1, 3, 1, 2, 3, 2, 1, 2, 3, 1, 2, 3, 3, 1, 2, 3, 1, 3, 2, 2, 3, 1, 1, 2, 3, 3, 2, 3, 2, 3, 1, 3], \"Freq\": [0.7794200888532417, 0.3540419638102202, 0.1770209819051101, 0.5310629457153303, 0.7331416039562607, 0.5519455860311385, 0.5653476975507753, 0.28267384877538765, 0.9671139088564239, 0.5159120031228943, 0.9150885308216685, 0.2244969662151927, 0.2244969662151927, 0.4489939324303854, 0.7121936603391656, 0.5887265618662952, 0.8218102446396266, 0.8926849326813853, 0.536806153387942, 0.268403076693971, 0.6606429752593894, 0.6730414039764103, 0.7674413191522907, 0.7550778861600423, 0.802303512982096, 0.30635278932458015, 0.6127055786491603, 0.5130155612027036, 0.7242574655627176, 0.8387640424545112, 0.622695093933562, 0.311347546966781, 0.674992310067937, 0.8915777658549849, 0.8007935771534057, 0.20414326191199406, 0.4082865238239881, 0.4082865238239881, 0.6838777540551318, 0.17096943851378296, 0.17096943851378296, 0.6039929451357093, 0.4375511593918993, 0.21877557969594966, 0.4375511593918993, 0.6018504310079512, 0.7825247646658108, 0.5404661391116119, 0.47571829185900305, 0.47571829185900305, 1.0237899670836696, 0.553470391781551, 0.6195921945258782, 0.19068425545213738, 0.19068425545213738, 0.5720527663564121, 0.7663886046009897, 0.4490897420235191, 0.1283113548638626, 0.4490897420235191, 0.34459867586875637, 0.6891973517375127, 0.5898748774591097, 0.709420106323097, 0.3547100531615485, 0.7275392136987834, 0.7187106893146809, 0.24311931272455317, 0.7293579381736595, 0.6677538683649523, 0.264507068088911, 0.06612676702222775, 0.7273944372445051, 0.7430976539187152, 0.08256640599096834, 0.24769921797290506, 0.6567889690743617, 0.5584825244503953, 0.8112502192736634, 0.3714204239585244, 0.3714204239585244, 0.3714204239585244, 0.6249586295451449, 0.6975868154615378, 0.701743383247957, 0.7231466129600517, 0.6597910726013737, 0.2996691469775684, 0.5993382939551368, 0.6879242317542401, 0.6533007304263627, 0.5275720897551013, 0.5504139981803706, 0.2752069990901853, 0.2752069990901853, 0.7124440116100703, 0.9700451188526883, 0.7309841484513685, 0.24366138281712282, 0.9261876663458023, 0.6136385806106086, 0.3068192903053043, 0.9454051225324913, 0.7968827995085659, 0.8448569984933023, 0.7249485006390274, 0.6487458566417604, 0.7729312368623225, 0.6070190658590697, 0.20233968861968993, 0.20233968861968993, 0.7256830094119745, 0.822361034609724, 0.6927953022623637, 0.34639765113118187, 0.691859182540552, 0.8945234445830207, 0.7725150559746612, 0.21068592435672578, 0.07022864145224193, 0.4908660500283111, 0.4908660500283111, 0.6458429326830853, 0.4397167677641251, 0.21985838388206255, 0.21985838388206255, 0.8538582322885274, 0.4269291161442637, 0.8988868357235521, 0.30604727514960767, 0.30604727514960767, 0.5697729472438641, 0.7380930880803278, 0.8574778905150882, 0.5936121558433639, 0.29680607792168195, 0.3965619350257818, 0.1982809675128909, 0.3965619350257818, 1.010784820675256, 0.5924593388397268, 0.8845490486742952, 0.7833510591211685, 0.598633985544277, 0.3192974183439206, 0.6385948366878412, 0.36394079559548403, 0.1455763182381936, 0.43672895471458084, 0.8582635950459664, 0.8945224387620273, 0.7051296420001169, 0.44049409524940175, 0.44049409524940175, 0.4937307419162502, 0.2468653709581251, 0.2468653709581251, 0.26266123409508235, 0.26266123409508235, 0.5253224681901647, 0.7112870040283331, 0.6598993180346762, 0.7827627168272718, 0.6524851646768965, 0.6866354072000449, 0.2624968456674542, 0.7874905370023625, 0.5138592708262298, 0.22927857828527068, 0.6878357348558121, 0.6477336466788218, 0.3905939991607249, 0.13019799972024165, 0.3905939991607249, 0.3008000626528562, 0.6016001253057124, 0.6360204048325281, 0.53393318253144, 0.238117820764623, 0.238117820764623, 0.476235641529246, 0.7947205771173663, 0.7551938611369317, 0.5919569985291954, 0.6356973658655807, 0.31784868293279034, 0.9231714126723385, 0.5518627991868114, 0.2759313995934057, 0.2759313995934057, 0.6757054056716717, 0.17727634841252302, 0.7091053936500921, 0.2437601937782583, 0.7312805813347749, 0.6639375140321465, 0.5112934974885137], \"Term\": [\"ago\", \"amazing\", \"amazing\", \"amazing\", \"ambience\", \"anytime\", \"atmosphere\", \"atmosphere\", \"authentic\", \"average\", \"awesome\", \"bad\", \"bad\", \"bad\", \"beans\", \"beef\", \"beer\", \"best\", \"better\", \"better\", \"brunch\", \"buffet\", \"busy\", \"check\", \"cheese\", \"chicken\", \"chicken\", \"chips\", \"clean\", \"cold\", \"come\", \"come\", \"coming\", \"completely\", \"cute\", \"definitely\", \"definitely\", \"definitely\", \"delicious\", \"delicious\", \"delicious\", \"deserves\", \"disappointed\", \"disappointed\", \"disappointed\", \"disappointment\", \"door\", \"drive\", \"eat\", \"eat\", \"eating\", \"enjoyed\", \"establishment\", \"experience\", \"experience\", \"experience\", \"fantastic\", \"food\", \"food\", \"food\", \"fresh\", \"fresh\", \"fried\", \"friendly\", \"friendly\", \"fries\", \"gave\", \"going\", \"going\", \"gone\", \"good\", \"good\", \"good\", \"great\", \"great\", \"great\", \"gross\", \"hour\", \"immediately\", \"impressed\", \"impressed\", \"impressed\", \"insulted\", \"interesting\", \"job\", \"joint\", \"kept\", \"know\", \"know\", \"lacked\", \"leave\", \"left\", \"like\", \"like\", \"like\", \"look\", \"lot\", \"love\", \"love\", \"loved\", \"lunch\", \"lunch\", \"management\", \"margaritas\", \"mediocre\", \"meh\", \"mistake\", \"money\", \"nice\", \"nice\", \"nice\", \"overall\", \"people\", \"perfect\", \"perfect\", \"phoenix\", \"pizza\", \"place\", \"place\", \"place\", \"poor\", \"poor\", \"pork\", \"pretty\", \"pretty\", \"pretty\", \"price\", \"price\", \"probably\", \"quality\", \"quality\", \"quick\", \"rated\", \"reasonably\", \"recommend\", \"recommend\", \"restaurant\", \"restaurant\", \"restaurant\", \"return\", \"rice\", \"rude\", \"sashimi\", \"seated\", \"selection\", \"selection\", \"service\", \"service\", \"service\", \"simply\", \"slow\", \"soon\", \"special\", \"special\", \"staff\", \"staff\", \"staff\", \"stars\", \"stars\", \"stars\", \"strip\", \"sucks\", \"taste\", \"tasty\", \"tea\", \"terrible\", \"terrible\", \"thai\", \"think\", \"think\", \"thumb\", \"time\", \"time\", \"time\", \"times\", \"times\", \"treated\", \"twice\", \"vegas\", \"vegas\", \"vegas\", \"wait\", \"waitress\", \"warm\", \"wasn\", \"wasn\", \"waste\", \"way\", \"way\", \"way\", \"wings\", \"won\", \"won\", \"worst\", \"worst\", \"worth\", \"wrong\"]}, \"R\": 30, \"lambda.step\": 0.01, \"plot.opts\": {\"xlab\": \"PC1\", \"ylab\": \"PC2\"}, \"topic.order\": [1, 2, 3]};\n",
              "\n",
              "function LDAvis_load_lib(url, callback){\n",
              "  var s = document.createElement('script');\n",
              "  s.src = url;\n",
              "  s.async = true;\n",
              "  s.onreadystatechange = s.onload = callback;\n",
              "  s.onerror = function(){console.warn(\"failed to load library \" + url);};\n",
              "  document.getElementsByTagName(\"head\")[0].appendChild(s);\n",
              "}\n",
              "\n",
              "if(typeof(LDAvis) !== \"undefined\"){\n",
              "   // already loaded: just create the visualization\n",
              "   !function(LDAvis){\n",
              "       new LDAvis(\"#\" + \"ldavis_el1371334155468809603402587342\", ldavis_el1371334155468809603402587342_data);\n",
              "   }(LDAvis);\n",
              "}else if(typeof define === \"function\" && define.amd){\n",
              "   // require.js is available: use it to load d3/LDAvis\n",
              "   require.config({paths: {d3: \"https://d3js.org/d3.v5\"}});\n",
              "   require([\"d3\"], function(d3){\n",
              "      window.d3 = d3;\n",
              "      LDAvis_load_lib(\"https://cdn.jsdelivr.net/gh/bmabey/pyLDAvis@3.3.1/pyLDAvis/js/ldavis.v3.0.0.js\", function(){\n",
              "        new LDAvis(\"#\" + \"ldavis_el1371334155468809603402587342\", ldavis_el1371334155468809603402587342_data);\n",
              "      });\n",
              "    });\n",
              "}else{\n",
              "    // require.js not available: dynamically load d3 & LDAvis\n",
              "    LDAvis_load_lib(\"https://d3js.org/d3.v5.js\", function(){\n",
              "         LDAvis_load_lib(\"https://cdn.jsdelivr.net/gh/bmabey/pyLDAvis@3.3.1/pyLDAvis/js/ldavis.v3.0.0.js\", function(){\n",
              "                 new LDAvis(\"#\" + \"ldavis_el1371334155468809603402587342\", ldavis_el1371334155468809603402587342_data);\n",
              "            })\n",
              "         });\n",
              "}\n",
              "</script>"
            ]
          },
          "metadata": {},
          "execution_count": 52
        }
      ]
    },
    {
      "cell_type": "markdown",
      "metadata": {
        "id": "_VsR98MtNilo"
      },
      "source": [
        "### Question 3\n",
        "If you were to chose 3 topics, which model would you choose? why?"
      ]
    },
    {
      "cell_type": "markdown",
      "source": [
        "Ans)I'll go with the TF-IDF model.Because the applicable phrases across the subjects vary per topic."
      ],
      "metadata": {
        "id": "D9uE5QFLOaXd"
      }
    },
    {
      "cell_type": "markdown",
      "metadata": {
        "id": "8anLPFEGNrE8"
      },
      "source": [
        "### Question 4\n",
        "Can you interpret/characterize the 3 topics from the lda model using TF-IDF (lda_tfidf_model3) in terms of most relevant terms in each topic? (explore the above visualization)"
      ]
    },
    {
      "cell_type": "markdown",
      "source": [
        "Ans)Topic-1:This might be about waitresses,billing methods,and so forth.\n",
        "Topic-2:This might be a restaurant remark such as the ambience is nice but the service is poor.\n",
        "Topic-3:This might mean that the meal is nice,but there is a longer wait period.However,I can suggest this restaurant."
      ],
      "metadata": {
        "id": "0HLqtxJ9OyGA"
      }
    },
    {
      "cell_type": "markdown",
      "metadata": {
        "id": "uljbFvXTPJVd"
      },
      "source": [
        "## Retrieve a document/review's score for each topic\n",
        "\n",
        "Each document in our corpus has a weight for each of the topics in a topic model.\n",
        "The topic with the highest score is the one the document is assigned to.\n",
        "\n",
        "The following cell extracts these scores for one of the documents in our corpus (i.e., one of the reviews)."
      ]
    },
    {
      "cell_type": "code",
      "metadata": {
        "id": "euTOncm9gZYY",
        "colab": {
          "base_uri": "https://localhost:8080/",
          "height": 90
        },
        "outputId": "a56c9c64-0dcf-47ae-e4bd-11c2917d802f"
      },
      "source": [
        "docs[194] # review 35 (note the index starts at 0)"
      ],
      "execution_count": 53,
      "outputs": [
        {
          "output_type": "stream",
          "name": "stderr",
          "text": [
            "/usr/local/lib/python3.10/dist-packages/ipykernel/ipkernel.py:283: DeprecationWarning: `should_run_async` will not call `transform_cell` automatically in the future. Please pass the result to `transformed_cell` argument and any exception that happen during thetransform in `preprocessing_exc_tuple` in IPython 7.17 and above.\n",
            "  and should_run_async(code)\n"
          ]
        },
        {
          "output_type": "execute_result",
          "data": {
            "text/plain": [
              "\"I'm not really sure how Joey's was voted best hot dog in the Valley by readers of Phoenix Magazine.\""
            ],
            "application/vnd.google.colaboratory.intrinsic+json": {
              "type": "string"
            }
          },
          "metadata": {},
          "execution_count": 53
        }
      ]
    },
    {
      "cell_type": "code",
      "metadata": {
        "id": "6Swl2GoS_ZVt",
        "colab": {
          "base_uri": "https://localhost:8080/"
        },
        "outputId": "c494e3e6-34f7-4a6e-b2c3-1bcc8cff4e8b"
      },
      "source": [
        "# check which topic this document is assigned to in the lda_tfidf_model3  model\n",
        "# and the top words for each topic\n",
        "for index, score in lda_tfidf_model3[corpus_tfidf[194]]:\n",
        "    print(\"\\nScore: {}\\t \\nTopic: {}\".format(score, lda_tfidf_model3.print_topic(index, 10)))"
      ],
      "execution_count": 54,
      "outputs": [
        {
          "output_type": "stream",
          "name": "stdout",
          "text": [
            "\n",
            "Score: 0.08368487656116486\t \n",
            "Topic: 0.015*\"place\" + 0.012*\"great\" + 0.010*\"food\" + 0.008*\"service\" + 0.005*\"awesome\" + 0.005*\"like\" + 0.005*\"delicious\" + 0.005*\"good\" + 0.005*\"friendly\" + 0.005*\"time\"\n",
            "\n",
            "Score: 0.08379627764225006\t \n",
            "Topic: 0.005*\"going\" + 0.005*\"place\" + 0.004*\"definitely\" + 0.004*\"better\" + 0.004*\"soon\" + 0.004*\"come\" + 0.004*\"food\" + 0.004*\"wasn\" + 0.004*\"perfect\" + 0.004*\"overall\"\n",
            "\n",
            "Score: 0.8325188159942627\t \n",
            "Topic: 0.014*\"good\" + 0.009*\"food\" + 0.008*\"service\" + 0.007*\"best\" + 0.005*\"won\" + 0.005*\"experience\" + 0.004*\"fantastic\" + 0.004*\"terrible\" + 0.004*\"worst\" + 0.004*\"slow\"\n"
          ]
        },
        {
          "output_type": "stream",
          "name": "stderr",
          "text": [
            "/usr/local/lib/python3.10/dist-packages/ipykernel/ipkernel.py:283: DeprecationWarning: `should_run_async` will not call `transform_cell` automatically in the future. Please pass the result to `transformed_cell` argument and any exception that happen during thetransform in `preprocessing_exc_tuple` in IPython 7.17 and above.\n",
            "  and should_run_async(code)\n"
          ]
        }
      ]
    },
    {
      "cell_type": "markdown",
      "metadata": {
        "id": "Xsow67b4g-U9"
      },
      "source": [
        "### Question 5\n",
        "Based on your interpretation of the 3 topics in question 4, is this review's assignment to the third topic seem reasonable (or surprising)? briefly explain."
      ]
    },
    {
      "cell_type": "markdown",
      "source": [
        "Ans)Yes,this is positive feedback,as is the third topic."
      ],
      "metadata": {
        "id": "LS4ohGbUSy9h"
      }
    },
    {
      "cell_type": "markdown",
      "metadata": {
        "id": "BQW-npKKir1q"
      },
      "source": [
        "###Question 6\n",
        "Which topic (out of the 3 topics in lda_tfidf_model3) is review 194 assigned to? (update and rerun the last two cells to asnwer this question)"
      ]
    },
    {
      "cell_type": "markdown",
      "source": [
        "Ans)Model assigned topic 2 for 194 record."
      ],
      "metadata": {
        "id": "mp4oQZKYTAp1"
      }
    },
    {
      "cell_type": "markdown",
      "metadata": {
        "id": "TPYxBP0GPSEm"
      },
      "source": [
        "## What topic would a new review be assigned to?\n",
        "\n",
        "Let's see which topic(s) a new review would be assigned to.\n",
        "\n",
        "While topic models are exploratory in nature, their results can be used as input for text classification models. For example if the resulting topics cleraly characterize different themes in our reviews we can use this topics as categories for our reviews in order to better handle customer complains (e.g., a topic characetrized by bad service but good food, another topic characterized by good atmosphere but mediocre food, etc.)"
      ]
    },
    {
      "cell_type": "code",
      "metadata": {
        "id": "qkMymGy3_p9l",
        "colab": {
          "base_uri": "https://localhost:8080/"
        },
        "outputId": "937e1830-6eb5-41ad-ce0f-7ce3213ba73d"
      },
      "source": [
        "new_review=\"The food was too salty but I liked the atmosphere. What's with the attitude?! :-/ \""
      ],
      "execution_count": 55,
      "outputs": [
        {
          "output_type": "stream",
          "name": "stderr",
          "text": [
            "/usr/local/lib/python3.10/dist-packages/ipykernel/ipkernel.py:283: DeprecationWarning: `should_run_async` will not call `transform_cell` automatically in the future. Please pass the result to `transformed_cell` argument and any exception that happen during thetransform in `preprocessing_exc_tuple` in IPython 7.17 and above.\n",
            "  and should_run_async(code)\n"
          ]
        }
      ]
    },
    {
      "cell_type": "code",
      "metadata": {
        "id": "TPie0Q_BoHae",
        "colab": {
          "base_uri": "https://localhost:8080/"
        },
        "outputId": "55463898-cc22-416f-c6ae-ae379571c1b6"
      },
      "source": [
        "#applying same pre-processing steps to new review\n",
        "tmp=strip_tags(new_review)\n",
        "tmp=tmp.lower()\n",
        "tmp=strip_multiple_whitespaces(tmp)\n",
        "tmp=strip_punctuation(tmp)\n",
        "tmp=strip_short(tmp)\n",
        "tmp=remove_stopwords(tmp)\n",
        "tmp=WordNetLemmatizer().lemmatize(tmp)\n",
        "new=(list(gensim.utils.tokenize(tmp,deacc=True)))\n",
        "new"
      ],
      "execution_count": 56,
      "outputs": [
        {
          "output_type": "stream",
          "name": "stderr",
          "text": [
            "/usr/local/lib/python3.10/dist-packages/ipykernel/ipkernel.py:283: DeprecationWarning: `should_run_async` will not call `transform_cell` automatically in the future. Please pass the result to `transformed_cell` argument and any exception that happen during thetransform in `preprocessing_exc_tuple` in IPython 7.17 and above.\n",
            "  and should_run_async(code)\n"
          ]
        },
        {
          "output_type": "execute_result",
          "data": {
            "text/plain": [
              "['food', 'salty', 'liked', 'atmosphere', 'attitude']"
            ]
          },
          "metadata": {},
          "execution_count": 56
        }
      ]
    },
    {
      "cell_type": "code",
      "metadata": {
        "id": "9nDKV9QCmSPB",
        "colab": {
          "base_uri": "https://localhost:8080/"
        },
        "outputId": "914e0db5-9cf4-41a8-b1af-b346dec25ecb"
      },
      "source": [
        "# creating a word vector from the tokenized review\n",
        "bow_vector = dictionary.doc2bow(new)\n",
        "bow_vector"
      ],
      "execution_count": 57,
      "outputs": [
        {
          "output_type": "stream",
          "name": "stderr",
          "text": [
            "/usr/local/lib/python3.10/dist-packages/ipykernel/ipkernel.py:283: DeprecationWarning: `should_run_async` will not call `transform_cell` automatically in the future. Please pass the result to `transformed_cell` argument and any exception that happen during thetransform in `preprocessing_exc_tuple` in IPython 7.17 and above.\n",
            "  and should_run_async(code)\n"
          ]
        },
        {
          "output_type": "execute_result",
          "data": {
            "text/plain": [
              "[(71, 1), (391, 1), (397, 1), (540, 1)]"
            ]
          },
          "metadata": {},
          "execution_count": 57
        }
      ]
    },
    {
      "cell_type": "code",
      "metadata": {
        "id": "gpfI28wrnbZw",
        "colab": {
          "base_uri": "https://localhost:8080/"
        },
        "outputId": "f1260eab-a418-4e95-bc63-dc18e6723f6c"
      },
      "source": [
        "# assigning new document to the topics in the lda_tfidf_model3\n",
        "for index, score in lda_tfidf_model3[bow_vector]:\n",
        "    print(\"Score: {}\\t Topic: {}\".format(score, lda_tfidf_model3.print_topic(index, 5)))"
      ],
      "execution_count": 58,
      "outputs": [
        {
          "output_type": "stream",
          "name": "stdout",
          "text": [
            "Score: 0.6381562948226929\t Topic: 0.015*\"place\" + 0.012*\"great\" + 0.010*\"food\" + 0.008*\"service\" + 0.005*\"awesome\"\n",
            "Score: 0.28977274894714355\t Topic: 0.005*\"going\" + 0.005*\"place\" + 0.004*\"definitely\" + 0.004*\"better\" + 0.004*\"soon\"\n",
            "Score: 0.07207093387842178\t Topic: 0.014*\"good\" + 0.009*\"food\" + 0.008*\"service\" + 0.007*\"best\" + 0.005*\"won\"\n"
          ]
        },
        {
          "output_type": "stream",
          "name": "stderr",
          "text": [
            "/usr/local/lib/python3.10/dist-packages/ipykernel/ipkernel.py:283: DeprecationWarning: `should_run_async` will not call `transform_cell` automatically in the future. Please pass the result to `transformed_cell` argument and any exception that happen during thetransform in `preprocessing_exc_tuple` in IPython 7.17 and above.\n",
            "  and should_run_async(code)\n"
          ]
        }
      ]
    },
    {
      "cell_type": "code",
      "metadata": {
        "id": "nwvloEmw_-54",
        "colab": {
          "base_uri": "https://localhost:8080/"
        },
        "outputId": "35108333-c096-4c7a-af80-8b3be6bae89c"
      },
      "source": [
        "# assigning new document to the topics in the lda_bow_model3\n",
        "for index, score in lda_bow_model3[bow_vector]:\n",
        "    print(\"Score: {}\\t Topic: {}\".format(score, lda_bow_model3.print_topic(index, 5)))"
      ],
      "execution_count": 59,
      "outputs": [
        {
          "output_type": "stream",
          "name": "stdout",
          "text": [
            "Score: 0.7946040630340576\t Topic: 0.028*\"service\" + 0.021*\"great\" + 0.011*\"place\" + 0.011*\"time\" + 0.008*\"food\"\n",
            "Score: 0.07408511638641357\t Topic: 0.030*\"place\" + 0.012*\"food\" + 0.011*\"like\" + 0.010*\"service\" + 0.010*\"great\"\n",
            "Score: 0.13131077587604523\t Topic: 0.037*\"food\" + 0.033*\"good\" + 0.010*\"like\" + 0.010*\"nice\" + 0.008*\"place\"\n"
          ]
        },
        {
          "output_type": "stream",
          "name": "stderr",
          "text": [
            "/usr/local/lib/python3.10/dist-packages/ipykernel/ipkernel.py:283: DeprecationWarning: `should_run_async` will not call `transform_cell` automatically in the future. Please pass the result to `transformed_cell` argument and any exception that happen during thetransform in `preprocessing_exc_tuple` in IPython 7.17 and above.\n",
            "  and should_run_async(code)\n"
          ]
        }
      ]
    },
    {
      "cell_type": "markdown",
      "metadata": {
        "id": "FbOob0wgqfvV"
      },
      "source": [
        "## Question 7\n",
        "Which of the two above assignments for the new review is more appropriate? i.e. should we assign it to topics generated by lda_tfidf_model3 or lda_bow_model3?\n",
        "\n",
        "\n",
        "Why?\n"
      ]
    },
    {
      "cell_type": "markdown",
      "source": [
        "Ans)Since the TF-IDF model does not mention location,i will opt for the bag of words model instead."
      ],
      "metadata": {
        "id": "EyPessxrTMQT"
      }
    },
    {
      "cell_type": "markdown",
      "metadata": {
        "id": "-Bi7PIPUz76n"
      },
      "source": [
        "# Additional resources\n",
        "\n",
        "For more details on NLTK, see https://www.nltk.org/\n",
        "\n",
        "For more details on gensim, see https://radimrehurek.com/gensim/\n"
      ]
    },
    {
      "cell_type": "markdown",
      "metadata": {
        "id": "bc0ST4288ZhA"
      },
      "source": [
        "## Visualizing Topic difference within/between models"
      ]
    },
    {
      "cell_type": "code",
      "metadata": {
        "id": "eYNZOBmZ64UO",
        "colab": {
          "base_uri": "https://localhost:8080/"
        },
        "outputId": "40dc67a7-ab4e-44a1-e387-a78245fa6dbf"
      },
      "source": [
        "def plot_difference(mdiff, title=\"\", annotation=None):\n",
        "    \"\"\"Plot the difference between models.\n",
        "\n",
        "    Uses plotly as the backend.\"\"\"\n",
        "    import plotly.graph_objs as go\n",
        "    import plotly.offline as py\n",
        "\n",
        "    annotation_html = None\n",
        "    if annotation is not None:\n",
        "        annotation_html = [\n",
        "            [\n",
        "                \"+++ {}<br>--- {}\".format(\", \".join(int_tokens), \", \".join(diff_tokens))\n",
        "                for (int_tokens, diff_tokens) in row\n",
        "            ]\n",
        "            for row in annotation\n",
        "        ]\n",
        "\n",
        "    data = go.Heatmap(z=mdiff, colorscale='RdBu', text=annotation_html)\n",
        "    layout = go.Layout(width=950, height=950, title=title, xaxis=dict(title=\"topic\"), yaxis=dict(title=\"topic\"))\n",
        "    py.iplot(dict(data=[data], layout=layout))\n"
      ],
      "execution_count": 60,
      "outputs": [
        {
          "output_type": "stream",
          "name": "stderr",
          "text": [
            "/usr/local/lib/python3.10/dist-packages/ipykernel/ipkernel.py:283: DeprecationWarning: `should_run_async` will not call `transform_cell` automatically in the future. Please pass the result to `transformed_cell` argument and any exception that happen during thetransform in `preprocessing_exc_tuple` in IPython 7.17 and above.\n",
            "  and should_run_async(code)\n"
          ]
        }
      ]
    },
    {
      "cell_type": "code",
      "metadata": {
        "id": "xXXIOSEU66Ep",
        "colab": {
          "base_uri": "https://localhost:8080/",
          "height": 1000
        },
        "outputId": "54387dfb-afe7-43e8-bd9e-4f1c51c4450a"
      },
      "source": [
        "import numpy as np\n",
        "num_topics=5\n",
        "mdiff = np.ones((num_topics, num_topics))\n",
        "np.fill_diagonal(mdiff, 0.)\n",
        "plot_difference(mdiff, title=\"Topic difference (one model) in ideal world\")"
      ],
      "execution_count": 61,
      "outputs": [
        {
          "output_type": "stream",
          "name": "stderr",
          "text": [
            "/usr/local/lib/python3.10/dist-packages/ipykernel/ipkernel.py:283: DeprecationWarning: `should_run_async` will not call `transform_cell` automatically in the future. Please pass the result to `transformed_cell` argument and any exception that happen during thetransform in `preprocessing_exc_tuple` in IPython 7.17 and above.\n",
            "  and should_run_async(code)\n"
          ]
        },
        {
          "output_type": "display_data",
          "data": {
            "text/html": [
              "<html>\n",
              "<head><meta charset=\"utf-8\" /></head>\n",
              "<body>\n",
              "    <div>            <script src=\"https://cdnjs.cloudflare.com/ajax/libs/mathjax/2.7.5/MathJax.js?config=TeX-AMS-MML_SVG\"></script><script type=\"text/javascript\">if (window.MathJax && window.MathJax.Hub && window.MathJax.Hub.Config) {window.MathJax.Hub.Config({SVG: {font: \"STIX-Web\"}});}</script>                <script type=\"text/javascript\">window.PlotlyConfig = {MathJaxConfig: 'local'};</script>\n",
              "        <script charset=\"utf-8\" src=\"https://cdn.plot.ly/plotly-2.24.1.min.js\"></script>                <div id=\"5e452b76-42da-429a-ad83-04e282d7b77c\" class=\"plotly-graph-div\" style=\"height:950px; width:950px;\"></div>            <script type=\"text/javascript\">                                    window.PLOTLYENV=window.PLOTLYENV || {};                                    if (document.getElementById(\"5e452b76-42da-429a-ad83-04e282d7b77c\")) {                    Plotly.newPlot(                        \"5e452b76-42da-429a-ad83-04e282d7b77c\",                        [{\"colorscale\":[[0.0,\"rgb(103,0,31)\"],[0.1,\"rgb(178,24,43)\"],[0.2,\"rgb(214,96,77)\"],[0.3,\"rgb(244,165,130)\"],[0.4,\"rgb(253,219,199)\"],[0.5,\"rgb(247,247,247)\"],[0.6,\"rgb(209,229,240)\"],[0.7,\"rgb(146,197,222)\"],[0.8,\"rgb(67,147,195)\"],[0.9,\"rgb(33,102,172)\"],[1.0,\"rgb(5,48,97)\"]],\"z\":[[0.0,1.0,1.0,1.0,1.0],[1.0,0.0,1.0,1.0,1.0],[1.0,1.0,0.0,1.0,1.0],[1.0,1.0,1.0,0.0,1.0],[1.0,1.0,1.0,1.0,0.0]],\"type\":\"heatmap\"}],                        {\"height\":950,\"template\":{\"data\":{\"barpolar\":[{\"marker\":{\"line\":{\"color\":\"#E5ECF6\",\"width\":0.5},\"pattern\":{\"fillmode\":\"overlay\",\"size\":10,\"solidity\":0.2}},\"type\":\"barpolar\"}],\"bar\":[{\"error_x\":{\"color\":\"#2a3f5f\"},\"error_y\":{\"color\":\"#2a3f5f\"},\"marker\":{\"line\":{\"color\":\"#E5ECF6\",\"width\":0.5},\"pattern\":{\"fillmode\":\"overlay\",\"size\":10,\"solidity\":0.2}},\"type\":\"bar\"}],\"carpet\":[{\"aaxis\":{\"endlinecolor\":\"#2a3f5f\",\"gridcolor\":\"white\",\"linecolor\":\"white\",\"minorgridcolor\":\"white\",\"startlinecolor\":\"#2a3f5f\"},\"baxis\":{\"endlinecolor\":\"#2a3f5f\",\"gridcolor\":\"white\",\"linecolor\":\"white\",\"minorgridcolor\":\"white\",\"startlinecolor\":\"#2a3f5f\"},\"type\":\"carpet\"}],\"choropleth\":[{\"colorbar\":{\"outlinewidth\":0,\"ticks\":\"\"},\"type\":\"choropleth\"}],\"contourcarpet\":[{\"colorbar\":{\"outlinewidth\":0,\"ticks\":\"\"},\"type\":\"contourcarpet\"}],\"contour\":[{\"colorbar\":{\"outlinewidth\":0,\"ticks\":\"\"},\"colorscale\":[[0.0,\"#0d0887\"],[0.1111111111111111,\"#46039f\"],[0.2222222222222222,\"#7201a8\"],[0.3333333333333333,\"#9c179e\"],[0.4444444444444444,\"#bd3786\"],[0.5555555555555556,\"#d8576b\"],[0.6666666666666666,\"#ed7953\"],[0.7777777777777778,\"#fb9f3a\"],[0.8888888888888888,\"#fdca26\"],[1.0,\"#f0f921\"]],\"type\":\"contour\"}],\"heatmapgl\":[{\"colorbar\":{\"outlinewidth\":0,\"ticks\":\"\"},\"colorscale\":[[0.0,\"#0d0887\"],[0.1111111111111111,\"#46039f\"],[0.2222222222222222,\"#7201a8\"],[0.3333333333333333,\"#9c179e\"],[0.4444444444444444,\"#bd3786\"],[0.5555555555555556,\"#d8576b\"],[0.6666666666666666,\"#ed7953\"],[0.7777777777777778,\"#fb9f3a\"],[0.8888888888888888,\"#fdca26\"],[1.0,\"#f0f921\"]],\"type\":\"heatmapgl\"}],\"heatmap\":[{\"colorbar\":{\"outlinewidth\":0,\"ticks\":\"\"},\"colorscale\":[[0.0,\"#0d0887\"],[0.1111111111111111,\"#46039f\"],[0.2222222222222222,\"#7201a8\"],[0.3333333333333333,\"#9c179e\"],[0.4444444444444444,\"#bd3786\"],[0.5555555555555556,\"#d8576b\"],[0.6666666666666666,\"#ed7953\"],[0.7777777777777778,\"#fb9f3a\"],[0.8888888888888888,\"#fdca26\"],[1.0,\"#f0f921\"]],\"type\":\"heatmap\"}],\"histogram2dcontour\":[{\"colorbar\":{\"outlinewidth\":0,\"ticks\":\"\"},\"colorscale\":[[0.0,\"#0d0887\"],[0.1111111111111111,\"#46039f\"],[0.2222222222222222,\"#7201a8\"],[0.3333333333333333,\"#9c179e\"],[0.4444444444444444,\"#bd3786\"],[0.5555555555555556,\"#d8576b\"],[0.6666666666666666,\"#ed7953\"],[0.7777777777777778,\"#fb9f3a\"],[0.8888888888888888,\"#fdca26\"],[1.0,\"#f0f921\"]],\"type\":\"histogram2dcontour\"}],\"histogram2d\":[{\"colorbar\":{\"outlinewidth\":0,\"ticks\":\"\"},\"colorscale\":[[0.0,\"#0d0887\"],[0.1111111111111111,\"#46039f\"],[0.2222222222222222,\"#7201a8\"],[0.3333333333333333,\"#9c179e\"],[0.4444444444444444,\"#bd3786\"],[0.5555555555555556,\"#d8576b\"],[0.6666666666666666,\"#ed7953\"],[0.7777777777777778,\"#fb9f3a\"],[0.8888888888888888,\"#fdca26\"],[1.0,\"#f0f921\"]],\"type\":\"histogram2d\"}],\"histogram\":[{\"marker\":{\"pattern\":{\"fillmode\":\"overlay\",\"size\":10,\"solidity\":0.2}},\"type\":\"histogram\"}],\"mesh3d\":[{\"colorbar\":{\"outlinewidth\":0,\"ticks\":\"\"},\"type\":\"mesh3d\"}],\"parcoords\":[{\"line\":{\"colorbar\":{\"outlinewidth\":0,\"ticks\":\"\"}},\"type\":\"parcoords\"}],\"pie\":[{\"automargin\":true,\"type\":\"pie\"}],\"scatter3d\":[{\"line\":{\"colorbar\":{\"outlinewidth\":0,\"ticks\":\"\"}},\"marker\":{\"colorbar\":{\"outlinewidth\":0,\"ticks\":\"\"}},\"type\":\"scatter3d\"}],\"scattercarpet\":[{\"marker\":{\"colorbar\":{\"outlinewidth\":0,\"ticks\":\"\"}},\"type\":\"scattercarpet\"}],\"scattergeo\":[{\"marker\":{\"colorbar\":{\"outlinewidth\":0,\"ticks\":\"\"}},\"type\":\"scattergeo\"}],\"scattergl\":[{\"marker\":{\"colorbar\":{\"outlinewidth\":0,\"ticks\":\"\"}},\"type\":\"scattergl\"}],\"scattermapbox\":[{\"marker\":{\"colorbar\":{\"outlinewidth\":0,\"ticks\":\"\"}},\"type\":\"scattermapbox\"}],\"scatterpolargl\":[{\"marker\":{\"colorbar\":{\"outlinewidth\":0,\"ticks\":\"\"}},\"type\":\"scatterpolargl\"}],\"scatterpolar\":[{\"marker\":{\"colorbar\":{\"outlinewidth\":0,\"ticks\":\"\"}},\"type\":\"scatterpolar\"}],\"scatter\":[{\"fillpattern\":{\"fillmode\":\"overlay\",\"size\":10,\"solidity\":0.2},\"type\":\"scatter\"}],\"scatterternary\":[{\"marker\":{\"colorbar\":{\"outlinewidth\":0,\"ticks\":\"\"}},\"type\":\"scatterternary\"}],\"surface\":[{\"colorbar\":{\"outlinewidth\":0,\"ticks\":\"\"},\"colorscale\":[[0.0,\"#0d0887\"],[0.1111111111111111,\"#46039f\"],[0.2222222222222222,\"#7201a8\"],[0.3333333333333333,\"#9c179e\"],[0.4444444444444444,\"#bd3786\"],[0.5555555555555556,\"#d8576b\"],[0.6666666666666666,\"#ed7953\"],[0.7777777777777778,\"#fb9f3a\"],[0.8888888888888888,\"#fdca26\"],[1.0,\"#f0f921\"]],\"type\":\"surface\"}],\"table\":[{\"cells\":{\"fill\":{\"color\":\"#EBF0F8\"},\"line\":{\"color\":\"white\"}},\"header\":{\"fill\":{\"color\":\"#C8D4E3\"},\"line\":{\"color\":\"white\"}},\"type\":\"table\"}]},\"layout\":{\"annotationdefaults\":{\"arrowcolor\":\"#2a3f5f\",\"arrowhead\":0,\"arrowwidth\":1},\"autotypenumbers\":\"strict\",\"coloraxis\":{\"colorbar\":{\"outlinewidth\":0,\"ticks\":\"\"}},\"colorscale\":{\"diverging\":[[0,\"#8e0152\"],[0.1,\"#c51b7d\"],[0.2,\"#de77ae\"],[0.3,\"#f1b6da\"],[0.4,\"#fde0ef\"],[0.5,\"#f7f7f7\"],[0.6,\"#e6f5d0\"],[0.7,\"#b8e186\"],[0.8,\"#7fbc41\"],[0.9,\"#4d9221\"],[1,\"#276419\"]],\"sequential\":[[0.0,\"#0d0887\"],[0.1111111111111111,\"#46039f\"],[0.2222222222222222,\"#7201a8\"],[0.3333333333333333,\"#9c179e\"],[0.4444444444444444,\"#bd3786\"],[0.5555555555555556,\"#d8576b\"],[0.6666666666666666,\"#ed7953\"],[0.7777777777777778,\"#fb9f3a\"],[0.8888888888888888,\"#fdca26\"],[1.0,\"#f0f921\"]],\"sequentialminus\":[[0.0,\"#0d0887\"],[0.1111111111111111,\"#46039f\"],[0.2222222222222222,\"#7201a8\"],[0.3333333333333333,\"#9c179e\"],[0.4444444444444444,\"#bd3786\"],[0.5555555555555556,\"#d8576b\"],[0.6666666666666666,\"#ed7953\"],[0.7777777777777778,\"#fb9f3a\"],[0.8888888888888888,\"#fdca26\"],[1.0,\"#f0f921\"]]},\"colorway\":[\"#636efa\",\"#EF553B\",\"#00cc96\",\"#ab63fa\",\"#FFA15A\",\"#19d3f3\",\"#FF6692\",\"#B6E880\",\"#FF97FF\",\"#FECB52\"],\"font\":{\"color\":\"#2a3f5f\"},\"geo\":{\"bgcolor\":\"white\",\"lakecolor\":\"white\",\"landcolor\":\"#E5ECF6\",\"showlakes\":true,\"showland\":true,\"subunitcolor\":\"white\"},\"hoverlabel\":{\"align\":\"left\"},\"hovermode\":\"closest\",\"mapbox\":{\"style\":\"light\"},\"paper_bgcolor\":\"white\",\"plot_bgcolor\":\"#E5ECF6\",\"polar\":{\"angularaxis\":{\"gridcolor\":\"white\",\"linecolor\":\"white\",\"ticks\":\"\"},\"bgcolor\":\"#E5ECF6\",\"radialaxis\":{\"gridcolor\":\"white\",\"linecolor\":\"white\",\"ticks\":\"\"}},\"scene\":{\"xaxis\":{\"backgroundcolor\":\"#E5ECF6\",\"gridcolor\":\"white\",\"gridwidth\":2,\"linecolor\":\"white\",\"showbackground\":true,\"ticks\":\"\",\"zerolinecolor\":\"white\"},\"yaxis\":{\"backgroundcolor\":\"#E5ECF6\",\"gridcolor\":\"white\",\"gridwidth\":2,\"linecolor\":\"white\",\"showbackground\":true,\"ticks\":\"\",\"zerolinecolor\":\"white\"},\"zaxis\":{\"backgroundcolor\":\"#E5ECF6\",\"gridcolor\":\"white\",\"gridwidth\":2,\"linecolor\":\"white\",\"showbackground\":true,\"ticks\":\"\",\"zerolinecolor\":\"white\"}},\"shapedefaults\":{\"line\":{\"color\":\"#2a3f5f\"}},\"ternary\":{\"aaxis\":{\"gridcolor\":\"white\",\"linecolor\":\"white\",\"ticks\":\"\"},\"baxis\":{\"gridcolor\":\"white\",\"linecolor\":\"white\",\"ticks\":\"\"},\"bgcolor\":\"#E5ECF6\",\"caxis\":{\"gridcolor\":\"white\",\"linecolor\":\"white\",\"ticks\":\"\"}},\"title\":{\"x\":0.05},\"xaxis\":{\"automargin\":true,\"gridcolor\":\"white\",\"linecolor\":\"white\",\"ticks\":\"\",\"title\":{\"standoff\":15},\"zerolinecolor\":\"white\",\"zerolinewidth\":2},\"yaxis\":{\"automargin\":true,\"gridcolor\":\"white\",\"linecolor\":\"white\",\"ticks\":\"\",\"title\":{\"standoff\":15},\"zerolinecolor\":\"white\",\"zerolinewidth\":2}}},\"title\":{\"text\":\"Topic difference (one model) in ideal world\"},\"width\":950,\"xaxis\":{\"title\":{\"text\":\"topic\"}},\"yaxis\":{\"title\":{\"text\":\"topic\"}}},                        {\"responsive\": true}                    ).then(function(){\n",
              "                            \n",
              "var gd = document.getElementById('5e452b76-42da-429a-ad83-04e282d7b77c');\n",
              "var x = new MutationObserver(function (mutations, observer) {{\n",
              "        var display = window.getComputedStyle(gd).display;\n",
              "        if (!display || display === 'none') {{\n",
              "            console.log([gd, 'removed!']);\n",
              "            Plotly.purge(gd);\n",
              "            observer.disconnect();\n",
              "        }}\n",
              "}});\n",
              "\n",
              "// Listen for the removal of the full notebook cells\n",
              "var notebookContainer = gd.closest('#notebook-container');\n",
              "if (notebookContainer) {{\n",
              "    x.observe(notebookContainer, {childList: true});\n",
              "}}\n",
              "\n",
              "// Listen for the clearing of the current output cell\n",
              "var outputEl = gd.closest('.output');\n",
              "if (outputEl) {{\n",
              "    x.observe(outputEl, {childList: true});\n",
              "}}\n",
              "\n",
              "                        })                };                            </script>        </div>\n",
              "</body>\n",
              "</html>"
            ]
          },
          "metadata": {}
        }
      ]
    },
    {
      "cell_type": "code",
      "metadata": {
        "id": "H3qZNMz67QAf",
        "colab": {
          "base_uri": "https://localhost:8080/",
          "height": 1000
        },
        "outputId": "2bbb704c-cac6-4a99-a61e-beabf7a525e9"
      },
      "source": [
        "mdiff, annotation = lda_tfidf_model5.diff(lda_tfidf_model5, distance='jaccard', num_words=50)\n",
        "plot_difference(mdiff, title=\"Topic difference (one model) [jaccard distance]\", annotation=annotation)"
      ],
      "execution_count": 62,
      "outputs": [
        {
          "output_type": "stream",
          "name": "stderr",
          "text": [
            "/usr/local/lib/python3.10/dist-packages/ipykernel/ipkernel.py:283: DeprecationWarning:\n",
            "\n",
            "`should_run_async` will not call `transform_cell` automatically in the future. Please pass the result to `transformed_cell` argument and any exception that happen during thetransform in `preprocessing_exc_tuple` in IPython 7.17 and above.\n",
            "\n"
          ]
        },
        {
          "output_type": "display_data",
          "data": {
            "text/html": [
              "<html>\n",
              "<head><meta charset=\"utf-8\" /></head>\n",
              "<body>\n",
              "    <div>            <script src=\"https://cdnjs.cloudflare.com/ajax/libs/mathjax/2.7.5/MathJax.js?config=TeX-AMS-MML_SVG\"></script><script type=\"text/javascript\">if (window.MathJax && window.MathJax.Hub && window.MathJax.Hub.Config) {window.MathJax.Hub.Config({SVG: {font: \"STIX-Web\"}});}</script>                <script type=\"text/javascript\">window.PlotlyConfig = {MathJaxConfig: 'local'};</script>\n",
              "        <script charset=\"utf-8\" src=\"https://cdn.plot.ly/plotly-2.24.1.min.js\"></script>                <div id=\"0fcbbdb7-4452-4a16-87a3-83ae9e675119\" class=\"plotly-graph-div\" style=\"height:950px; width:950px;\"></div>            <script type=\"text/javascript\">                                    window.PLOTLYENV=window.PLOTLYENV || {};                                    if (document.getElementById(\"0fcbbdb7-4452-4a16-87a3-83ae9e675119\")) {                    Plotly.newPlot(                        \"0fcbbdb7-4452-4a16-87a3-83ae9e675119\",                        [{\"colorscale\":[[0.0,\"rgb(103,0,31)\"],[0.1,\"rgb(178,24,43)\"],[0.2,\"rgb(214,96,77)\"],[0.3,\"rgb(244,165,130)\"],[0.4,\"rgb(253,219,199)\"],[0.5,\"rgb(247,247,247)\"],[0.6,\"rgb(209,229,240)\"],[0.7,\"rgb(146,197,222)\"],[0.8,\"rgb(67,147,195)\"],[0.9,\"rgb(33,102,172)\"],[1.0,\"rgb(5,48,97)\"]],\"text\":[[\"+++ quality, better, asked, think, steak, excellent, absolutely, worst, sad, way\\u003cbr\\u003e--- \",\"+++ place, food, service, recommend, amazing, pretty, worst, good, great, best\\u003cbr\\u003e--- better, drive, steak, sad, waited, thing, taste, beer, overpriced, waste\",\"+++ came, place, better, food, service, worst, good, best\\u003cbr\\u003e--- steak, wasn, sad, waited, check, management, pretty, overpriced, beer, waste\",\"+++ came, great, place, quality, time, stars, food, service, amazing, pretty\\u003cbr\\u003e--- beat, better, steak, sad, got, waited, taste, beer, overpriced, waste\",\"+++ place, time, think, food, steak, service, good, staff, great\\u003cbr\\u003e--- better, wasn, loved, sad, waited, pretty, overpriced, beer, waste, impressed\"],[\"+++ place, food, service, recommend, amazing, pretty, worst, good, great, best\\u003cbr\\u003e--- better, drive, steak, sad, waited, thing, taste, beer, overpriced, waste\",\"+++ tasty, roast, slow, drive, probably, clean, disappointing, worst, return, try\\u003cbr\\u003e--- \",\"+++ tasty, won, disappointed, like, place, slow, food, service, worst, good\\u003cbr\\u003e--- better, drive, wasn, thing, taste, check, management, pretty, came, phoenix\",\"+++ like, place, food, taste, service, amazing, pretty, good, buffet, return\\u003cbr\\u003e--- beat, drive, got, thing, came, phoenix, stale, awesome, people, love\",\"+++ like, place, wait, coming, food, people, service, good, great\\u003cbr\\u003e--- drive, steak, wasn, loved, thing, taste, pretty, impressed, phoenix, buffet\"],[\"+++ came, place, better, food, service, worst, good, best\\u003cbr\\u003e--- steak, wasn, sad, waited, check, pretty, overpriced, beer, management, waste\",\"+++ tasty, won, disappointed, like, place, slow, food, service, worst, good\\u003cbr\\u003e--- better, drive, wasn, thing, taste, check, pretty, management, came, phoenix\",\"+++ tasty, thai, better, slow, vegas, know, wasn, rice, rude, worst\\u003cbr\\u003e--- \",\"+++ came, like, place, restaurant, nice, vegas, definitely, friendly, food, going\\u003cbr\\u003e--- beat, better, wasn, got, taste, check, pretty, management, felt, fresh\",\"+++ like, pizza, place, restaurant, definitely, friendly, know, food, times, wasn\\u003cbr\\u003e--- better, steak, loved, check, management, impressed, came, felt, fresh, money\"],[\"+++ came, great, place, quality, time, stars, food, service, amazing, pretty\\u003cbr\\u003e--- better, beat, steak, sad, got, waited, taste, beer, overpriced, waste\",\"+++ like, place, food, taste, service, amazing, pretty, good, buffet, return\\u003cbr\\u003e--- beat, drive, got, thing, came, phoenix, stale, awesome, people, love\",\"+++ came, like, place, restaurant, definitely, vegas, nice, friendly, food, going\\u003cbr\\u003e--- better, beat, wasn, got, taste, check, management, pretty, felt, fresh\",\"+++ love, quality, beat, vegas, ordered, meat, deserves, return, delicious, way\\u003cbr\\u003e--- \",\"+++ like, place, restaurant, definitely, time, friendly, food, service, going, fries\\u003cbr\\u003e--- beat, steak, wasn, loved, got, taste, pretty, impressed, came, buffet\"],[\"+++ place, time, think, food, steak, service, good, staff, great\\u003cbr\\u003e--- better, wasn, loved, sad, waited, pretty, overpriced, beer, waste, impressed\",\"+++ like, place, wait, coming, food, people, service, good, great\\u003cbr\\u003e--- drive, steak, wasn, loved, thing, taste, pretty, impressed, phoenix, buffet\",\"+++ like, pizza, place, restaurant, definitely, friendly, know, food, times, wasn\\u003cbr\\u003e--- better, steak, loved, check, management, impressed, came, felt, fresh, money\",\"+++ like, place, restaurant, definitely, time, friendly, food, service, going, fries\\u003cbr\\u003e--- beat, steak, wasn, loved, got, taste, pretty, impressed, came, buffet\",\"+++ waiter, small, inside, know, think, bit, steak, wasn, thumb, quick\\u003cbr\\u003e--- \"]],\"z\":[[0.0,0.9735449735449734,1.0,0.9169435215946843,0.9869178440607012],[0.9735449735449734,0.0,0.9458874458874459,0.9458874458874459,0.9869178440607012],[1.0,0.9458874458874459,0.0,0.9169435215946843,0.8866213151927437],[0.9169435215946843,0.9458874458874459,0.9169435215946843,0.0,0.9315818281335522],[0.9869178440607012,0.9869178440607012,0.8866213151927437,0.9315818281335522,0.0]],\"type\":\"heatmap\"}],                        {\"height\":950,\"template\":{\"data\":{\"barpolar\":[{\"marker\":{\"line\":{\"color\":\"#E5ECF6\",\"width\":0.5},\"pattern\":{\"fillmode\":\"overlay\",\"size\":10,\"solidity\":0.2}},\"type\":\"barpolar\"}],\"bar\":[{\"error_x\":{\"color\":\"#2a3f5f\"},\"error_y\":{\"color\":\"#2a3f5f\"},\"marker\":{\"line\":{\"color\":\"#E5ECF6\",\"width\":0.5},\"pattern\":{\"fillmode\":\"overlay\",\"size\":10,\"solidity\":0.2}},\"type\":\"bar\"}],\"carpet\":[{\"aaxis\":{\"endlinecolor\":\"#2a3f5f\",\"gridcolor\":\"white\",\"linecolor\":\"white\",\"minorgridcolor\":\"white\",\"startlinecolor\":\"#2a3f5f\"},\"baxis\":{\"endlinecolor\":\"#2a3f5f\",\"gridcolor\":\"white\",\"linecolor\":\"white\",\"minorgridcolor\":\"white\",\"startlinecolor\":\"#2a3f5f\"},\"type\":\"carpet\"}],\"choropleth\":[{\"colorbar\":{\"outlinewidth\":0,\"ticks\":\"\"},\"type\":\"choropleth\"}],\"contourcarpet\":[{\"colorbar\":{\"outlinewidth\":0,\"ticks\":\"\"},\"type\":\"contourcarpet\"}],\"contour\":[{\"colorbar\":{\"outlinewidth\":0,\"ticks\":\"\"},\"colorscale\":[[0.0,\"#0d0887\"],[0.1111111111111111,\"#46039f\"],[0.2222222222222222,\"#7201a8\"],[0.3333333333333333,\"#9c179e\"],[0.4444444444444444,\"#bd3786\"],[0.5555555555555556,\"#d8576b\"],[0.6666666666666666,\"#ed7953\"],[0.7777777777777778,\"#fb9f3a\"],[0.8888888888888888,\"#fdca26\"],[1.0,\"#f0f921\"]],\"type\":\"contour\"}],\"heatmapgl\":[{\"colorbar\":{\"outlinewidth\":0,\"ticks\":\"\"},\"colorscale\":[[0.0,\"#0d0887\"],[0.1111111111111111,\"#46039f\"],[0.2222222222222222,\"#7201a8\"],[0.3333333333333333,\"#9c179e\"],[0.4444444444444444,\"#bd3786\"],[0.5555555555555556,\"#d8576b\"],[0.6666666666666666,\"#ed7953\"],[0.7777777777777778,\"#fb9f3a\"],[0.8888888888888888,\"#fdca26\"],[1.0,\"#f0f921\"]],\"type\":\"heatmapgl\"}],\"heatmap\":[{\"colorbar\":{\"outlinewidth\":0,\"ticks\":\"\"},\"colorscale\":[[0.0,\"#0d0887\"],[0.1111111111111111,\"#46039f\"],[0.2222222222222222,\"#7201a8\"],[0.3333333333333333,\"#9c179e\"],[0.4444444444444444,\"#bd3786\"],[0.5555555555555556,\"#d8576b\"],[0.6666666666666666,\"#ed7953\"],[0.7777777777777778,\"#fb9f3a\"],[0.8888888888888888,\"#fdca26\"],[1.0,\"#f0f921\"]],\"type\":\"heatmap\"}],\"histogram2dcontour\":[{\"colorbar\":{\"outlinewidth\":0,\"ticks\":\"\"},\"colorscale\":[[0.0,\"#0d0887\"],[0.1111111111111111,\"#46039f\"],[0.2222222222222222,\"#7201a8\"],[0.3333333333333333,\"#9c179e\"],[0.4444444444444444,\"#bd3786\"],[0.5555555555555556,\"#d8576b\"],[0.6666666666666666,\"#ed7953\"],[0.7777777777777778,\"#fb9f3a\"],[0.8888888888888888,\"#fdca26\"],[1.0,\"#f0f921\"]],\"type\":\"histogram2dcontour\"}],\"histogram2d\":[{\"colorbar\":{\"outlinewidth\":0,\"ticks\":\"\"},\"colorscale\":[[0.0,\"#0d0887\"],[0.1111111111111111,\"#46039f\"],[0.2222222222222222,\"#7201a8\"],[0.3333333333333333,\"#9c179e\"],[0.4444444444444444,\"#bd3786\"],[0.5555555555555556,\"#d8576b\"],[0.6666666666666666,\"#ed7953\"],[0.7777777777777778,\"#fb9f3a\"],[0.8888888888888888,\"#fdca26\"],[1.0,\"#f0f921\"]],\"type\":\"histogram2d\"}],\"histogram\":[{\"marker\":{\"pattern\":{\"fillmode\":\"overlay\",\"size\":10,\"solidity\":0.2}},\"type\":\"histogram\"}],\"mesh3d\":[{\"colorbar\":{\"outlinewidth\":0,\"ticks\":\"\"},\"type\":\"mesh3d\"}],\"parcoords\":[{\"line\":{\"colorbar\":{\"outlinewidth\":0,\"ticks\":\"\"}},\"type\":\"parcoords\"}],\"pie\":[{\"automargin\":true,\"type\":\"pie\"}],\"scatter3d\":[{\"line\":{\"colorbar\":{\"outlinewidth\":0,\"ticks\":\"\"}},\"marker\":{\"colorbar\":{\"outlinewidth\":0,\"ticks\":\"\"}},\"type\":\"scatter3d\"}],\"scattercarpet\":[{\"marker\":{\"colorbar\":{\"outlinewidth\":0,\"ticks\":\"\"}},\"type\":\"scattercarpet\"}],\"scattergeo\":[{\"marker\":{\"colorbar\":{\"outlinewidth\":0,\"ticks\":\"\"}},\"type\":\"scattergeo\"}],\"scattergl\":[{\"marker\":{\"colorbar\":{\"outlinewidth\":0,\"ticks\":\"\"}},\"type\":\"scattergl\"}],\"scattermapbox\":[{\"marker\":{\"colorbar\":{\"outlinewidth\":0,\"ticks\":\"\"}},\"type\":\"scattermapbox\"}],\"scatterpolargl\":[{\"marker\":{\"colorbar\":{\"outlinewidth\":0,\"ticks\":\"\"}},\"type\":\"scatterpolargl\"}],\"scatterpolar\":[{\"marker\":{\"colorbar\":{\"outlinewidth\":0,\"ticks\":\"\"}},\"type\":\"scatterpolar\"}],\"scatter\":[{\"fillpattern\":{\"fillmode\":\"overlay\",\"size\":10,\"solidity\":0.2},\"type\":\"scatter\"}],\"scatterternary\":[{\"marker\":{\"colorbar\":{\"outlinewidth\":0,\"ticks\":\"\"}},\"type\":\"scatterternary\"}],\"surface\":[{\"colorbar\":{\"outlinewidth\":0,\"ticks\":\"\"},\"colorscale\":[[0.0,\"#0d0887\"],[0.1111111111111111,\"#46039f\"],[0.2222222222222222,\"#7201a8\"],[0.3333333333333333,\"#9c179e\"],[0.4444444444444444,\"#bd3786\"],[0.5555555555555556,\"#d8576b\"],[0.6666666666666666,\"#ed7953\"],[0.7777777777777778,\"#fb9f3a\"],[0.8888888888888888,\"#fdca26\"],[1.0,\"#f0f921\"]],\"type\":\"surface\"}],\"table\":[{\"cells\":{\"fill\":{\"color\":\"#EBF0F8\"},\"line\":{\"color\":\"white\"}},\"header\":{\"fill\":{\"color\":\"#C8D4E3\"},\"line\":{\"color\":\"white\"}},\"type\":\"table\"}]},\"layout\":{\"annotationdefaults\":{\"arrowcolor\":\"#2a3f5f\",\"arrowhead\":0,\"arrowwidth\":1},\"autotypenumbers\":\"strict\",\"coloraxis\":{\"colorbar\":{\"outlinewidth\":0,\"ticks\":\"\"}},\"colorscale\":{\"diverging\":[[0,\"#8e0152\"],[0.1,\"#c51b7d\"],[0.2,\"#de77ae\"],[0.3,\"#f1b6da\"],[0.4,\"#fde0ef\"],[0.5,\"#f7f7f7\"],[0.6,\"#e6f5d0\"],[0.7,\"#b8e186\"],[0.8,\"#7fbc41\"],[0.9,\"#4d9221\"],[1,\"#276419\"]],\"sequential\":[[0.0,\"#0d0887\"],[0.1111111111111111,\"#46039f\"],[0.2222222222222222,\"#7201a8\"],[0.3333333333333333,\"#9c179e\"],[0.4444444444444444,\"#bd3786\"],[0.5555555555555556,\"#d8576b\"],[0.6666666666666666,\"#ed7953\"],[0.7777777777777778,\"#fb9f3a\"],[0.8888888888888888,\"#fdca26\"],[1.0,\"#f0f921\"]],\"sequentialminus\":[[0.0,\"#0d0887\"],[0.1111111111111111,\"#46039f\"],[0.2222222222222222,\"#7201a8\"],[0.3333333333333333,\"#9c179e\"],[0.4444444444444444,\"#bd3786\"],[0.5555555555555556,\"#d8576b\"],[0.6666666666666666,\"#ed7953\"],[0.7777777777777778,\"#fb9f3a\"],[0.8888888888888888,\"#fdca26\"],[1.0,\"#f0f921\"]]},\"colorway\":[\"#636efa\",\"#EF553B\",\"#00cc96\",\"#ab63fa\",\"#FFA15A\",\"#19d3f3\",\"#FF6692\",\"#B6E880\",\"#FF97FF\",\"#FECB52\"],\"font\":{\"color\":\"#2a3f5f\"},\"geo\":{\"bgcolor\":\"white\",\"lakecolor\":\"white\",\"landcolor\":\"#E5ECF6\",\"showlakes\":true,\"showland\":true,\"subunitcolor\":\"white\"},\"hoverlabel\":{\"align\":\"left\"},\"hovermode\":\"closest\",\"mapbox\":{\"style\":\"light\"},\"paper_bgcolor\":\"white\",\"plot_bgcolor\":\"#E5ECF6\",\"polar\":{\"angularaxis\":{\"gridcolor\":\"white\",\"linecolor\":\"white\",\"ticks\":\"\"},\"bgcolor\":\"#E5ECF6\",\"radialaxis\":{\"gridcolor\":\"white\",\"linecolor\":\"white\",\"ticks\":\"\"}},\"scene\":{\"xaxis\":{\"backgroundcolor\":\"#E5ECF6\",\"gridcolor\":\"white\",\"gridwidth\":2,\"linecolor\":\"white\",\"showbackground\":true,\"ticks\":\"\",\"zerolinecolor\":\"white\"},\"yaxis\":{\"backgroundcolor\":\"#E5ECF6\",\"gridcolor\":\"white\",\"gridwidth\":2,\"linecolor\":\"white\",\"showbackground\":true,\"ticks\":\"\",\"zerolinecolor\":\"white\"},\"zaxis\":{\"backgroundcolor\":\"#E5ECF6\",\"gridcolor\":\"white\",\"gridwidth\":2,\"linecolor\":\"white\",\"showbackground\":true,\"ticks\":\"\",\"zerolinecolor\":\"white\"}},\"shapedefaults\":{\"line\":{\"color\":\"#2a3f5f\"}},\"ternary\":{\"aaxis\":{\"gridcolor\":\"white\",\"linecolor\":\"white\",\"ticks\":\"\"},\"baxis\":{\"gridcolor\":\"white\",\"linecolor\":\"white\",\"ticks\":\"\"},\"bgcolor\":\"#E5ECF6\",\"caxis\":{\"gridcolor\":\"white\",\"linecolor\":\"white\",\"ticks\":\"\"}},\"title\":{\"x\":0.05},\"xaxis\":{\"automargin\":true,\"gridcolor\":\"white\",\"linecolor\":\"white\",\"ticks\":\"\",\"title\":{\"standoff\":15},\"zerolinecolor\":\"white\",\"zerolinewidth\":2},\"yaxis\":{\"automargin\":true,\"gridcolor\":\"white\",\"linecolor\":\"white\",\"ticks\":\"\",\"title\":{\"standoff\":15},\"zerolinecolor\":\"white\",\"zerolinewidth\":2}}},\"title\":{\"text\":\"Topic difference (one model) [jaccard distance]\"},\"width\":950,\"xaxis\":{\"title\":{\"text\":\"topic\"}},\"yaxis\":{\"title\":{\"text\":\"topic\"}}},                        {\"responsive\": true}                    ).then(function(){\n",
              "                            \n",
              "var gd = document.getElementById('0fcbbdb7-4452-4a16-87a3-83ae9e675119');\n",
              "var x = new MutationObserver(function (mutations, observer) {{\n",
              "        var display = window.getComputedStyle(gd).display;\n",
              "        if (!display || display === 'none') {{\n",
              "            console.log([gd, 'removed!']);\n",
              "            Plotly.purge(gd);\n",
              "            observer.disconnect();\n",
              "        }}\n",
              "}});\n",
              "\n",
              "// Listen for the removal of the full notebook cells\n",
              "var notebookContainer = gd.closest('#notebook-container');\n",
              "if (notebookContainer) {{\n",
              "    x.observe(notebookContainer, {childList: true});\n",
              "}}\n",
              "\n",
              "// Listen for the clearing of the current output cell\n",
              "var outputEl = gd.closest('.output');\n",
              "if (outputEl) {{\n",
              "    x.observe(outputEl, {childList: true});\n",
              "}}\n",
              "\n",
              "                        })                };                            </script>        </div>\n",
              "</body>\n",
              "</html>"
            ]
          },
          "metadata": {}
        }
      ]
    },
    {
      "cell_type": "code",
      "metadata": {
        "id": "yoEwtKya7zSU",
        "colab": {
          "base_uri": "https://localhost:8080/",
          "height": 1000
        },
        "outputId": "896c79f9-c681-420b-a175-c4c62868c069"
      },
      "source": [
        "mdiff, annotation = lda_tfidf_model5.diff(lda_tfidf_model5, distance='hellinger', num_words=50)\n",
        "plot_difference(mdiff, title=\"Topic difference (one model)[hellinger distance]\", annotation=annotation)"
      ],
      "execution_count": 63,
      "outputs": [
        {
          "output_type": "stream",
          "name": "stderr",
          "text": [
            "/usr/local/lib/python3.10/dist-packages/ipykernel/ipkernel.py:283: DeprecationWarning:\n",
            "\n",
            "`should_run_async` will not call `transform_cell` automatically in the future. Please pass the result to `transformed_cell` argument and any exception that happen during thetransform in `preprocessing_exc_tuple` in IPython 7.17 and above.\n",
            "\n"
          ]
        },
        {
          "output_type": "display_data",
          "data": {
            "text/html": [
              "<html>\n",
              "<head><meta charset=\"utf-8\" /></head>\n",
              "<body>\n",
              "    <div>            <script src=\"https://cdnjs.cloudflare.com/ajax/libs/mathjax/2.7.5/MathJax.js?config=TeX-AMS-MML_SVG\"></script><script type=\"text/javascript\">if (window.MathJax && window.MathJax.Hub && window.MathJax.Hub.Config) {window.MathJax.Hub.Config({SVG: {font: \"STIX-Web\"}});}</script>                <script type=\"text/javascript\">window.PlotlyConfig = {MathJaxConfig: 'local'};</script>\n",
              "        <script charset=\"utf-8\" src=\"https://cdn.plot.ly/plotly-2.24.1.min.js\"></script>                <div id=\"429df4fb-660c-4838-a19c-043b83e46fea\" class=\"plotly-graph-div\" style=\"height:950px; width:950px;\"></div>            <script type=\"text/javascript\">                                    window.PLOTLYENV=window.PLOTLYENV || {};                                    if (document.getElementById(\"429df4fb-660c-4838-a19c-043b83e46fea\")) {                    Plotly.newPlot(                        \"429df4fb-660c-4838-a19c-043b83e46fea\",                        [{\"colorscale\":[[0.0,\"rgb(103,0,31)\"],[0.1,\"rgb(178,24,43)\"],[0.2,\"rgb(214,96,77)\"],[0.3,\"rgb(244,165,130)\"],[0.4,\"rgb(253,219,199)\"],[0.5,\"rgb(247,247,247)\"],[0.6,\"rgb(209,229,240)\"],[0.7,\"rgb(146,197,222)\"],[0.8,\"rgb(67,147,195)\"],[0.9,\"rgb(33,102,172)\"],[1.0,\"rgb(5,48,97)\"]],\"text\":[[\"+++ quality, better, asked, think, steak, excellent, absolutely, worst, sad, way\\u003cbr\\u003e--- \",\"+++ place, food, service, recommend, amazing, pretty, worst, good, great, best\\u003cbr\\u003e--- better, drive, steak, sad, waited, thing, taste, beer, overpriced, waste\",\"+++ came, place, better, food, service, worst, good, best\\u003cbr\\u003e--- steak, wasn, sad, waited, check, management, pretty, overpriced, beer, waste\",\"+++ came, great, place, quality, time, stars, food, service, amazing, pretty\\u003cbr\\u003e--- beat, better, steak, sad, got, waited, taste, beer, overpriced, waste\",\"+++ place, time, think, food, steak, service, good, staff, great\\u003cbr\\u003e--- better, wasn, loved, sad, waited, pretty, overpriced, beer, waste, impressed\"],[\"+++ place, food, service, recommend, amazing, pretty, worst, good, great, best\\u003cbr\\u003e--- better, drive, steak, sad, waited, thing, taste, beer, overpriced, waste\",\"+++ tasty, roast, slow, drive, probably, clean, disappointing, worst, return, try\\u003cbr\\u003e--- \",\"+++ tasty, won, disappointed, like, place, slow, food, service, worst, good\\u003cbr\\u003e--- better, drive, wasn, thing, taste, check, management, pretty, came, phoenix\",\"+++ like, place, food, taste, service, amazing, pretty, good, buffet, return\\u003cbr\\u003e--- beat, drive, got, thing, came, phoenix, stale, awesome, people, love\",\"+++ like, place, wait, coming, food, people, service, good, great\\u003cbr\\u003e--- drive, steak, wasn, loved, thing, taste, pretty, impressed, phoenix, buffet\"],[\"+++ came, place, better, food, service, worst, good, best\\u003cbr\\u003e--- steak, wasn, sad, waited, check, pretty, overpriced, beer, management, waste\",\"+++ tasty, won, disappointed, like, place, slow, food, service, worst, good\\u003cbr\\u003e--- better, drive, wasn, thing, taste, check, pretty, management, came, phoenix\",\"+++ tasty, thai, better, slow, vegas, know, wasn, rice, rude, worst\\u003cbr\\u003e--- \",\"+++ came, like, place, restaurant, nice, vegas, definitely, friendly, food, going\\u003cbr\\u003e--- beat, better, wasn, got, taste, check, pretty, management, felt, fresh\",\"+++ like, pizza, place, restaurant, definitely, friendly, know, food, times, wasn\\u003cbr\\u003e--- better, steak, loved, check, management, impressed, came, felt, fresh, money\"],[\"+++ came, great, place, quality, time, stars, food, service, amazing, pretty\\u003cbr\\u003e--- better, beat, steak, sad, got, waited, taste, beer, overpriced, waste\",\"+++ like, place, food, taste, service, amazing, pretty, good, buffet, return\\u003cbr\\u003e--- beat, drive, got, thing, came, phoenix, stale, awesome, people, love\",\"+++ came, like, place, restaurant, definitely, vegas, nice, friendly, food, going\\u003cbr\\u003e--- better, beat, wasn, got, taste, check, management, pretty, felt, fresh\",\"+++ love, quality, beat, vegas, ordered, meat, deserves, return, delicious, way\\u003cbr\\u003e--- \",\"+++ like, place, restaurant, definitely, time, friendly, food, service, going, fries\\u003cbr\\u003e--- beat, steak, wasn, loved, got, taste, pretty, impressed, came, buffet\"],[\"+++ place, time, think, food, steak, service, good, staff, great\\u003cbr\\u003e--- better, wasn, loved, sad, waited, pretty, overpriced, beer, waste, impressed\",\"+++ like, place, wait, coming, food, people, service, good, great\\u003cbr\\u003e--- drive, steak, wasn, loved, thing, taste, pretty, impressed, phoenix, buffet\",\"+++ like, pizza, place, restaurant, definitely, friendly, know, food, times, wasn\\u003cbr\\u003e--- better, steak, loved, check, management, impressed, came, felt, fresh, money\",\"+++ like, place, restaurant, definitely, time, friendly, food, service, going, fries\\u003cbr\\u003e--- beat, steak, wasn, loved, got, taste, pretty, impressed, came, buffet\",\"+++ waiter, small, inside, know, think, bit, steak, wasn, thumb, quick\\u003cbr\\u003e--- \"]],\"z\":[[0.0,0.9602591808266744,1.0,0.9737381601917858,0.9901934492310465],[0.9602591808266744,0.0,0.9438178767912148,0.9440110543043054,0.9456057049361969],[1.0,0.9438178767912148,0.0,0.9712049249141267,0.9709829557209494],[0.9737381601917858,0.9440110543043054,0.9712049249141267,0.0,0.972294744743221],[0.9901934492310465,0.9456057049361969,0.9709829557209494,0.972294744743221,0.0]],\"type\":\"heatmap\"}],                        {\"height\":950,\"template\":{\"data\":{\"barpolar\":[{\"marker\":{\"line\":{\"color\":\"#E5ECF6\",\"width\":0.5},\"pattern\":{\"fillmode\":\"overlay\",\"size\":10,\"solidity\":0.2}},\"type\":\"barpolar\"}],\"bar\":[{\"error_x\":{\"color\":\"#2a3f5f\"},\"error_y\":{\"color\":\"#2a3f5f\"},\"marker\":{\"line\":{\"color\":\"#E5ECF6\",\"width\":0.5},\"pattern\":{\"fillmode\":\"overlay\",\"size\":10,\"solidity\":0.2}},\"type\":\"bar\"}],\"carpet\":[{\"aaxis\":{\"endlinecolor\":\"#2a3f5f\",\"gridcolor\":\"white\",\"linecolor\":\"white\",\"minorgridcolor\":\"white\",\"startlinecolor\":\"#2a3f5f\"},\"baxis\":{\"endlinecolor\":\"#2a3f5f\",\"gridcolor\":\"white\",\"linecolor\":\"white\",\"minorgridcolor\":\"white\",\"startlinecolor\":\"#2a3f5f\"},\"type\":\"carpet\"}],\"choropleth\":[{\"colorbar\":{\"outlinewidth\":0,\"ticks\":\"\"},\"type\":\"choropleth\"}],\"contourcarpet\":[{\"colorbar\":{\"outlinewidth\":0,\"ticks\":\"\"},\"type\":\"contourcarpet\"}],\"contour\":[{\"colorbar\":{\"outlinewidth\":0,\"ticks\":\"\"},\"colorscale\":[[0.0,\"#0d0887\"],[0.1111111111111111,\"#46039f\"],[0.2222222222222222,\"#7201a8\"],[0.3333333333333333,\"#9c179e\"],[0.4444444444444444,\"#bd3786\"],[0.5555555555555556,\"#d8576b\"],[0.6666666666666666,\"#ed7953\"],[0.7777777777777778,\"#fb9f3a\"],[0.8888888888888888,\"#fdca26\"],[1.0,\"#f0f921\"]],\"type\":\"contour\"}],\"heatmapgl\":[{\"colorbar\":{\"outlinewidth\":0,\"ticks\":\"\"},\"colorscale\":[[0.0,\"#0d0887\"],[0.1111111111111111,\"#46039f\"],[0.2222222222222222,\"#7201a8\"],[0.3333333333333333,\"#9c179e\"],[0.4444444444444444,\"#bd3786\"],[0.5555555555555556,\"#d8576b\"],[0.6666666666666666,\"#ed7953\"],[0.7777777777777778,\"#fb9f3a\"],[0.8888888888888888,\"#fdca26\"],[1.0,\"#f0f921\"]],\"type\":\"heatmapgl\"}],\"heatmap\":[{\"colorbar\":{\"outlinewidth\":0,\"ticks\":\"\"},\"colorscale\":[[0.0,\"#0d0887\"],[0.1111111111111111,\"#46039f\"],[0.2222222222222222,\"#7201a8\"],[0.3333333333333333,\"#9c179e\"],[0.4444444444444444,\"#bd3786\"],[0.5555555555555556,\"#d8576b\"],[0.6666666666666666,\"#ed7953\"],[0.7777777777777778,\"#fb9f3a\"],[0.8888888888888888,\"#fdca26\"],[1.0,\"#f0f921\"]],\"type\":\"heatmap\"}],\"histogram2dcontour\":[{\"colorbar\":{\"outlinewidth\":0,\"ticks\":\"\"},\"colorscale\":[[0.0,\"#0d0887\"],[0.1111111111111111,\"#46039f\"],[0.2222222222222222,\"#7201a8\"],[0.3333333333333333,\"#9c179e\"],[0.4444444444444444,\"#bd3786\"],[0.5555555555555556,\"#d8576b\"],[0.6666666666666666,\"#ed7953\"],[0.7777777777777778,\"#fb9f3a\"],[0.8888888888888888,\"#fdca26\"],[1.0,\"#f0f921\"]],\"type\":\"histogram2dcontour\"}],\"histogram2d\":[{\"colorbar\":{\"outlinewidth\":0,\"ticks\":\"\"},\"colorscale\":[[0.0,\"#0d0887\"],[0.1111111111111111,\"#46039f\"],[0.2222222222222222,\"#7201a8\"],[0.3333333333333333,\"#9c179e\"],[0.4444444444444444,\"#bd3786\"],[0.5555555555555556,\"#d8576b\"],[0.6666666666666666,\"#ed7953\"],[0.7777777777777778,\"#fb9f3a\"],[0.8888888888888888,\"#fdca26\"],[1.0,\"#f0f921\"]],\"type\":\"histogram2d\"}],\"histogram\":[{\"marker\":{\"pattern\":{\"fillmode\":\"overlay\",\"size\":10,\"solidity\":0.2}},\"type\":\"histogram\"}],\"mesh3d\":[{\"colorbar\":{\"outlinewidth\":0,\"ticks\":\"\"},\"type\":\"mesh3d\"}],\"parcoords\":[{\"line\":{\"colorbar\":{\"outlinewidth\":0,\"ticks\":\"\"}},\"type\":\"parcoords\"}],\"pie\":[{\"automargin\":true,\"type\":\"pie\"}],\"scatter3d\":[{\"line\":{\"colorbar\":{\"outlinewidth\":0,\"ticks\":\"\"}},\"marker\":{\"colorbar\":{\"outlinewidth\":0,\"ticks\":\"\"}},\"type\":\"scatter3d\"}],\"scattercarpet\":[{\"marker\":{\"colorbar\":{\"outlinewidth\":0,\"ticks\":\"\"}},\"type\":\"scattercarpet\"}],\"scattergeo\":[{\"marker\":{\"colorbar\":{\"outlinewidth\":0,\"ticks\":\"\"}},\"type\":\"scattergeo\"}],\"scattergl\":[{\"marker\":{\"colorbar\":{\"outlinewidth\":0,\"ticks\":\"\"}},\"type\":\"scattergl\"}],\"scattermapbox\":[{\"marker\":{\"colorbar\":{\"outlinewidth\":0,\"ticks\":\"\"}},\"type\":\"scattermapbox\"}],\"scatterpolargl\":[{\"marker\":{\"colorbar\":{\"outlinewidth\":0,\"ticks\":\"\"}},\"type\":\"scatterpolargl\"}],\"scatterpolar\":[{\"marker\":{\"colorbar\":{\"outlinewidth\":0,\"ticks\":\"\"}},\"type\":\"scatterpolar\"}],\"scatter\":[{\"fillpattern\":{\"fillmode\":\"overlay\",\"size\":10,\"solidity\":0.2},\"type\":\"scatter\"}],\"scatterternary\":[{\"marker\":{\"colorbar\":{\"outlinewidth\":0,\"ticks\":\"\"}},\"type\":\"scatterternary\"}],\"surface\":[{\"colorbar\":{\"outlinewidth\":0,\"ticks\":\"\"},\"colorscale\":[[0.0,\"#0d0887\"],[0.1111111111111111,\"#46039f\"],[0.2222222222222222,\"#7201a8\"],[0.3333333333333333,\"#9c179e\"],[0.4444444444444444,\"#bd3786\"],[0.5555555555555556,\"#d8576b\"],[0.6666666666666666,\"#ed7953\"],[0.7777777777777778,\"#fb9f3a\"],[0.8888888888888888,\"#fdca26\"],[1.0,\"#f0f921\"]],\"type\":\"surface\"}],\"table\":[{\"cells\":{\"fill\":{\"color\":\"#EBF0F8\"},\"line\":{\"color\":\"white\"}},\"header\":{\"fill\":{\"color\":\"#C8D4E3\"},\"line\":{\"color\":\"white\"}},\"type\":\"table\"}]},\"layout\":{\"annotationdefaults\":{\"arrowcolor\":\"#2a3f5f\",\"arrowhead\":0,\"arrowwidth\":1},\"autotypenumbers\":\"strict\",\"coloraxis\":{\"colorbar\":{\"outlinewidth\":0,\"ticks\":\"\"}},\"colorscale\":{\"diverging\":[[0,\"#8e0152\"],[0.1,\"#c51b7d\"],[0.2,\"#de77ae\"],[0.3,\"#f1b6da\"],[0.4,\"#fde0ef\"],[0.5,\"#f7f7f7\"],[0.6,\"#e6f5d0\"],[0.7,\"#b8e186\"],[0.8,\"#7fbc41\"],[0.9,\"#4d9221\"],[1,\"#276419\"]],\"sequential\":[[0.0,\"#0d0887\"],[0.1111111111111111,\"#46039f\"],[0.2222222222222222,\"#7201a8\"],[0.3333333333333333,\"#9c179e\"],[0.4444444444444444,\"#bd3786\"],[0.5555555555555556,\"#d8576b\"],[0.6666666666666666,\"#ed7953\"],[0.7777777777777778,\"#fb9f3a\"],[0.8888888888888888,\"#fdca26\"],[1.0,\"#f0f921\"]],\"sequentialminus\":[[0.0,\"#0d0887\"],[0.1111111111111111,\"#46039f\"],[0.2222222222222222,\"#7201a8\"],[0.3333333333333333,\"#9c179e\"],[0.4444444444444444,\"#bd3786\"],[0.5555555555555556,\"#d8576b\"],[0.6666666666666666,\"#ed7953\"],[0.7777777777777778,\"#fb9f3a\"],[0.8888888888888888,\"#fdca26\"],[1.0,\"#f0f921\"]]},\"colorway\":[\"#636efa\",\"#EF553B\",\"#00cc96\",\"#ab63fa\",\"#FFA15A\",\"#19d3f3\",\"#FF6692\",\"#B6E880\",\"#FF97FF\",\"#FECB52\"],\"font\":{\"color\":\"#2a3f5f\"},\"geo\":{\"bgcolor\":\"white\",\"lakecolor\":\"white\",\"landcolor\":\"#E5ECF6\",\"showlakes\":true,\"showland\":true,\"subunitcolor\":\"white\"},\"hoverlabel\":{\"align\":\"left\"},\"hovermode\":\"closest\",\"mapbox\":{\"style\":\"light\"},\"paper_bgcolor\":\"white\",\"plot_bgcolor\":\"#E5ECF6\",\"polar\":{\"angularaxis\":{\"gridcolor\":\"white\",\"linecolor\":\"white\",\"ticks\":\"\"},\"bgcolor\":\"#E5ECF6\",\"radialaxis\":{\"gridcolor\":\"white\",\"linecolor\":\"white\",\"ticks\":\"\"}},\"scene\":{\"xaxis\":{\"backgroundcolor\":\"#E5ECF6\",\"gridcolor\":\"white\",\"gridwidth\":2,\"linecolor\":\"white\",\"showbackground\":true,\"ticks\":\"\",\"zerolinecolor\":\"white\"},\"yaxis\":{\"backgroundcolor\":\"#E5ECF6\",\"gridcolor\":\"white\",\"gridwidth\":2,\"linecolor\":\"white\",\"showbackground\":true,\"ticks\":\"\",\"zerolinecolor\":\"white\"},\"zaxis\":{\"backgroundcolor\":\"#E5ECF6\",\"gridcolor\":\"white\",\"gridwidth\":2,\"linecolor\":\"white\",\"showbackground\":true,\"ticks\":\"\",\"zerolinecolor\":\"white\"}},\"shapedefaults\":{\"line\":{\"color\":\"#2a3f5f\"}},\"ternary\":{\"aaxis\":{\"gridcolor\":\"white\",\"linecolor\":\"white\",\"ticks\":\"\"},\"baxis\":{\"gridcolor\":\"white\",\"linecolor\":\"white\",\"ticks\":\"\"},\"bgcolor\":\"#E5ECF6\",\"caxis\":{\"gridcolor\":\"white\",\"linecolor\":\"white\",\"ticks\":\"\"}},\"title\":{\"x\":0.05},\"xaxis\":{\"automargin\":true,\"gridcolor\":\"white\",\"linecolor\":\"white\",\"ticks\":\"\",\"title\":{\"standoff\":15},\"zerolinecolor\":\"white\",\"zerolinewidth\":2},\"yaxis\":{\"automargin\":true,\"gridcolor\":\"white\",\"linecolor\":\"white\",\"ticks\":\"\",\"title\":{\"standoff\":15},\"zerolinecolor\":\"white\",\"zerolinewidth\":2}}},\"title\":{\"text\":\"Topic difference (one model)[hellinger distance]\"},\"width\":950,\"xaxis\":{\"title\":{\"text\":\"topic\"}},\"yaxis\":{\"title\":{\"text\":\"topic\"}}},                        {\"responsive\": true}                    ).then(function(){\n",
              "                            \n",
              "var gd = document.getElementById('429df4fb-660c-4838-a19c-043b83e46fea');\n",
              "var x = new MutationObserver(function (mutations, observer) {{\n",
              "        var display = window.getComputedStyle(gd).display;\n",
              "        if (!display || display === 'none') {{\n",
              "            console.log([gd, 'removed!']);\n",
              "            Plotly.purge(gd);\n",
              "            observer.disconnect();\n",
              "        }}\n",
              "}});\n",
              "\n",
              "// Listen for the removal of the full notebook cells\n",
              "var notebookContainer = gd.closest('#notebook-container');\n",
              "if (notebookContainer) {{\n",
              "    x.observe(notebookContainer, {childList: true});\n",
              "}}\n",
              "\n",
              "// Listen for the clearing of the current output cell\n",
              "var outputEl = gd.closest('.output');\n",
              "if (outputEl) {{\n",
              "    x.observe(outputEl, {childList: true});\n",
              "}}\n",
              "\n",
              "                        })                };                            </script>        </div>\n",
              "</body>\n",
              "</html>"
            ]
          },
          "metadata": {}
        }
      ]
    },
    {
      "cell_type": "code",
      "metadata": {
        "id": "WpAznnZB77sC",
        "colab": {
          "base_uri": "https://localhost:8080/",
          "height": 1000
        },
        "outputId": "d5aca775-ff9a-4166-8505-af00d3a79208"
      },
      "source": [
        "mdiff, annotation = lda_bow_model5.diff(lda_bow_model5, distance='jaccard', num_words=50)\n",
        "plot_difference(mdiff, title=\"Topic difference (two models)[jaccard distance]\", annotation=annotation)"
      ],
      "execution_count": 64,
      "outputs": [
        {
          "output_type": "stream",
          "name": "stderr",
          "text": [
            "/usr/local/lib/python3.10/dist-packages/ipykernel/ipkernel.py:283: DeprecationWarning:\n",
            "\n",
            "`should_run_async` will not call `transform_cell` automatically in the future. Please pass the result to `transformed_cell` argument and any exception that happen during thetransform in `preprocessing_exc_tuple` in IPython 7.17 and above.\n",
            "\n"
          ]
        },
        {
          "output_type": "display_data",
          "data": {
            "text/html": [
              "<html>\n",
              "<head><meta charset=\"utf-8\" /></head>\n",
              "<body>\n",
              "    <div>            <script src=\"https://cdnjs.cloudflare.com/ajax/libs/mathjax/2.7.5/MathJax.js?config=TeX-AMS-MML_SVG\"></script><script type=\"text/javascript\">if (window.MathJax && window.MathJax.Hub && window.MathJax.Hub.Config) {window.MathJax.Hub.Config({SVG: {font: \"STIX-Web\"}});}</script>                <script type=\"text/javascript\">window.PlotlyConfig = {MathJaxConfig: 'local'};</script>\n",
              "        <script charset=\"utf-8\" src=\"https://cdn.plot.ly/plotly-2.24.1.min.js\"></script>                <div id=\"d51fc727-add7-43b0-94c4-da5854ef07cd\" class=\"plotly-graph-div\" style=\"height:950px; width:950px;\"></div>            <script type=\"text/javascript\">                                    window.PLOTLYENV=window.PLOTLYENV || {};                                    if (document.getElementById(\"d51fc727-add7-43b0-94c4-da5854ef07cd\")) {                    Plotly.newPlot(                        \"d51fc727-add7-43b0-94c4-da5854ef07cd\",                        [{\"colorscale\":[[0.0,\"rgb(103,0,31)\"],[0.1,\"rgb(178,24,43)\"],[0.2,\"rgb(214,96,77)\"],[0.3,\"rgb(244,165,130)\"],[0.4,\"rgb(253,219,199)\"],[0.5,\"rgb(247,247,247)\"],[0.6,\"rgb(209,229,240)\"],[0.7,\"rgb(146,197,222)\"],[0.8,\"rgb(67,147,195)\"],[0.9,\"rgb(33,102,172)\"],[1.0,\"rgb(5,48,97)\"]],\"text\":[[\"+++ tasty, love, quality, inside, vegas, little, excellent, clean, tables, disappointed\\u003cbr\\u003e--- \",\"+++ came, like, eat, chicken, pretty, restaurant, place, time, friendly, food\\u003cbr\\u003e--- better, avoid, steak, wasn, loved, tables, waited, check, waste, fresh\",\"+++ like, disappointed, server, place, quality, nice, food, service, good, staff\\u003cbr\\u003e--- zero, tables, sad, waited, thing, taste, pretty, beer, came, prices\",\"+++ like, love, eat, server, place, breakfast, definitely, time, food, service\\u003cbr\\u003e--- wasn, tables, got, waited, taste, beer, management, impressed, came, fresh\",\"+++ came, love, eat, disappointed, like, place, definitely, vegas, time, food\\u003cbr\\u003e--- tables, got, waited, pretty, overpriced, beer, prices, hot, awesome, reasonable\"],[\"+++ came, like, eat, chicken, pretty, restaurant, place, time, friendly, food\\u003cbr\\u003e--- better, avoid, steak, wasn, loved, tables, waited, check, waste, fresh\",\"+++ better, avoid, slow, probably, think, steak, wasn, rice, disappointing, worst\\u003cbr\\u003e--- \",\"+++ like, place, probably, think, food, cold, experience, service, good, best\\u003cbr\\u003e--- better, avoid, steak, wasn, zero, loved, sad, thing, taste, check\",\"+++ like, eat, place, table, time, went, food, service, wasn, fresh\\u003cbr\\u003e--- better, avoid, steak, loved, got, taste, check, management, beer, waste\",\"+++ came, like, eat, pizza, place, time, food, experience, service, burger\\u003cbr\\u003e--- better, avoid, steak, wasn, loved, got, check, pretty, overpriced, beer\"],[\"+++ like, disappointed, server, place, quality, nice, food, service, good, staff\\u003cbr\\u003e--- zero, tables, sad, waited, thing, taste, pretty, beer, came, prices\",\"+++ like, place, probably, think, food, cold, experience, service, good, best\\u003cbr\\u003e--- better, avoid, steak, wasn, zero, loved, sad, thing, taste, check\",\"+++ chips, shrimp, horrible, quality, probably, think, fantastic, zero, served, bar\\u003cbr\\u003e--- \",\"+++ like, right, server, place, food, taste, bad, service, good, salad\\u003cbr\\u003e--- wasn, zero, sad, got, thing, pretty, management, impressed, fresh, customer\",\"+++ like, disappointed, hot, flavor, place, stars, food, day, experience, service\\u003cbr\\u003e--- zero, sad, got, thing, taste, overpriced, came, buffet, customer, greek\"],[\"+++ like, love, eat, server, breakfast, place, definitely, time, food, service\\u003cbr\\u003e--- wasn, tables, got, waited, taste, management, beer, impressed, came, fresh\",\"+++ like, eat, place, table, time, went, food, service, wasn, fresh\\u003cbr\\u003e--- better, avoid, steak, loved, got, taste, check, management, beer, waste\",\"+++ like, right, server, place, food, taste, bad, service, good, salad\\u003cbr\\u003e--- wasn, zero, sad, got, thing, pretty, management, impressed, fresh, customer\",\"+++ love, know, wasn, frozen, rude, worst, return, minutes, damn, soon\\u003cbr\\u003e--- \",\"+++ like, love, eat, night, place, got, definitely, time, know, food\\u003cbr\\u003e--- wasn, taste, pretty, overpriced, management, impressed, came, fresh, buffet, hot\"],[\"+++ came, love, eat, disappointed, like, place, definitely, vegas, time, food\\u003cbr\\u003e--- tables, got, waited, pretty, beer, overpriced, prices, hot, awesome, reasonable\",\"+++ came, like, eat, pizza, place, time, food, experience, service, burger\\u003cbr\\u003e--- better, avoid, steak, wasn, loved, got, check, pretty, beer, overpriced\",\"+++ like, disappointed, hot, flavor, place, stars, food, day, experience, service\\u003cbr\\u003e--- zero, sad, got, thing, taste, overpriced, came, buffet, customer, greek\",\"+++ like, love, eat, night, place, got, definitely, time, know, food\\u003cbr\\u003e--- wasn, taste, pretty, management, overpriced, impressed, came, fresh, buffet, hot\",\"+++ love, outside, small, wrong, vegas, know, bit, ordered, clean, absolutely\\u003cbr\\u003e--- \"]],\"z\":[[0.0,0.9107142857142858,0.9568965517241379,0.9264705882352942,0.9264705882352942],[0.9107142857142858,0.0,1.0,0.9568965517241379,0.9859550561797754],[0.9568965517241379,1.0,0.0,0.9715909090909092,0.9859550561797754],[0.9264705882352942,0.9568965517241379,0.9715909090909092,0.0,0.9715909090909092],[0.9264705882352942,0.9859550561797754,0.9859550561797754,0.9715909090909092,0.0]],\"type\":\"heatmap\"}],                        {\"height\":950,\"template\":{\"data\":{\"barpolar\":[{\"marker\":{\"line\":{\"color\":\"#E5ECF6\",\"width\":0.5},\"pattern\":{\"fillmode\":\"overlay\",\"size\":10,\"solidity\":0.2}},\"type\":\"barpolar\"}],\"bar\":[{\"error_x\":{\"color\":\"#2a3f5f\"},\"error_y\":{\"color\":\"#2a3f5f\"},\"marker\":{\"line\":{\"color\":\"#E5ECF6\",\"width\":0.5},\"pattern\":{\"fillmode\":\"overlay\",\"size\":10,\"solidity\":0.2}},\"type\":\"bar\"}],\"carpet\":[{\"aaxis\":{\"endlinecolor\":\"#2a3f5f\",\"gridcolor\":\"white\",\"linecolor\":\"white\",\"minorgridcolor\":\"white\",\"startlinecolor\":\"#2a3f5f\"},\"baxis\":{\"endlinecolor\":\"#2a3f5f\",\"gridcolor\":\"white\",\"linecolor\":\"white\",\"minorgridcolor\":\"white\",\"startlinecolor\":\"#2a3f5f\"},\"type\":\"carpet\"}],\"choropleth\":[{\"colorbar\":{\"outlinewidth\":0,\"ticks\":\"\"},\"type\":\"choropleth\"}],\"contourcarpet\":[{\"colorbar\":{\"outlinewidth\":0,\"ticks\":\"\"},\"type\":\"contourcarpet\"}],\"contour\":[{\"colorbar\":{\"outlinewidth\":0,\"ticks\":\"\"},\"colorscale\":[[0.0,\"#0d0887\"],[0.1111111111111111,\"#46039f\"],[0.2222222222222222,\"#7201a8\"],[0.3333333333333333,\"#9c179e\"],[0.4444444444444444,\"#bd3786\"],[0.5555555555555556,\"#d8576b\"],[0.6666666666666666,\"#ed7953\"],[0.7777777777777778,\"#fb9f3a\"],[0.8888888888888888,\"#fdca26\"],[1.0,\"#f0f921\"]],\"type\":\"contour\"}],\"heatmapgl\":[{\"colorbar\":{\"outlinewidth\":0,\"ticks\":\"\"},\"colorscale\":[[0.0,\"#0d0887\"],[0.1111111111111111,\"#46039f\"],[0.2222222222222222,\"#7201a8\"],[0.3333333333333333,\"#9c179e\"],[0.4444444444444444,\"#bd3786\"],[0.5555555555555556,\"#d8576b\"],[0.6666666666666666,\"#ed7953\"],[0.7777777777777778,\"#fb9f3a\"],[0.8888888888888888,\"#fdca26\"],[1.0,\"#f0f921\"]],\"type\":\"heatmapgl\"}],\"heatmap\":[{\"colorbar\":{\"outlinewidth\":0,\"ticks\":\"\"},\"colorscale\":[[0.0,\"#0d0887\"],[0.1111111111111111,\"#46039f\"],[0.2222222222222222,\"#7201a8\"],[0.3333333333333333,\"#9c179e\"],[0.4444444444444444,\"#bd3786\"],[0.5555555555555556,\"#d8576b\"],[0.6666666666666666,\"#ed7953\"],[0.7777777777777778,\"#fb9f3a\"],[0.8888888888888888,\"#fdca26\"],[1.0,\"#f0f921\"]],\"type\":\"heatmap\"}],\"histogram2dcontour\":[{\"colorbar\":{\"outlinewidth\":0,\"ticks\":\"\"},\"colorscale\":[[0.0,\"#0d0887\"],[0.1111111111111111,\"#46039f\"],[0.2222222222222222,\"#7201a8\"],[0.3333333333333333,\"#9c179e\"],[0.4444444444444444,\"#bd3786\"],[0.5555555555555556,\"#d8576b\"],[0.6666666666666666,\"#ed7953\"],[0.7777777777777778,\"#fb9f3a\"],[0.8888888888888888,\"#fdca26\"],[1.0,\"#f0f921\"]],\"type\":\"histogram2dcontour\"}],\"histogram2d\":[{\"colorbar\":{\"outlinewidth\":0,\"ticks\":\"\"},\"colorscale\":[[0.0,\"#0d0887\"],[0.1111111111111111,\"#46039f\"],[0.2222222222222222,\"#7201a8\"],[0.3333333333333333,\"#9c179e\"],[0.4444444444444444,\"#bd3786\"],[0.5555555555555556,\"#d8576b\"],[0.6666666666666666,\"#ed7953\"],[0.7777777777777778,\"#fb9f3a\"],[0.8888888888888888,\"#fdca26\"],[1.0,\"#f0f921\"]],\"type\":\"histogram2d\"}],\"histogram\":[{\"marker\":{\"pattern\":{\"fillmode\":\"overlay\",\"size\":10,\"solidity\":0.2}},\"type\":\"histogram\"}],\"mesh3d\":[{\"colorbar\":{\"outlinewidth\":0,\"ticks\":\"\"},\"type\":\"mesh3d\"}],\"parcoords\":[{\"line\":{\"colorbar\":{\"outlinewidth\":0,\"ticks\":\"\"}},\"type\":\"parcoords\"}],\"pie\":[{\"automargin\":true,\"type\":\"pie\"}],\"scatter3d\":[{\"line\":{\"colorbar\":{\"outlinewidth\":0,\"ticks\":\"\"}},\"marker\":{\"colorbar\":{\"outlinewidth\":0,\"ticks\":\"\"}},\"type\":\"scatter3d\"}],\"scattercarpet\":[{\"marker\":{\"colorbar\":{\"outlinewidth\":0,\"ticks\":\"\"}},\"type\":\"scattercarpet\"}],\"scattergeo\":[{\"marker\":{\"colorbar\":{\"outlinewidth\":0,\"ticks\":\"\"}},\"type\":\"scattergeo\"}],\"scattergl\":[{\"marker\":{\"colorbar\":{\"outlinewidth\":0,\"ticks\":\"\"}},\"type\":\"scattergl\"}],\"scattermapbox\":[{\"marker\":{\"colorbar\":{\"outlinewidth\":0,\"ticks\":\"\"}},\"type\":\"scattermapbox\"}],\"scatterpolargl\":[{\"marker\":{\"colorbar\":{\"outlinewidth\":0,\"ticks\":\"\"}},\"type\":\"scatterpolargl\"}],\"scatterpolar\":[{\"marker\":{\"colorbar\":{\"outlinewidth\":0,\"ticks\":\"\"}},\"type\":\"scatterpolar\"}],\"scatter\":[{\"fillpattern\":{\"fillmode\":\"overlay\",\"size\":10,\"solidity\":0.2},\"type\":\"scatter\"}],\"scatterternary\":[{\"marker\":{\"colorbar\":{\"outlinewidth\":0,\"ticks\":\"\"}},\"type\":\"scatterternary\"}],\"surface\":[{\"colorbar\":{\"outlinewidth\":0,\"ticks\":\"\"},\"colorscale\":[[0.0,\"#0d0887\"],[0.1111111111111111,\"#46039f\"],[0.2222222222222222,\"#7201a8\"],[0.3333333333333333,\"#9c179e\"],[0.4444444444444444,\"#bd3786\"],[0.5555555555555556,\"#d8576b\"],[0.6666666666666666,\"#ed7953\"],[0.7777777777777778,\"#fb9f3a\"],[0.8888888888888888,\"#fdca26\"],[1.0,\"#f0f921\"]],\"type\":\"surface\"}],\"table\":[{\"cells\":{\"fill\":{\"color\":\"#EBF0F8\"},\"line\":{\"color\":\"white\"}},\"header\":{\"fill\":{\"color\":\"#C8D4E3\"},\"line\":{\"color\":\"white\"}},\"type\":\"table\"}]},\"layout\":{\"annotationdefaults\":{\"arrowcolor\":\"#2a3f5f\",\"arrowhead\":0,\"arrowwidth\":1},\"autotypenumbers\":\"strict\",\"coloraxis\":{\"colorbar\":{\"outlinewidth\":0,\"ticks\":\"\"}},\"colorscale\":{\"diverging\":[[0,\"#8e0152\"],[0.1,\"#c51b7d\"],[0.2,\"#de77ae\"],[0.3,\"#f1b6da\"],[0.4,\"#fde0ef\"],[0.5,\"#f7f7f7\"],[0.6,\"#e6f5d0\"],[0.7,\"#b8e186\"],[0.8,\"#7fbc41\"],[0.9,\"#4d9221\"],[1,\"#276419\"]],\"sequential\":[[0.0,\"#0d0887\"],[0.1111111111111111,\"#46039f\"],[0.2222222222222222,\"#7201a8\"],[0.3333333333333333,\"#9c179e\"],[0.4444444444444444,\"#bd3786\"],[0.5555555555555556,\"#d8576b\"],[0.6666666666666666,\"#ed7953\"],[0.7777777777777778,\"#fb9f3a\"],[0.8888888888888888,\"#fdca26\"],[1.0,\"#f0f921\"]],\"sequentialminus\":[[0.0,\"#0d0887\"],[0.1111111111111111,\"#46039f\"],[0.2222222222222222,\"#7201a8\"],[0.3333333333333333,\"#9c179e\"],[0.4444444444444444,\"#bd3786\"],[0.5555555555555556,\"#d8576b\"],[0.6666666666666666,\"#ed7953\"],[0.7777777777777778,\"#fb9f3a\"],[0.8888888888888888,\"#fdca26\"],[1.0,\"#f0f921\"]]},\"colorway\":[\"#636efa\",\"#EF553B\",\"#00cc96\",\"#ab63fa\",\"#FFA15A\",\"#19d3f3\",\"#FF6692\",\"#B6E880\",\"#FF97FF\",\"#FECB52\"],\"font\":{\"color\":\"#2a3f5f\"},\"geo\":{\"bgcolor\":\"white\",\"lakecolor\":\"white\",\"landcolor\":\"#E5ECF6\",\"showlakes\":true,\"showland\":true,\"subunitcolor\":\"white\"},\"hoverlabel\":{\"align\":\"left\"},\"hovermode\":\"closest\",\"mapbox\":{\"style\":\"light\"},\"paper_bgcolor\":\"white\",\"plot_bgcolor\":\"#E5ECF6\",\"polar\":{\"angularaxis\":{\"gridcolor\":\"white\",\"linecolor\":\"white\",\"ticks\":\"\"},\"bgcolor\":\"#E5ECF6\",\"radialaxis\":{\"gridcolor\":\"white\",\"linecolor\":\"white\",\"ticks\":\"\"}},\"scene\":{\"xaxis\":{\"backgroundcolor\":\"#E5ECF6\",\"gridcolor\":\"white\",\"gridwidth\":2,\"linecolor\":\"white\",\"showbackground\":true,\"ticks\":\"\",\"zerolinecolor\":\"white\"},\"yaxis\":{\"backgroundcolor\":\"#E5ECF6\",\"gridcolor\":\"white\",\"gridwidth\":2,\"linecolor\":\"white\",\"showbackground\":true,\"ticks\":\"\",\"zerolinecolor\":\"white\"},\"zaxis\":{\"backgroundcolor\":\"#E5ECF6\",\"gridcolor\":\"white\",\"gridwidth\":2,\"linecolor\":\"white\",\"showbackground\":true,\"ticks\":\"\",\"zerolinecolor\":\"white\"}},\"shapedefaults\":{\"line\":{\"color\":\"#2a3f5f\"}},\"ternary\":{\"aaxis\":{\"gridcolor\":\"white\",\"linecolor\":\"white\",\"ticks\":\"\"},\"baxis\":{\"gridcolor\":\"white\",\"linecolor\":\"white\",\"ticks\":\"\"},\"bgcolor\":\"#E5ECF6\",\"caxis\":{\"gridcolor\":\"white\",\"linecolor\":\"white\",\"ticks\":\"\"}},\"title\":{\"x\":0.05},\"xaxis\":{\"automargin\":true,\"gridcolor\":\"white\",\"linecolor\":\"white\",\"ticks\":\"\",\"title\":{\"standoff\":15},\"zerolinecolor\":\"white\",\"zerolinewidth\":2},\"yaxis\":{\"automargin\":true,\"gridcolor\":\"white\",\"linecolor\":\"white\",\"ticks\":\"\",\"title\":{\"standoff\":15},\"zerolinecolor\":\"white\",\"zerolinewidth\":2}}},\"title\":{\"text\":\"Topic difference (two models)[jaccard distance]\"},\"width\":950,\"xaxis\":{\"title\":{\"text\":\"topic\"}},\"yaxis\":{\"title\":{\"text\":\"topic\"}}},                        {\"responsive\": true}                    ).then(function(){\n",
              "                            \n",
              "var gd = document.getElementById('d51fc727-add7-43b0-94c4-da5854ef07cd');\n",
              "var x = new MutationObserver(function (mutations, observer) {{\n",
              "        var display = window.getComputedStyle(gd).display;\n",
              "        if (!display || display === 'none') {{\n",
              "            console.log([gd, 'removed!']);\n",
              "            Plotly.purge(gd);\n",
              "            observer.disconnect();\n",
              "        }}\n",
              "}});\n",
              "\n",
              "// Listen for the removal of the full notebook cells\n",
              "var notebookContainer = gd.closest('#notebook-container');\n",
              "if (notebookContainer) {{\n",
              "    x.observe(notebookContainer, {childList: true});\n",
              "}}\n",
              "\n",
              "// Listen for the clearing of the current output cell\n",
              "var outputEl = gd.closest('.output');\n",
              "if (outputEl) {{\n",
              "    x.observe(outputEl, {childList: true});\n",
              "}}\n",
              "\n",
              "                        })                };                            </script>        </div>\n",
              "</body>\n",
              "</html>"
            ]
          },
          "metadata": {}
        }
      ]
    },
    {
      "cell_type": "markdown",
      "source": [
        "Rohitha - Build corpus representation based on TF-IDF"
      ],
      "metadata": {
        "id": "jPeNEfcyTjaZ"
      }
    }
  ]
}