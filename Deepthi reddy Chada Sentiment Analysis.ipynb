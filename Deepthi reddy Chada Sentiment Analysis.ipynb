{
  "cells": [
    {
      "cell_type": "markdown",
      "metadata": {
        "id": "yNhL3Dc5x986"
      },
      "source": [
        "#Sentiment Analysis\n",
        "\n",
        "Sentiment analysis (a.k.a opinion mining), in its simple form, identifies whether a piece of text has negative or positive emotion.\n",
        "Sentiment analysis is a supervised learning task, where our algorithm learns how to classify text as positive/negative from labeled textual data.\n",
        "There can be more than two sentiments (e.g., neutral, happy, etc.), in which case we deal with a text classification task with multiple outcomes.\n",
        "\n",
        "Sentiment analysis is used in various business applications involving textual data, such as performance monitoring (based on user feedback), assessing brand reputation, market research for product launches.\n"
      ]
    },
    {
      "cell_type": "markdown",
      "metadata": {
        "id": "BOuhbg-XG312"
      },
      "source": [
        "## Scenario\n",
        "We will use a dataset on restaurant reviews for this exercise. The\n",
        "sentiment for each review has been manually labeled for this dataset: positive=1, negative=0."
      ]
    },
    {
      "cell_type": "code",
      "execution_count": null,
      "metadata": {
        "colab": {
          "base_uri": "https://localhost:8080/",
          "height": 143
        },
        "id": "vRbey1H5wVQN",
        "outputId": "f0c38d54-c721-4440-f08b-618d67e19631"
      },
      "outputs": [
        {
          "data": {
            "text/html": [
              "\n",
              "  <div id=\"df-e72bef1d-3379-42dd-a6b3-93bae4cbc87d\" class=\"colab-df-container\">\n",
              "    <div>\n",
              "<style scoped>\n",
              "    .dataframe tbody tr th:only-of-type {\n",
              "        vertical-align: middle;\n",
              "    }\n",
              "\n",
              "    .dataframe tbody tr th {\n",
              "        vertical-align: top;\n",
              "    }\n",
              "\n",
              "    .dataframe thead th {\n",
              "        text-align: right;\n",
              "    }\n",
              "</style>\n",
              "<table border=\"1\" class=\"dataframe\">\n",
              "  <thead>\n",
              "    <tr style=\"text-align: right;\">\n",
              "      <th></th>\n",
              "      <th>Review</th>\n",
              "      <th>Sentiment</th>\n",
              "    </tr>\n",
              "  </thead>\n",
              "  <tbody>\n",
              "    <tr>\n",
              "      <th>0</th>\n",
              "      <td>Wow... Loved this place.</td>\n",
              "      <td>1</td>\n",
              "    </tr>\n",
              "    <tr>\n",
              "      <th>1</th>\n",
              "      <td>Crust is not good.</td>\n",
              "      <td>0</td>\n",
              "    </tr>\n",
              "    <tr>\n",
              "      <th>2</th>\n",
              "      <td>Not tasty and the texture was just nasty.</td>\n",
              "      <td>0</td>\n",
              "    </tr>\n",
              "  </tbody>\n",
              "</table>\n",
              "</div>\n",
              "    <div class=\"colab-df-buttons\">\n",
              "\n",
              "  <div class=\"colab-df-container\">\n",
              "    <button class=\"colab-df-convert\" onclick=\"convertToInteractive('df-e72bef1d-3379-42dd-a6b3-93bae4cbc87d')\"\n",
              "            title=\"Convert this dataframe to an interactive table.\"\n",
              "            style=\"display:none;\">\n",
              "\n",
              "  <svg xmlns=\"http://www.w3.org/2000/svg\" height=\"24px\" viewBox=\"0 -960 960 960\">\n",
              "    <path d=\"M120-120v-720h720v720H120Zm60-500h600v-160H180v160Zm220 220h160v-160H400v160Zm0 220h160v-160H400v160ZM180-400h160v-160H180v160Zm440 0h160v-160H620v160ZM180-180h160v-160H180v160Zm440 0h160v-160H620v160Z\"/>\n",
              "  </svg>\n",
              "    </button>\n",
              "\n",
              "  <style>\n",
              "    .colab-df-container {\n",
              "      display:flex;\n",
              "      gap: 12px;\n",
              "    }\n",
              "\n",
              "    .colab-df-convert {\n",
              "      background-color: #E8F0FE;\n",
              "      border: none;\n",
              "      border-radius: 50%;\n",
              "      cursor: pointer;\n",
              "      display: none;\n",
              "      fill: #1967D2;\n",
              "      height: 32px;\n",
              "      padding: 0 0 0 0;\n",
              "      width: 32px;\n",
              "    }\n",
              "\n",
              "    .colab-df-convert:hover {\n",
              "      background-color: #E2EBFA;\n",
              "      box-shadow: 0px 1px 2px rgba(60, 64, 67, 0.3), 0px 1px 3px 1px rgba(60, 64, 67, 0.15);\n",
              "      fill: #174EA6;\n",
              "    }\n",
              "\n",
              "    .colab-df-buttons div {\n",
              "      margin-bottom: 4px;\n",
              "    }\n",
              "\n",
              "    [theme=dark] .colab-df-convert {\n",
              "      background-color: #3B4455;\n",
              "      fill: #D2E3FC;\n",
              "    }\n",
              "\n",
              "    [theme=dark] .colab-df-convert:hover {\n",
              "      background-color: #434B5C;\n",
              "      box-shadow: 0px 1px 3px 1px rgba(0, 0, 0, 0.15);\n",
              "      filter: drop-shadow(0px 1px 2px rgba(0, 0, 0, 0.3));\n",
              "      fill: #FFFFFF;\n",
              "    }\n",
              "  </style>\n",
              "\n",
              "    <script>\n",
              "      const buttonEl =\n",
              "        document.querySelector('#df-e72bef1d-3379-42dd-a6b3-93bae4cbc87d button.colab-df-convert');\n",
              "      buttonEl.style.display =\n",
              "        google.colab.kernel.accessAllowed ? 'block' : 'none';\n",
              "\n",
              "      async function convertToInteractive(key) {\n",
              "        const element = document.querySelector('#df-e72bef1d-3379-42dd-a6b3-93bae4cbc87d');\n",
              "        const dataTable =\n",
              "          await google.colab.kernel.invokeFunction('convertToInteractive',\n",
              "                                                    [key], {});\n",
              "        if (!dataTable) return;\n",
              "\n",
              "        const docLinkHtml = 'Like what you see? Visit the ' +\n",
              "          '<a target=\"_blank\" href=https://colab.research.google.com/notebooks/data_table.ipynb>data table notebook</a>'\n",
              "          + ' to learn more about interactive tables.';\n",
              "        element.innerHTML = '';\n",
              "        dataTable['output_type'] = 'display_data';\n",
              "        await google.colab.output.renderOutput(dataTable, element);\n",
              "        const docLink = document.createElement('div');\n",
              "        docLink.innerHTML = docLinkHtml;\n",
              "        element.appendChild(docLink);\n",
              "      }\n",
              "    </script>\n",
              "  </div>\n",
              "\n",
              "\n",
              "<div id=\"df-f460dec3-87a0-4d20-b017-df467a1e6a76\">\n",
              "  <button class=\"colab-df-quickchart\" onclick=\"quickchart('df-f460dec3-87a0-4d20-b017-df467a1e6a76')\"\n",
              "            title=\"Suggest charts\"\n",
              "            style=\"display:none;\">\n",
              "\n",
              "<svg xmlns=\"http://www.w3.org/2000/svg\" height=\"24px\"viewBox=\"0 0 24 24\"\n",
              "     width=\"24px\">\n",
              "    <g>\n",
              "        <path d=\"M19 3H5c-1.1 0-2 .9-2 2v14c0 1.1.9 2 2 2h14c1.1 0 2-.9 2-2V5c0-1.1-.9-2-2-2zM9 17H7v-7h2v7zm4 0h-2V7h2v10zm4 0h-2v-4h2v4z\"/>\n",
              "    </g>\n",
              "</svg>\n",
              "  </button>\n",
              "\n",
              "<style>\n",
              "  .colab-df-quickchart {\n",
              "      --bg-color: #E8F0FE;\n",
              "      --fill-color: #1967D2;\n",
              "      --hover-bg-color: #E2EBFA;\n",
              "      --hover-fill-color: #174EA6;\n",
              "      --disabled-fill-color: #AAA;\n",
              "      --disabled-bg-color: #DDD;\n",
              "  }\n",
              "\n",
              "  [theme=dark] .colab-df-quickchart {\n",
              "      --bg-color: #3B4455;\n",
              "      --fill-color: #D2E3FC;\n",
              "      --hover-bg-color: #434B5C;\n",
              "      --hover-fill-color: #FFFFFF;\n",
              "      --disabled-bg-color: #3B4455;\n",
              "      --disabled-fill-color: #666;\n",
              "  }\n",
              "\n",
              "  .colab-df-quickchart {\n",
              "    background-color: var(--bg-color);\n",
              "    border: none;\n",
              "    border-radius: 50%;\n",
              "    cursor: pointer;\n",
              "    display: none;\n",
              "    fill: var(--fill-color);\n",
              "    height: 32px;\n",
              "    padding: 0;\n",
              "    width: 32px;\n",
              "  }\n",
              "\n",
              "  .colab-df-quickchart:hover {\n",
              "    background-color: var(--hover-bg-color);\n",
              "    box-shadow: 0 1px 2px rgba(60, 64, 67, 0.3), 0 1px 3px 1px rgba(60, 64, 67, 0.15);\n",
              "    fill: var(--button-hover-fill-color);\n",
              "  }\n",
              "\n",
              "  .colab-df-quickchart-complete:disabled,\n",
              "  .colab-df-quickchart-complete:disabled:hover {\n",
              "    background-color: var(--disabled-bg-color);\n",
              "    fill: var(--disabled-fill-color);\n",
              "    box-shadow: none;\n",
              "  }\n",
              "\n",
              "  .colab-df-spinner {\n",
              "    border: 2px solid var(--fill-color);\n",
              "    border-color: transparent;\n",
              "    border-bottom-color: var(--fill-color);\n",
              "    animation:\n",
              "      spin 1s steps(1) infinite;\n",
              "  }\n",
              "\n",
              "  @keyframes spin {\n",
              "    0% {\n",
              "      border-color: transparent;\n",
              "      border-bottom-color: var(--fill-color);\n",
              "      border-left-color: var(--fill-color);\n",
              "    }\n",
              "    20% {\n",
              "      border-color: transparent;\n",
              "      border-left-color: var(--fill-color);\n",
              "      border-top-color: var(--fill-color);\n",
              "    }\n",
              "    30% {\n",
              "      border-color: transparent;\n",
              "      border-left-color: var(--fill-color);\n",
              "      border-top-color: var(--fill-color);\n",
              "      border-right-color: var(--fill-color);\n",
              "    }\n",
              "    40% {\n",
              "      border-color: transparent;\n",
              "      border-right-color: var(--fill-color);\n",
              "      border-top-color: var(--fill-color);\n",
              "    }\n",
              "    60% {\n",
              "      border-color: transparent;\n",
              "      border-right-color: var(--fill-color);\n",
              "    }\n",
              "    80% {\n",
              "      border-color: transparent;\n",
              "      border-right-color: var(--fill-color);\n",
              "      border-bottom-color: var(--fill-color);\n",
              "    }\n",
              "    90% {\n",
              "      border-color: transparent;\n",
              "      border-bottom-color: var(--fill-color);\n",
              "    }\n",
              "  }\n",
              "</style>\n",
              "\n",
              "  <script>\n",
              "    async function quickchart(key) {\n",
              "      const quickchartButtonEl =\n",
              "        document.querySelector('#' + key + ' button');\n",
              "      quickchartButtonEl.disabled = true;  // To prevent multiple clicks.\n",
              "      quickchartButtonEl.classList.add('colab-df-spinner');\n",
              "      try {\n",
              "        const charts = await google.colab.kernel.invokeFunction(\n",
              "            'suggestCharts', [key], {});\n",
              "      } catch (error) {\n",
              "        console.error('Error during call to suggestCharts:', error);\n",
              "      }\n",
              "      quickchartButtonEl.classList.remove('colab-df-spinner');\n",
              "      quickchartButtonEl.classList.add('colab-df-quickchart-complete');\n",
              "    }\n",
              "    (() => {\n",
              "      let quickchartButtonEl =\n",
              "        document.querySelector('#df-f460dec3-87a0-4d20-b017-df467a1e6a76 button');\n",
              "      quickchartButtonEl.style.display =\n",
              "        google.colab.kernel.accessAllowed ? 'block' : 'none';\n",
              "    })();\n",
              "  </script>\n",
              "</div>\n",
              "    </div>\n",
              "  </div>\n"
            ],
            "text/plain": [
              "                                      Review  Sentiment\n",
              "0                   Wow... Loved this place.          1\n",
              "1                         Crust is not good.          0\n",
              "2  Not tasty and the texture was just nasty.          0"
            ]
          },
          "execution_count": 2,
          "metadata": {},
          "output_type": "execute_result"
        }
      ],
      "source": [
        "# importing restaurant reviews dataset\n",
        "import numpy as np\n",
        "import pandas as pd\n",
        "df=pd.read_csv('Restaurant_Reviews.tsv',delimiter=\"\\t\")\n",
        "df.head(3)"
      ]
    },
    {
      "cell_type": "code",
      "execution_count": null,
      "metadata": {
        "colab": {
          "base_uri": "https://localhost:8080/"
        },
        "id": "rDKrAAeNw2IO",
        "outputId": "8aa60d73-6323-44d0-a48c-29cab1646184"
      },
      "outputs": [
        {
          "data": {
            "text/plain": [
              "(1000,)"
            ]
          },
          "execution_count": 3,
          "metadata": {},
          "output_type": "execute_result"
        }
      ],
      "source": [
        "X=df.Review\n",
        "Y=df.Sentiment\n",
        "X.shape"
      ]
    },
    {
      "cell_type": "markdown",
      "metadata": {
        "id": "6jL5tOfMb4dA"
      },
      "source": [
        "#Sentiment Analysis using BOW approach and ML models\n",
        "We will first use the bag-of-words approach for text processing and classic ML models such as Logistic Regression."
      ]
    },
    {
      "cell_type": "markdown",
      "metadata": {
        "id": "vsc8TYtw_dPO"
      },
      "source": [
        "## Text pre-processing\n",
        "\n",
        "First, we need to pre-process the text data.\n",
        "We use another library this time for the pre-rocessing steps.\n",
        "\n",
        "The *TfidfVectorizer* function lower-cases all words, removes punctuations and stopwords, tokenizes the documents, and derives the tf-idf document-term matrix.\n",
        "When we fit it on our corpus it also derives the vocabulary.\n"
      ]
    },
    {
      "cell_type": "code",
      "execution_count": null,
      "metadata": {
        "colab": {
          "base_uri": "https://localhost:8080/"
        },
        "id": "RdHnWcohKpmg",
        "outputId": "574e734a-5886-40a0-e7d2-5e20d6418240"
      },
      "outputs": [
        {
          "data": {
            "text/plain": [
              "(1000, 1820)"
            ]
          },
          "execution_count": 4,
          "metadata": {},
          "output_type": "execute_result"
        }
      ],
      "source": [
        "from sklearn.feature_extraction.text import TfidfVectorizer\n",
        "# to include n-grams, change the ngram_range below\n",
        "tfidf = TfidfVectorizer(min_df=1, ngram_range=(1, 1), stop_words='english',sublinear_tf=True)\n",
        "X_tfidf = tfidf.fit_transform(X).toarray()\n",
        "X_tfidf.shape"
      ]
    },
    {
      "cell_type": "code",
      "execution_count": null,
      "metadata": {
        "colab": {
          "base_uri": "https://localhost:8080/"
        },
        "id": "TydZBcjzVbjz",
        "outputId": "ca71f84a-33f7-44d6-d617-07c9960b68f9"
      },
      "outputs": [
        {
          "name": "stdout",
          "output_type": "stream",
          "text": [
            "Waitress was a little slow in service.\n"
          ]
        },
        {
          "data": {
            "text/plain": [
              "[array(['little', 'service', 'slow', 'waitress'], dtype='<U17')]"
            ]
          },
          "execution_count": 8,
          "metadata": {},
          "output_type": "execute_result"
        }
      ],
      "source": [
        "# Let's take a look at a review and its tokens from the tf-idf matrix\n",
        "print(X[17]),\n",
        "tfidf.inverse_transform(X_tfidf[17].reshape(1,-1))"
      ]
    },
    {
      "cell_type": "code",
      "execution_count": null,
      "metadata": {
        "colab": {
          "base_uri": "https://localhost:8080/"
        },
        "id": "QkVycVCK7yXf",
        "outputId": "c6d12afb-b148-4c1d-9924-73de90bf1414"
      },
      "outputs": [
        {
          "data": {
            "text/plain": [
              "4"
            ]
          },
          "execution_count": 9,
          "metadata": {},
          "output_type": "execute_result"
        }
      ],
      "source": [
        "# number of tokens in each document (review) of our corpus\n",
        "num_tokens = [np.count_nonzero(tokens) for tokens in X_tfidf]\n",
        "num_tokens[17]"
      ]
    },
    {
      "cell_type": "code",
      "execution_count": null,
      "metadata": {
        "colab": {
          "base_uri": "https://localhost:8080/"
        },
        "id": "9q339lNipT29",
        "outputId": "609e2fd9-7c3f-4350-e282-80429ce3fe78"
      },
      "outputs": [
        {
          "data": {
            "text/plain": [
              "1820"
            ]
          },
          "execution_count": 10,
          "metadata": {},
          "output_type": "execute_result"
        }
      ],
      "source": [
        "# number of words in our vocabulary\n",
        "num_words=len(tfidf.vocabulary_)\n",
        "num_words"
      ]
    },
    {
      "cell_type": "markdown",
      "metadata": {
        "id": "oiovQh8Ii1ja"
      },
      "source": [
        "## Split the data into test/train\n",
        "We split the tranformed data (i.e, the tf-idf doc-term matrix) into testing and training set. I keep a small part for the testing set here."
      ]
    },
    {
      "cell_type": "code",
      "execution_count": null,
      "metadata": {
        "id": "VSuOFzlUi1Ah"
      },
      "outputs": [],
      "source": [
        "from sklearn.model_selection import train_test_split\n",
        "X_train, X_test, y_train, y_test = train_test_split(X_tfidf, Y, test_size=0.20,random_state=123)"
      ]
    },
    {
      "cell_type": "markdown",
      "metadata": {
        "id": "vEf8fk0eIJx2"
      },
      "source": [
        "## ML models for text classification\n",
        "Our outcome is binary (positive/negative), so we will try Logistic Regression, Naive Bayes, and multinomial Naive Bayes (good choice for text classification with multiple outcomes).\n",
        "\n",
        "We train all these models using k-fold Cross validation on the training set (X_train).\n",
        "For each run in our k-fold CV, X_train is split into a training and validation set. We will use the testing set (X_test) in the next part to evaluate the selected model.\n",
        "\n",
        "For more details on *Multinomial Naive Bayes* and its comparison to Naive Bayes, see https://en.wikipedia.org/wiki/Naive_Bayes_classifier#Multinomial_naive_Bayes and\n",
        "https://stats.stackexchange.com/questions/33185/difference-between-naive-bayes-multinomial-naive-bayes"
      ]
    },
    {
      "cell_type": "code",
      "execution_count": null,
      "metadata": {
        "colab": {
          "base_uri": "https://localhost:8080/",
          "height": 530
        },
        "id": "wzyv9GiZKZ3L",
        "outputId": "c0026a6e-3694-45da-dab5-4cb4585eac24"
      },
      "outputs": [
        {
          "name": "stdout",
          "output_type": "stream",
          "text": [
            "LogisticReg: 0.771250 (0.034369)\n",
            "NaiveBayes: 0.690000 (0.023914)\n",
            "MultinomialNB: 0.770000 (0.026634)\n"
          ]
        },
        {
          "data": {
            "image/png": "[encoded data removed]",
            "text/plain": [
              "<Figure size 640x480 with 1 Axes>"
            ]
          },
          "metadata": {},
          "output_type": "display_data"
        }
      ],
      "source": [
        "#import warnings\n",
        "#warnings.filterwarnings('ignore')\n",
        "import matplotlib.pyplot as plt\n",
        "from sklearn import model_selection\n",
        "from sklearn.linear_model import LogisticRegression\n",
        "from sklearn.naive_bayes import GaussianNB\n",
        "from sklearn.naive_bayes import MultinomialNB\n",
        "#from sklearn.svm import SVC\n",
        "\n",
        "# prepare models\n",
        "models = []\n",
        "models.append(('LogisticReg', LogisticRegression()))\n",
        "models.append(('NaiveBayes', GaussianNB()))\n",
        "models.append(('MultinomialNB', MultinomialNB()))\n",
        "#models.append(('SVM', SVC()))\n",
        "# evaluate each model in turn\n",
        "results = []\n",
        "names = []\n",
        "scoring = 'accuracy' #metric we want to compare\n",
        "\n",
        "for name, model in models:\n",
        "\tkfold = model_selection.KFold(n_splits=5,shuffle=True, random_state=0)\n",
        " #use X_tfidf, Y  in following line to run on complete dataset #X_train,y_train\n",
        "\tcv_results = model_selection.cross_val_score(model, X_train, y_train, cv=kfold, scoring=scoring)\n",
        "\tresults.append(cv_results)\n",
        "\tnames.append(name)\n",
        "\tmsg = \"%s: %f (%f)\" % (name, cv_results.mean(), cv_results.std())\n",
        "\tprint(msg)\n",
        "# boxplot model comparison\n",
        "fig = plt.figure()\n",
        "fig.suptitle('Comparing Text classification models: ' +scoring)\n",
        "ax = fig.add_subplot(111)\n",
        "plt.boxplot(results)\n",
        "ax.set_xticklabels(names)\n",
        "plt.show()"
      ]
    },
    {
      "cell_type": "markdown",
      "metadata": {
        "id": "6YULdg3n8NbX"
      },
      "source": [
        "### Question 1\n",
        "Which model has a better accuracy in labeling negative/positive reviews?"
      ]
    },
    {
      "cell_type": "markdown",
      "metadata": {
        "id": "akOevDp_ZSwd"
      },
      "source": [
        "Ans:Logistic Regression has better accuracy in labelling  nagative/positive reviews."
      ]
    },
    {
      "cell_type": "markdown",
      "metadata": {
        "id": "tjGisRNNgpEb"
      },
      "source": [
        "### Question 2\n",
        "Derive the vocabulary again, and this time include 2-grams (go back to Text pre-processing section, include 2-grams and re-run the steps till the above cell). Does it improve predictive performance for any of the above modelsy?  "
      ]
    },
    {
      "cell_type": "markdown",
      "metadata": {
        "id": "w889TfoBZdcD"
      },
      "source": [
        "Answer: Multinomial NB increased by.25%, but accuracy of logistic regression and naive bias decreased."
      ]
    },
    {
      "cell_type": "markdown",
      "metadata": {
        "id": "d2A8US_2cUU0"
      },
      "source": [
        "## Evaluating Logistic Regression classifer  on test data\n",
        "\n",
        "Let's pick the logistic regression classifier and evaluate it on the test set."
      ]
    },
    {
      "cell_type": "code",
      "execution_count": null,
      "metadata": {
        "id": "gyZl_wIcaGxx"
      },
      "outputs": [],
      "source": [
        "# Logistic regression\n",
        "model_LogReg = LogisticRegression(random_state=0)\n",
        "model_LogReg.fit(X_train, y_train)\n",
        "\n",
        "#y_pred_proba = model_LogReg.predict_proba(X_test)\n",
        "y_pred = model_LogReg.predict(X_test)"
      ]
    },
    {
      "cell_type": "code",
      "execution_count": null,
      "metadata": {
        "colab": {
          "base_uri": "https://localhost:8080/",
          "height": 856
        },
        "id": "SCHL_7-7ZnLZ",
        "outputId": "68f9d0aa-e14c-46b4-c80b-5c8db42e2cce"
      },
      "outputs": [
        {
          "name": "stdout",
          "output_type": "stream",
          "text": [
            "Collecting scikit-plot\n",
            "  Downloading scikit_plot-0.3.7-py3-none-any.whl (33 kB)\n",
            "Requirement already satisfied: matplotlib>=1.4.0 in /usr/local/lib/python3.10/dist-packages (from scikit-plot) (3.7.1)\n",
            "Requirement already satisfied: scikit-learn>=0.18 in /usr/local/lib/python3.10/dist-packages (from scikit-plot) (1.2.2)\n",
            "Requirement already satisfied: scipy>=0.9 in /usr/local/lib/python3.10/dist-packages (from scikit-plot) (1.11.3)\n",
            "Requirement already satisfied: joblib>=0.10 in /usr/local/lib/python3.10/dist-packages (from scikit-plot) (1.3.2)\n",
            "Requirement already satisfied: contourpy>=1.0.1 in /usr/local/lib/python3.10/dist-packages (from matplotlib>=1.4.0->scikit-plot) (1.2.0)\n",
            "Requirement already satisfied: cycler>=0.10 in /usr/local/lib/python3.10/dist-packages (from matplotlib>=1.4.0->scikit-plot) (0.12.1)\n",
            "Requirement already satisfied: fonttools>=4.22.0 in /usr/local/lib/python3.10/dist-packages (from matplotlib>=1.4.0->scikit-plot) (4.44.3)\n",
            "Requirement already satisfied: kiwisolver>=1.0.1 in /usr/local/lib/python3.10/dist-packages (from matplotlib>=1.4.0->scikit-plot) (1.4.5)\n",
            "Requirement already satisfied: numpy>=1.20 in /usr/local/lib/python3.10/dist-packages (from matplotlib>=1.4.0->scikit-plot) (1.23.5)\n",
            "Requirement already satisfied: packaging>=20.0 in /usr/local/lib/python3.10/dist-packages (from matplotlib>=1.4.0->scikit-plot) (23.2)\n",
            "Requirement already satisfied: pillow>=6.2.0 in /usr/local/lib/python3.10/dist-packages (from matplotlib>=1.4.0->scikit-plot) (9.4.0)\n",
            "Requirement already satisfied: pyparsing>=2.3.1 in /usr/local/lib/python3.10/dist-packages (from matplotlib>=1.4.0->scikit-plot) (3.1.1)\n",
            "Requirement already satisfied: python-dateutil>=2.7 in /usr/local/lib/python3.10/dist-packages (from matplotlib>=1.4.0->scikit-plot) (2.8.2)\n",
            "Requirement already satisfied: threadpoolctl>=2.0.0 in /usr/local/lib/python3.10/dist-packages (from scikit-learn>=0.18->scikit-plot) (3.2.0)\n",
            "Requirement already satisfied: six>=1.5 in /usr/local/lib/python3.10/dist-packages (from python-dateutil>=2.7->matplotlib>=1.4.0->scikit-plot) (1.16.0)\n",
            "Installing collected packages: scikit-plot\n",
            "Successfully installed scikit-plot-0.3.7\n",
            "Accuracy: 0.795\n",
            "Balanced Acc.: 0.7957393483709273\n"
          ]
        },
        {
          "data": {
            "image/png": "[encoded data removed]",
            "text/plain": [
              "<Figure size 640x480 with 2 Axes>"
            ]
          },
          "metadata": {},
          "output_type": "display_data"
        }
      ],
      "source": [
        "!pip install scikit-plot\n",
        "import scikitplot as skplt\n",
        "skplt.metrics.plot_confusion_matrix(y_test, y_pred)\n",
        "\n",
        "from sklearn import metrics\n",
        "print(\"Accuracy:\",metrics.accuracy_score(y_test, y_pred)), #Accuracy\n",
        "print(\"Balanced Acc.:\",metrics.balanced_accuracy_score(y_test, y_pred))"
      ]
    },
    {
      "cell_type": "markdown",
      "metadata": {
        "id": "Ivf0YsUO7EDs"
      },
      "source": [
        "## Label a new review using the logistic regression model"
      ]
    },
    {
      "cell_type": "code",
      "execution_count": null,
      "metadata": {
        "colab": {
          "base_uri": "https://localhost:8080/"
        },
        "id": "M-4sPSyh6CcF",
        "outputId": "a2cc9405-9003-48b5-fd4e-2360d6c4137d"
      },
      "outputs": [
        {
          "data": {
            "text/plain": [
              "<1x1820 sparse matrix of type '<class 'numpy.float64'>'\n",
              "\twith 2 stored elements in Compressed Sparse Row format>"
            ]
          },
          "execution_count": 18,
          "metadata": {},
          "output_type": "execute_result"
        }
      ],
      "source": [
        "# label a new review using our model\n",
        "new_review= ['food can be better']\n",
        "#process new review into doc-term matrix\n",
        "X_new=tfidf.transform(new_review)\n",
        "X_new"
      ]
    },
    {
      "cell_type": "code",
      "execution_count": null,
      "metadata": {
        "colab": {
          "base_uri": "https://localhost:8080/"
        },
        "id": "e4ZSdBMf6ntF",
        "outputId": "d08653e2-6b12-4685-809a-ce3da8cd5f41"
      },
      "outputs": [
        {
          "name": "stdout",
          "output_type": "stream",
          "text": [
            "[[0.59621978 0.40378022]]\n",
            "[0]\n"
          ]
        }
      ],
      "source": [
        "print(model_LogReg.predict_proba(X_new)) #predict class probabilities\n",
        "print(model_LogReg.predict(X_new)) #predict outcome class"
      ]
    },
    {
      "cell_type": "markdown",
      "metadata": {
        "id": "xL_NkzkZ8EOD"
      },
      "source": [
        "### Question 3\n",
        "Does the model label the new input as negative or positive?"
      ]
    },
    {
      "cell_type": "markdown",
      "metadata": {
        "id": "XaDPgD2WZjnk"
      },
      "source": [
        "Ans:The new input is classified as negative."
      ]
    },
    {
      "cell_type": "markdown",
      "metadata": {
        "id": "Dm2rUUlsKOPl"
      },
      "source": [
        "# Sentiment analysis using word embeddings and RNNs (LSTM/GRU)\n"
      ]
    },
    {
      "cell_type": "code",
      "execution_count": null,
      "metadata": {
        "id": "3S2vPhiTjhjw"
      },
      "outputs": [],
      "source": [
        "import tensorflow.keras as tk\n",
        "from tensorflow.keras.layers import Embedding, Dense, Dropout, LSTM, GRU, Bidirectional,RNN\n",
        "tk.__version__"
      ]
    },
    {
      "cell_type": "markdown",
      "metadata": {
        "id": "YJrxMa5DQrv0"
      },
      "source": [
        "## Preprocessing text data for RNN\n",
        "To use Recurrent neural network architectures for text classification, we need to pre-process text data little differently from what we did above.\n",
        "* We create a vocabulary by tokenizing all document in our corpus.\n",
        "* Then, we sequence each document into integer-tokens using the derived vocabulary.\n",
        "* To correctly feed each document input to the RNN, each sequenced document has to have the same length. Therefore, we pad/truncate documents.\n",
        "* We use an embedding layer to convert the integer-vectors into real-valued vectors (more details in section below)\n",
        "* The output of the embedding layer is fed into our Recurrent NN\n"
      ]
    },
    {
      "cell_type": "code",
      "execution_count": null,
      "metadata": {
        "id": "0JdGvtbuo5U8"
      },
      "outputs": [],
      "source": [
        "from tensorflow.keras.preprocessing.text import Tokenizer #removes punctuations and lower-cases all words before tokenizing\n",
        "from tensorflow.keras.preprocessing.sequence import pad_sequences"
      ]
    },
    {
      "cell_type": "markdown",
      "metadata": {
        "id": "7xFDoSq5L4PC"
      },
      "source": [
        "### Why am I not using all the pre-processing steps here?!"
      ]
    },
    {
      "cell_type": "code",
      "execution_count": null,
      "metadata": {
        "colab": {
          "base_uri": "https://localhost:8080/"
        },
        "id": "OItIjTRMHczm",
        "outputId": "8a05fd5e-e54f-4bd9-a8d2-79ba518a4a3f"
      },
      "outputs": [
        {
          "name": "stderr",
          "output_type": "stream",
          "text": [
            "[nltk_data] Downloading package wordnet to /root/nltk_data...\n"
          ]
        },
        {
          "data": {
            "text/plain": [
              "True"
            ]
          },
          "execution_count": 33,
          "metadata": {},
          "output_type": "execute_result"
        }
      ],
      "source": [
        "import gensim\n",
        "from gensim.parsing.preprocessing import remove_stopwords,strip_tags,strip_multiple_whitespaces,strip_punctuation\n",
        "import nltk\n",
        "from nltk.stem.wordnet import WordNetLemmatizer\n",
        "nltk.download('wordnet')"
      ]
    },
    {
      "cell_type": "code",
      "execution_count": null,
      "metadata": {
        "id": "aEKLwU4sH01a"
      },
      "outputs": [],
      "source": [
        "tmp=X.apply(strip_multiple_whitespaces)\n",
        "tmp=tmp.apply(str.lower)\n",
        "tmp=tmp.apply(strip_punctuation)"
      ]
    },
    {
      "cell_type": "code",
      "execution_count": null,
      "metadata": {
        "colab": {
          "base_uri": "https://localhost:8080/",
          "height": 35
        },
        "id": "eQ22sr09IPcn",
        "outputId": "69a2d86e-e565-4ec2-c545-7d64f9c63926"
      },
      "outputs": [
        {
          "data": {
            "application/vnd.google.colaboratory.intrinsic+json": {
              "type": "string"
            },
            "text/plain": [
              "'it was not good '"
            ]
          },
          "execution_count": 35,
          "metadata": {},
          "output_type": "execute_result"
        }
      ],
      "source": [
        "tmp[98]"
      ]
    },
    {
      "cell_type": "code",
      "execution_count": null,
      "metadata": {
        "colab": {
          "base_uri": "https://localhost:8080/",
          "height": 35
        },
        "id": "KINVgnb7JUfX",
        "outputId": "cb038a65-9b9d-4422-a90d-08af5849be22"
      },
      "outputs": [
        {
          "data": {
            "application/vnd.google.colaboratory.intrinsic+json": {
              "type": "string"
            },
            "text/plain": [
              "'good'"
            ]
          },
          "execution_count": 36,
          "metadata": {},
          "output_type": "execute_result"
        }
      ],
      "source": [
        "tmp.apply(remove_stopwords)[98]\n",
        "#tmp.apply(WordNetLemmatizer().lemmatize)[29]"
      ]
    },
    {
      "cell_type": "markdown",
      "metadata": {
        "id": "0EIOW-sFULB5"
      },
      "source": [
        "### Tokenizing, sequencing, padding"
      ]
    },
    {
      "cell_type": "code",
      "execution_count": null,
      "metadata": {
        "id": "G2WssYKXf-71"
      },
      "outputs": [],
      "source": [
        "# using the tf.keras tokenizer\n",
        "num_words=1800 #number of words to keep in vocabulary, most common words are kept\n",
        "tokenizer = Tokenizer(num_words=num_words)\n",
        "tokenizer.fit_on_texts(X)"
      ]
    },
    {
      "cell_type": "code",
      "execution_count": null,
      "metadata": {
        "colab": {
          "base_uri": "https://localhost:8080/"
        },
        "id": "s6tSqF4vcflR",
        "outputId": "c49fb2f8-6f8f-4817-ecb3-9cf248117294"
      },
      "outputs": [
        {
          "data": {
            "text/plain": [
              "2071"
            ]
          },
          "execution_count": 38,
          "metadata": {},
          "output_type": "execute_result"
        }
      ],
      "source": [
        "len(tokenizer.word_index) # total number of unique words in our corpus\n",
        "#tokenizer.word_index # run to see what integer is assigned to each word after tokenization"
      ]
    },
    {
      "cell_type": "code",
      "execution_count": null,
      "metadata": {
        "id": "F5LREy5ghXB8"
      },
      "outputs": [],
      "source": [
        "# sequencing our text data (tokenizing based)\n",
        "X_tokens=tokenizer.texts_to_sequences(X)"
      ]
    },
    {
      "cell_type": "code",
      "execution_count": null,
      "metadata": {
        "colab": {
          "base_uri": "https://localhost:8080/"
        },
        "id": "HhkIerJ3h9GH",
        "outputId": "3b2a1e36-c795-439e-f7c3-833e296e59b0"
      },
      "outputs": [
        {
          "data": {
            "text/plain": [
              "(32, 1800)"
            ]
          },
          "execution_count": 40,
          "metadata": {},
          "output_type": "execute_result"
        }
      ],
      "source": [
        "# some values we need for the next step\n",
        "num_tokens= np.array([np.count_nonzero(tokens) for tokens in X_tokens]) #number of tokens in each document\n",
        "max_tokens=max(num_tokens)\n",
        "max_tokens,num_words"
      ]
    },
    {
      "cell_type": "code",
      "execution_count": null,
      "metadata": {
        "colab": {
          "base_uri": "https://localhost:8080/"
        },
        "id": "qsoypBbCipok",
        "outputId": "f9662d87-e71e-4f82-d51e-65abc2e14953"
      },
      "outputs": [
        {
          "data": {
            "text/plain": [
              "(1000, 32)"
            ]
          },
          "execution_count": 41,
          "metadata": {},
          "output_type": "execute_result"
        }
      ],
      "source": [
        "# pad the token sequence for each document so that all documents are of equal length\n",
        "X_tokens_pad = pad_sequences(X_tokens, maxlen=max_tokens,\n",
        "                            padding='pre', truncating='pre')\n",
        "X_tokens_pad.shape"
      ]
    },
    {
      "cell_type": "code",
      "execution_count": null,
      "metadata": {
        "colab": {
          "base_uri": "https://localhost:8080/"
        },
        "id": "3hIEeJqijwpr",
        "outputId": "82d995e1-21a2-4aaf-a26f-752a2f71afd8"
      },
      "outputs": [
        {
          "name": "stdout",
          "output_type": "stream",
          "text": [
            "Waitress was a little slow in service.\n",
            "[203, 4, 5, 168, 153, 14, 17]\n",
            "[  0   0   0   0   0   0   0   0   0   0   0   0   0   0   0   0   0   0\n",
            "   0   0   0   0   0   0   0 203   4   5 168 153  14  17]\n"
          ]
        }
      ],
      "source": [
        "# let's see what happened to a single document at each step\n",
        "print(X[17]) #the textual data\n",
        "print(X_tokens[17]) #the tokenized sequence\n",
        "print(X_tokens_pad[17]) #the padded sequence"
      ]
    },
    {
      "cell_type": "markdown",
      "metadata": {
        "id": "hubATLa7L8-m"
      },
      "source": [
        "## Splitting the processed data into train/test"
      ]
    },
    {
      "cell_type": "code",
      "execution_count": null,
      "metadata": {
        "id": "znkaFH4Hy6hR"
      },
      "outputs": [],
      "source": [
        "# split processed data into train/test\n",
        "from sklearn.model_selection import train_test_split\n",
        "X_train, X_test, y_train, y_test = train_test_split(X_tokens_pad, Y, test_size=0.2,random_state=123)"
      ]
    },
    {
      "cell_type": "code",
      "execution_count": null,
      "metadata": {
        "colab": {
          "base_uri": "https://localhost:8080/"
        },
        "id": "g6pEI0aU1aOl",
        "outputId": "cf5f552e-b297-4754-c0d0-8d05c2820f88"
      },
      "outputs": [
        {
          "data": {
            "text/plain": [
              "((800, 32), (200, 32), (800,))"
            ]
          },
          "execution_count": 44,
          "metadata": {},
          "output_type": "execute_result"
        }
      ],
      "source": [
        "X_train.shape, X_test.shape, y_train.shape"
      ]
    },
    {
      "cell_type": "markdown",
      "metadata": {
        "id": "3MNHA1Gtpu1s"
      },
      "source": [
        "### Question 4\n",
        "How many words does the longest document in X_train have?\n",
        "\n",
        "How about the longest document in X_test?"
      ]
    },
    {
      "cell_type": "markdown",
      "metadata": {
        "id": "SMb0U_QQZzwt"
      },
      "source": [
        "Ans)32"
      ]
    },
    {
      "cell_type": "markdown",
      "metadata": {
        "id": "rr5QFsyzL97u"
      },
      "source": [
        "## Recurrent neural network 1\n",
        "The first layer is an embedding layer that converts the integer-tokens into vector values.\n",
        "This is needed since the integer-tokens (X_tokens) can have values between 0 and 1800 (for our vocabulary of 1800 words), but the RNN cannot work with such wide range. The learned vector values range from -1 to 1.\n",
        "\n",
        "The embedding-layer is trained as part of the RNN and learns to map words with similar meaning to similar embedding vectors. We will try an example below."
      ]
    },
    {
      "cell_type": "code",
      "execution_count": null,
      "metadata": {
        "colab": {
          "base_uri": "https://localhost:8080/"
        },
        "id": "tziRcOnUhGxt",
        "outputId": "98ae9308-cab5-42a9-871f-43424c4037e0"
      },
      "outputs": [
        {
          "name": "stdout",
          "output_type": "stream",
          "text": [
            "Model: \"sequential\"\n",
            "_________________________________________________________________\n",
            " Layer (type)                Output Shape              Param #   \n",
            "=================================================================\n",
            " layer_embedding (Embedding  (None, 32, 16)            28800     \n",
            " )                                                               \n",
            "                                                                 \n",
            " lstm (LSTM)                 (None, 20)                2960      \n",
            "                                                                 \n",
            " dropout (Dropout)           (None, 20)                0         \n",
            "                                                                 \n",
            " dense (Dense)               (None, 1)                 21        \n",
            "                                                                 \n",
            "=================================================================\n",
            "Total params: 31781 (124.14 KB)\n",
            "Trainable params: 31781 (124.14 KB)\n",
            "Non-trainable params: 0 (0.00 Byte)\n",
            "_________________________________________________________________\n"
          ]
        }
      ],
      "source": [
        "embedding_size=16 #size of the embedding vector\n",
        "\n",
        "model_RNN = tk.models.Sequential()\n",
        "\n",
        "model_RNN.add(Embedding(input_dim=num_words,\n",
        "                    output_dim=embedding_size,\n",
        "                    input_length=max_tokens,\n",
        "                    name='layer_embedding'))\n",
        "\n",
        "model_RNN.add(LSTM(units=20,dropout=0.2)) # add an LSTM layer with dropout\n",
        "#model_RNN.add(GRU(units=20,dropout=0.2)) #add a GRU layer\n",
        "\n",
        "# for sequences other than time series, an RNN model can sometimes perform better if it processes a sequence both forwards and backwards.\n",
        "# For example, to predict the next word in a sentence it is useful to have the context around the word.\n",
        "# the Bidirectional wrapper adds such layers.\n",
        "#model_RNN.add(Bidirectional(LSTM(units=16,dropout=0.2)))\n",
        "\n",
        "model_RNN.add(Dropout(0.2)) # add a dropout layer\n",
        "\n",
        "model_RNN.add(Dense(1, activation='sigmoid'))\n",
        "\n",
        "optimizer=tk.optimizers.Adam() # selecting the optimizer\n",
        "\n",
        "# compiling the model\n",
        "model_RNN.compile(loss='binary_crossentropy', #mae,mse\n",
        "              optimizer=optimizer,\n",
        "              metrics=['accuracy'])\n",
        "\n",
        "model_RNN.summary() # model overview"
      ]
    },
    {
      "cell_type": "code",
      "execution_count": null,
      "metadata": {
        "colab": {
          "base_uri": "https://localhost:8080/"
        },
        "id": "mqIdUEMOguSc",
        "outputId": "9ecc11e3-a14a-4045-bfa5-ecb41d209b32"
      },
      "outputs": [
        {
          "name": "stdout",
          "output_type": "stream",
          "text": [
            "1/1 [==============================] - 1s 574ms/step\n"
          ]
        },
        {
          "data": {
            "text/plain": [
              "array([[0.49799472],\n",
              "       [0.4996853 ],\n",
              "       [0.49838623]], dtype=float32)"
            ]
          },
          "execution_count": 46,
          "metadata": {},
          "output_type": "execute_result"
        }
      ],
      "source": [
        "# make sure the input data can be feed to the RNN\n",
        "model_RNN.predict(X_train[:3])"
      ]
    },
    {
      "cell_type": "code",
      "execution_count": null,
      "metadata": {
        "colab": {
          "base_uri": "https://localhost:8080/"
        },
        "id": "LLdwnUXuir5Q",
        "outputId": "35c60eca-6100-4574-cf59-e736dd062e08"
      },
      "outputs": [
        {
          "name": "stdout",
          "output_type": "stream",
          "text": [
            "Epoch 1/10\n",
            "25/25 [==============================] - 3s 36ms/step - loss: 0.6923 - accuracy: 0.5325 - val_loss: 0.6925 - val_accuracy: 0.5400\n",
            "Epoch 2/10\n",
            "25/25 [==============================] - 0s 13ms/step - loss: 0.6883 - accuracy: 0.6212 - val_loss: 0.6892 - val_accuracy: 0.6150\n",
            "Epoch 3/10\n",
            "25/25 [==============================] - 0s 13ms/step - loss: 0.6772 - accuracy: 0.7175 - val_loss: 0.6750 - val_accuracy: 0.6800\n",
            "Epoch 4/10\n",
            "25/25 [==============================] - 0s 15ms/step - loss: 0.6244 - accuracy: 0.7487 - val_loss: 0.5906 - val_accuracy: 0.7150\n",
            "Epoch 5/10\n",
            "25/25 [==============================] - 0s 14ms/step - loss: 0.5006 - accuracy: 0.7975 - val_loss: 0.5074 - val_accuracy: 0.7600\n",
            "Epoch 6/10\n",
            "25/25 [==============================] - 0s 14ms/step - loss: 0.3713 - accuracy: 0.8675 - val_loss: 0.4411 - val_accuracy: 0.7950\n",
            "Epoch 7/10\n",
            "25/25 [==============================] - 0s 14ms/step - loss: 0.2671 - accuracy: 0.9187 - val_loss: 0.4438 - val_accuracy: 0.7500\n",
            "Epoch 8/10\n",
            "25/25 [==============================] - 0s 13ms/step - loss: 0.2040 - accuracy: 0.9463 - val_loss: 0.4175 - val_accuracy: 0.8150\n",
            "Epoch 9/10\n",
            "25/25 [==============================] - 0s 18ms/step - loss: 0.1369 - accuracy: 0.9650 - val_loss: 0.4134 - val_accuracy: 0.8200\n",
            "Epoch 10/10\n",
            "25/25 [==============================] - 1s 21ms/step - loss: 0.1069 - accuracy: 0.9737 - val_loss: 0.4259 - val_accuracy: 0.8050\n"
          ]
        }
      ],
      "source": [
        "# train the RNN model\n",
        "# train and test sets: using all data in train set for learning and test set for validation\n",
        "history = model_RNN.fit(X_train, y_train, validation_data=(X_test, y_test),epochs=10, verbose=1)\n",
        "# train, validate, test sets: further splitting training set into train/validation\n",
        "#history = model_RNN.fit(X_train, y_train,validation_split=0.2,epochs=10, verbose=1)"
      ]
    },
    {
      "cell_type": "code",
      "execution_count": null,
      "metadata": {
        "colab": {
          "base_uri": "https://localhost:8080/",
          "height": 472
        },
        "id": "YHd2104wBZ1r",
        "outputId": "14aaed8f-dc8b-4541-88d2-70dc49b34707"
      },
      "outputs": [
        {
          "data": {
            "image/png": "[encoded data removed]",
            "text/plain": [
              "<Figure size 640x480 with 1 Axes>"
            ]
          },
          "metadata": {},
          "output_type": "display_data"
        }
      ],
      "source": [
        "# plot training and validation accuracy\n",
        "import matplotlib.pyplot as plt\n",
        "plt.plot(history.history['accuracy'],label=\"training\")\n",
        "plt.plot(history.history['val_accuracy'],label=\"validation\")\n",
        "plt.xlabel(\"epoch\")\n",
        "plt.title('Accuracy')\n",
        "plt.legend()\n",
        "plt.show()"
      ]
    },
    {
      "cell_type": "code",
      "execution_count": null,
      "metadata": {
        "colab": {
          "base_uri": "https://localhost:8080/",
          "height": 472
        },
        "id": "KVTf7dL-_O4X",
        "outputId": "5cfd4a71-556f-4580-d439-987afe7fc97c"
      },
      "outputs": [
        {
          "data": {
            "image/png": "[encoded data removed]",
            "text/plain": [
              "<Figure size 640x480 with 1 Axes>"
            ]
          },
          "metadata": {},
          "output_type": "display_data"
        }
      ],
      "source": [
        "# plot training and validation loss\n",
        "import matplotlib.pyplot as plt\n",
        "plt.plot(history.history['loss'],label=\"training\")\n",
        "plt.plot(history.history['val_loss'],label=\"validation\")\n",
        "plt.xlabel(\"epoch\")\n",
        "plt.title('Loss')\n",
        "plt.legend()\n",
        "plt.show()"
      ]
    },
    {
      "cell_type": "markdown",
      "metadata": {
        "id": "7HTVJB1aDVKA"
      },
      "source": [
        "## Evaluate the RNN model"
      ]
    },
    {
      "cell_type": "code",
      "execution_count": null,
      "metadata": {
        "colab": {
          "base_uri": "https://localhost:8080/",
          "height": 524
        },
        "id": "Qs1i2DLRCzTQ",
        "outputId": "bfb741d4-1445-48c6-a93b-4cabf4ca5a64"
      },
      "outputs": [
        {
          "name": "stdout",
          "output_type": "stream",
          "text": [
            "7/7 [==============================] - 0s 4ms/step\n",
            "Accuracy: 0.805\n",
            "Balanced Acc.: 0.8012531328320802\n"
          ]
        },
        {
          "data": {
            "image/png": "[encoded data removed]",
            "text/plain": [
              "<Figure size 640x480 with 2 Axes>"
            ]
          },
          "metadata": {},
          "output_type": "display_data"
        }
      ],
      "source": [
        "y_pred=(model_RNN.predict(X_test)>0.5).astype('int32')\n",
        "\n",
        "import scikitplot as skplt\n",
        "skplt.metrics.plot_confusion_matrix(y_test, y_pred)\n",
        "\n",
        "from sklearn import metrics\n",
        "print(\"Accuracy:\",metrics.accuracy_score(y_test, y_pred)), #Accuracy\n",
        "print(\"Balanced Acc.:\",metrics.balanced_accuracy_score(y_test, y_pred))"
      ]
    },
    {
      "cell_type": "markdown",
      "metadata": {
        "id": "snuvwlVhq7sA"
      },
      "source": [
        "### Question 5\n",
        "Would using more training-epochs improve performance? you can retrain the model to verify.\n",
        "\n"
      ]
    },
    {
      "cell_type": "markdown",
      "metadata": {
        "id": "iCZp1vxsZ8hn"
      },
      "source": [
        "Ans: There is no improvement on performance on increasing the epochs."
      ]
    },
    {
      "cell_type": "markdown",
      "metadata": {
        "id": "_4cU8lf1j_hL"
      },
      "source": [
        "### Question 6\n",
        "Is the model overfitting the training data?\n"
      ]
    },
    {
      "cell_type": "markdown",
      "metadata": {
        "id": "3lZ0Q3PeaCni"
      },
      "source": [
        "Ans: Model is not getting overfit."
      ]
    },
    {
      "cell_type": "markdown",
      "metadata": {
        "id": "VrODDEg3tYH2"
      },
      "source": [
        "### Question 7\n",
        "Change the LSTM layer to a GRU layer. Does the RNN with GRU units have a better performance?"
      ]
    },
    {
      "cell_type": "markdown",
      "metadata": {
        "id": "h9frOGnkaLYf"
      },
      "source": [
        "Ans: I cannot see a great performace improvement."
      ]
    },
    {
      "cell_type": "markdown",
      "metadata": {
        "id": "u_E2JInLkj8L"
      },
      "source": [
        "### Question 8\n",
        "Would the model overfit the data if we did not include the dropout layer and dropout inside the LSTM/GRU units? you can change the network architecture and retrain it to verify.\n",
        "\n"
      ]
    },
    {
      "cell_type": "markdown",
      "metadata": {
        "id": "O8TJ_BVMacMr"
      },
      "source": [
        "Ans: I couldnt see any overfit of the model, though I have removed the dropout layer."
      ]
    },
    {
      "cell_type": "markdown",
      "metadata": {
        "id": "kzTiNANUk4o2"
      },
      "source": [
        "### Question 9 (optional)\n",
        "Increase the size of the embedding-vectors to 64 (from 16). Does it affect model performance?\n"
      ]
    },
    {
      "cell_type": "markdown",
      "metadata": {
        "id": "ru16mYTmk4CP"
      },
      "source": [
        "### Question 10\n",
        "Decrease the number of words in the vocabulary from 2000 to 1500. Does it affect performance?\n",
        "\n",
        "*Go to the \"Tokenizing, sequencing, padding\" section to re-initialize the tokenizer and rerun subsequent steps.*\n",
        "\n",
        "\n"
      ]
    },
    {
      "cell_type": "markdown",
      "metadata": {
        "id": "WVrxxcVLamjs"
      },
      "source": [
        "Ans:Accuracy is still same when we use post instead of pre for padding and truncating the sequenced tokens in pad_sequences()"
      ]
    },
    {
      "cell_type": "markdown",
      "metadata": {
        "id": "3rjHMTv0l4i0"
      },
      "source": [
        "### Question 11\n",
        "Use 'post' for padding and truncating the sequenced tokens in pad_sequences() (*Go to the \"Tokenizing, sequencing, padding\" section and rerun subsequent steps*). Does it affect model performance?"
      ]
    },
    {
      "cell_type": "markdown",
      "metadata": {
        "id": "XVmdIo1iarea"
      },
      "source": [
        "Ans:Accuracy is still same when we use post instead of pre for padding and truncating the sequenced tokens in pad_sequences()"
      ]
    },
    {
      "cell_type": "markdown",
      "metadata": {
        "id": "obcJUde6ai2G"
      },
      "source": [
        "## Classify a new review using the RNN"
      ]
    },
    {
      "cell_type": "code",
      "execution_count": null,
      "metadata": {
        "colab": {
          "base_uri": "https://localhost:8080/"
        },
        "id": "-E5KDBSvao0W",
        "outputId": "241718b2-4491-4064-8e6a-f4ee597140b3"
      },
      "outputs": [
        {
          "data": {
            "text/plain": [
              "array([[  0,   0,   0,   0,   0,   0,   0,   0,   0,   0,   0,   0,   0,\n",
              "          0,   0,   0,   0,   0,   0,   0,   0,   0,   0,   0,   0,   0,\n",
              "          0,   0,  11, 120,  25, 108]], dtype=int32)"
            ]
          },
          "execution_count": 51,
          "metadata": {},
          "output_type": "execute_result"
        }
      ],
      "source": [
        "new_review= ['food can be better']\n",
        "new_sequence=tokenizer.texts_to_sequences(new_review) # tokenize and sequence\n",
        "new_seq_pad=pad_sequences(new_sequence, maxlen=max_tokens,padding='pre') # pad it\n",
        "new_seq_pad"
      ]
    },
    {
      "cell_type": "code",
      "execution_count": null,
      "metadata": {
        "colab": {
          "base_uri": "https://localhost:8080/"
        },
        "id": "pPw4g6CebPQj",
        "outputId": "e387fac8-13ff-4c0e-edd5-ade8a1404e5f"
      },
      "outputs": [
        {
          "name": "stdout",
          "output_type": "stream",
          "text": [
            "1/1 [==============================] - 0s 21ms/step\n",
            "1/1 [==============================] - 0s 20ms/step\n"
          ]
        },
        {
          "data": {
            "text/plain": [
              "array([[0]], dtype=int32)"
            ]
          },
          "execution_count": 52,
          "metadata": {},
          "output_type": "execute_result"
        }
      ],
      "source": [
        "model_RNN.predict(new_seq_pad) # predict probability\n",
        "#np.argmax(model_RNN.predict(X),axis=-1) #for multiclass outcomes\n",
        "(model_RNN.predict(new_seq_pad)>0.5).astype('int32') #for binary outcomes"
      ]
    },
    {
      "cell_type": "markdown",
      "metadata": {
        "id": "cwohWWkYJIEG"
      },
      "source": [
        "## Extracing word embeddings\n",
        "Earlier we mentioned word embeddings and that we have an embedding layer which learns how to map words (in the form of integer-tokens) to vectors as we train the neural network.\n",
        "\n",
        "The distance between two word vectors indicate their similarity and we can derive these vectors for any word in our vocabulary from the embedding layer.\n",
        "\n",
        "We will use the cosine distance between two words. Cosine values can range from [-1,1], so the distance can range from 0 to 2 (in our complex vector space):\n",
        "* close to 0: two words have the same meaning\n",
        "* close to 2: two words are antonyms\n",
        "\n",
        "For more details on cosine similarity, see https://en.wikipedia.org/wiki/Cosine_similarity"
      ]
    },
    {
      "cell_type": "code",
      "execution_count": null,
      "metadata": {
        "colab": {
          "base_uri": "https://localhost:8080/"
        },
        "id": "kMH4ojV8SS_7",
        "outputId": "2d54f724-13f1-4e8c-a9ee-ecc45cdcf75c"
      },
      "outputs": [
        {
          "name": "stdout",
          "output_type": "stream",
          "text": [
            "11\n"
          ]
        },
        {
          "data": {
            "text/plain": [
              "array([ 0.00173312, -0.03406085,  0.07151105,  0.00409148,  0.0014027 ,\n",
              "       -0.03008364,  0.03866268, -0.05012516,  0.02638718, -0.05134632,\n",
              "        0.04610471, -0.03566459,  0.01833758,  0.03489653, -0.0313163 ,\n",
              "       -0.00793031], dtype=float32)"
            ]
          },
          "execution_count": 53,
          "metadata": {},
          "output_type": "execute_result"
        }
      ],
      "source": [
        "# extract the embedding layer from the RNN architecture\n",
        "embedding_weights=model_RNN.get_layer('layer_embedding').get_weights()[0]\n",
        "\n",
        "# vector for a word in our vocabulary\n",
        "print(tokenizer.word_index['food']) # integer for word in our vocabulary\n",
        "# word vector representation as learned in the embedding layer\n",
        "embedding_weights[tokenizer.word_index['food']]"
      ]
    },
    {
      "cell_type": "code",
      "execution_count": null,
      "metadata": {
        "colab": {
          "base_uri": "https://localhost:8080/"
        },
        "id": "Ik9DQ0fzeT6D",
        "outputId": "241be2c3-18a5-47ce-ba31-82e49c5f41ef"
      },
      "outputs": [
        {
          "data": {
            "text/plain": [
              "1.943151668518349"
            ]
          },
          "execution_count": 54,
          "metadata": {},
          "output_type": "execute_result"
        }
      ],
      "source": [
        "# let's calculate distance between any two words in our vocabulary\n",
        "from scipy.spatial.distance import cdist\n",
        "float(cdist([embedding_weights[tokenizer.word_index['delicious']]],\n",
        "            [embedding_weights[tokenizer.word_index['bad']]],\n",
        "            metric='cosine'))"
      ]
    },
    {
      "cell_type": "markdown",
      "metadata": {
        "id": "AE94zsaIguY8"
      },
      "source": [
        "### Question 12\n",
        "How close are the words *spaghetti* and *pizza* based on the word-vectors learned in our embedding layer?"
      ]
    },
    {
      "cell_type": "markdown",
      "metadata": {
        "id": "uNhwaW5fbD8Y"
      },
      "source": [
        "Ans:Both are close to 0. So both are similar."
      ]
    },
    {
      "cell_type": "markdown",
      "metadata": {
        "id": "K9NxAn7NoQ53"
      },
      "source": [
        "### Question 13\n",
        "Is the word *delicious* more similar in meaning to *good* or *bad*?"
      ]
    },
    {
      "cell_type": "markdown",
      "metadata": {
        "id": "rQq3UJC4a1V5"
      },
      "source": [
        "Ans:Word delicious is more similiar in meaning to good."
      ]
    },
    {
      "cell_type": "markdown",
      "metadata": {
        "id": "OjDoriOIWKip"
      },
      "source": [
        "## Recurrent Neural Network 2\n",
        "\n",
        "Let's try another architecture 3 LSTM layers (i.e., deep RNN) and see if it has a better predictive performance."
      ]
    },
    {
      "cell_type": "code",
      "execution_count": null,
      "metadata": {
        "colab": {
          "base_uri": "https://localhost:8080/"
        },
        "id": "JBCfRWHPWLXY",
        "outputId": "9bf69655-2139-4c58-c7fc-ff18cf1d2b62"
      },
      "outputs": [
        {
          "name": "stdout",
          "output_type": "stream",
          "text": [
            "Model: \"sequential_1\"\n",
            "_________________________________________________________________\n",
            " Layer (type)                Output Shape              Param #   \n",
            "=================================================================\n",
            " layer_embedding (Embedding  (None, 32, 16)            28800     \n",
            " )                                                               \n",
            "                                                                 \n",
            " lstm_1 (LSTM)               (None, 32, 32)            6272      \n",
            "                                                                 \n",
            " dropout_1 (Dropout)         (None, 32, 32)            0         \n",
            "                                                                 \n",
            " lstm_2 (LSTM)               (None, 32, 16)            3136      \n",
            "                                                                 \n",
            " dropout_2 (Dropout)         (None, 32, 16)            0         \n",
            "                                                                 \n",
            " lstm_3 (LSTM)               (None, 8)                 800       \n",
            "                                                                 \n",
            " dropout_3 (Dropout)         (None, 8)                 0         \n",
            "                                                                 \n",
            " dense_1 (Dense)             (None, 1)                 9         \n",
            "                                                                 \n",
            "=================================================================\n",
            "Total params: 39017 (152.41 KB)\n",
            "Trainable params: 39017 (152.41 KB)\n",
            "Non-trainable params: 0 (0.00 Byte)\n",
            "_________________________________________________________________\n"
          ]
        }
      ],
      "source": [
        "embedding_size=16 #size of the embedding vector\n",
        "\n",
        "model_2 = tk.models.Sequential()\n",
        "\n",
        "model_2.add(Embedding(input_dim=num_words,\n",
        "                    output_dim=embedding_size,\n",
        "                    input_length=max_tokens,\n",
        "                    name='layer_embedding'))\n",
        "\n",
        "model_2.add(LSTM(units=32, return_sequences=True,dropout=0.2))\n",
        "model_2.add(Dropout(0.2))\n",
        "\n",
        "model_2.add(LSTM(units=16, return_sequences=True,dropout=0.2))\n",
        "model_2.add(Dropout(0.2))\n",
        "\n",
        "model_2.add(LSTM(units=8,dropout=0.2))\n",
        "model_2.add(Dropout(0.2))\n",
        "\n",
        "model_2.add(Dense(1, activation='sigmoid')) # use softmax  for multiclass outcomes\n",
        "\n",
        "optimizer=tk.optimizers.Adam() # selecting the optimizer\n",
        "\n",
        "# compiling the model\n",
        "model_2.compile(loss='binary_crossentropy',\n",
        "              optimizer=optimizer,\n",
        "              metrics=['accuracy'])\n",
        "# for multiclass outcomes use categorical_crossentropy or sparse_categorical_crossentropy\n",
        "# categorical_crossentropy, when outcomes are one-hot encoded\n",
        "# sparse_categorical_crossentropy, when outcomes are labeled as integers\n",
        "\n",
        "model_2.summary()"
      ]
    },
    {
      "cell_type": "code",
      "execution_count": null,
      "metadata": {
        "colab": {
          "base_uri": "https://localhost:8080/"
        },
        "id": "llJqVjK9maBm",
        "outputId": "50670420-ec4b-44d2-bc8d-89a6f0926659"
      },
      "outputs": [
        {
          "name": "stdout",
          "output_type": "stream",
          "text": [
            "Epoch 1/30\n",
            "20/20 [==============================] - 8s 142ms/step - loss: 0.6932 - accuracy: 0.4891 - val_loss: 0.6934 - val_accuracy: 0.4812\n",
            "Epoch 2/30\n",
            "20/20 [==============================] - 1s 48ms/step - loss: 0.6924 - accuracy: 0.5125 - val_loss: 0.6933 - val_accuracy: 0.4812\n",
            "Epoch 3/30\n",
            "20/20 [==============================] - 1s 44ms/step - loss: 0.6887 - accuracy: 0.5562 - val_loss: 0.6892 - val_accuracy: 0.6000\n",
            "Epoch 4/30\n",
            "20/20 [==============================] - 1s 32ms/step - loss: 0.6666 - accuracy: 0.6281 - val_loss: 0.6718 - val_accuracy: 0.5813\n",
            "Epoch 5/30\n",
            "20/20 [==============================] - 1s 33ms/step - loss: 0.5907 - accuracy: 0.7578 - val_loss: 0.6668 - val_accuracy: 0.5813\n",
            "Epoch 6/30\n",
            "20/20 [==============================] - 1s 32ms/step - loss: 0.4858 - accuracy: 0.8203 - val_loss: 0.6705 - val_accuracy: 0.6750\n",
            "Epoch 7/30\n",
            "20/20 [==============================] - 1s 31ms/step - loss: 0.3999 - accuracy: 0.8719 - val_loss: 0.6647 - val_accuracy: 0.6687\n",
            "Epoch 8/30\n",
            "20/20 [==============================] - 1s 31ms/step - loss: 0.3041 - accuracy: 0.9172 - val_loss: 0.7096 - val_accuracy: 0.6938\n",
            "Epoch 9/30\n",
            "20/20 [==============================] - 1s 32ms/step - loss: 0.2442 - accuracy: 0.9344 - val_loss: 0.6863 - val_accuracy: 0.7000\n",
            "Epoch 10/30\n",
            "20/20 [==============================] - 1s 32ms/step - loss: 0.1779 - accuracy: 0.9594 - val_loss: 0.7466 - val_accuracy: 0.7063\n",
            "Epoch 11/30\n",
            "20/20 [==============================] - 1s 32ms/step - loss: 0.1422 - accuracy: 0.9734 - val_loss: 0.8236 - val_accuracy: 0.7000\n",
            "Epoch 12/30\n",
            "20/20 [==============================] - 1s 33ms/step - loss: 0.1191 - accuracy: 0.9797 - val_loss: 0.8377 - val_accuracy: 0.7000\n",
            "Epoch 13/30\n",
            "20/20 [==============================] - 1s 32ms/step - loss: 0.1079 - accuracy: 0.9766 - val_loss: 0.7864 - val_accuracy: 0.7063\n",
            "Epoch 14/30\n",
            "20/20 [==============================] - 1s 32ms/step - loss: 0.0956 - accuracy: 0.9781 - val_loss: 0.8638 - val_accuracy: 0.7000\n",
            "Epoch 15/30\n",
            "20/20 [==============================] - 1s 32ms/step - loss: 0.0658 - accuracy: 0.9906 - val_loss: 0.9074 - val_accuracy: 0.7312\n",
            "Epoch 16/30\n",
            "20/20 [==============================] - 1s 32ms/step - loss: 0.0610 - accuracy: 0.9937 - val_loss: 0.9710 - val_accuracy: 0.7125\n",
            "Epoch 17/30\n",
            "20/20 [==============================] - 1s 33ms/step - loss: 0.0524 - accuracy: 0.9922 - val_loss: 0.9694 - val_accuracy: 0.7312\n",
            "Epoch 18/30\n",
            "20/20 [==============================] - 1s 32ms/step - loss: 0.0496 - accuracy: 0.9906 - val_loss: 1.0102 - val_accuracy: 0.7188\n",
            "Epoch 19/30\n",
            "20/20 [==============================] - 1s 46ms/step - loss: 0.0457 - accuracy: 0.9937 - val_loss: 0.9882 - val_accuracy: 0.7188\n",
            "Epoch 20/30\n",
            "20/20 [==============================] - 1s 51ms/step - loss: 0.0380 - accuracy: 0.9953 - val_loss: 0.9867 - val_accuracy: 0.7312\n",
            "Epoch 21/30\n",
            "20/20 [==============================] - 1s 50ms/step - loss: 0.0344 - accuracy: 0.9953 - val_loss: 0.9687 - val_accuracy: 0.7375\n",
            "Epoch 22/30\n",
            "20/20 [==============================] - 1s 48ms/step - loss: 0.0385 - accuracy: 0.9922 - val_loss: 0.9946 - val_accuracy: 0.7188\n",
            "Epoch 23/30\n",
            "20/20 [==============================] - 1s 46ms/step - loss: 0.0312 - accuracy: 0.9953 - val_loss: 1.0026 - val_accuracy: 0.7312\n",
            "Epoch 24/30\n",
            "20/20 [==============================] - 1s 33ms/step - loss: 0.0351 - accuracy: 0.9953 - val_loss: 1.0833 - val_accuracy: 0.7375\n",
            "Epoch 25/30\n",
            "20/20 [==============================] - 1s 33ms/step - loss: 0.0331 - accuracy: 0.9922 - val_loss: 1.0819 - val_accuracy: 0.7250\n",
            "Epoch 26/30\n",
            "20/20 [==============================] - 1s 32ms/step - loss: 0.0266 - accuracy: 0.9984 - val_loss: 1.0142 - val_accuracy: 0.7188\n",
            "Epoch 27/30\n",
            "20/20 [==============================] - 1s 32ms/step - loss: 0.0225 - accuracy: 0.9984 - val_loss: 1.1100 - val_accuracy: 0.7312\n",
            "Epoch 28/30\n",
            "20/20 [==============================] - 1s 32ms/step - loss: 0.0177 - accuracy: 1.0000 - val_loss: 1.1600 - val_accuracy: 0.7125\n",
            "Epoch 29/30\n",
            "20/20 [==============================] - 1s 31ms/step - loss: 0.0221 - accuracy: 0.9969 - val_loss: 1.1574 - val_accuracy: 0.7312\n",
            "Epoch 30/30\n",
            "20/20 [==============================] - 1s 31ms/step - loss: 0.0175 - accuracy: 0.9984 - val_loss: 1.1632 - val_accuracy: 0.7375\n"
          ]
        }
      ],
      "source": [
        "# fit/train the model\n",
        "history2 = model_2.fit(X_train, y_train,validation_split=0.2,epochs=30, verbose=1)\n",
        "#history2 = model_2.fit(X_train, y_train,validation_data=(X_test, y_test),epochs=30, verbose=1)"
      ]
    },
    {
      "cell_type": "code",
      "execution_count": null,
      "metadata": {
        "colab": {
          "base_uri": "https://localhost:8080/",
          "height": 472
        },
        "id": "W2RfyzY5mgmB",
        "outputId": "4fb0585b-3e3d-492f-94d5-c67fae0e5441"
      },
      "outputs": [
        {
          "data": {
            "image/png": "[encoded data removed]",
            "text/plain": [
              "<Figure size 640x480 with 1 Axes>"
            ]
          },
          "metadata": {},
          "output_type": "display_data"
        }
      ],
      "source": [
        "# plot training and validation accuracy\n",
        "import matplotlib.pyplot as plt\n",
        "plt.plot(history2.history['accuracy'],label=\"training\")\n",
        "plt.plot(history2.history['val_accuracy'],label=\"validation\")\n",
        "plt.xlabel(\"epoch\")\n",
        "plt.title('Accuracy')\n",
        "plt.legend()\n",
        "plt.show()"
      ]
    },
    {
      "cell_type": "code",
      "execution_count": null,
      "metadata": {
        "colab": {
          "base_uri": "https://localhost:8080/",
          "height": 524
        },
        "id": "NzFH102ymltY",
        "outputId": "04229258-f3af-41a6-bda4-6e789cfcb7d8"
      },
      "outputs": [
        {
          "name": "stdout",
          "output_type": "stream",
          "text": [
            "7/7 [==============================] - 1s 10ms/step\n",
            "Accuracy: 0.735\n",
            "Balanced Acc.: 0.7320802005012531\n"
          ]
        },
        {
          "data": {
            "image/png": "[encoded data removed]",
            "text/plain": [
              "<Figure size 640x480 with 2 Axes>"
            ]
          },
          "metadata": {},
          "output_type": "display_data"
        }
      ],
      "source": [
        "# evaluate model performance on test set\n",
        "y_pred=(model_2.predict(X_test)>0.5).astype('int32')\n",
        "\n",
        "import scikitplot as skplt\n",
        "skplt.metrics.plot_confusion_matrix(y_test, y_pred)\n",
        "\n",
        "from sklearn import metrics\n",
        "print(\"Accuracy:\",metrics.accuracy_score(y_test, y_pred)), #Accuracy\n",
        "print(\"Balanced Acc.:\",metrics.balanced_accuracy_score(y_test, y_pred))"
      ]
    },
    {
      "cell_type": "markdown",
      "metadata": {
        "id": "Pv-e2tspnYcS"
      },
      "source": [
        "###Question 14\n",
        "Does the second model have better performance in terms of accuracy?"
      ]
    },
    {
      "cell_type": "markdown",
      "metadata": {
        "id": "-RBM-8Wia8Jc"
      },
      "source": [
        "Ans:Second model didnt perform well than first model interms of accuracy."
      ]
    },
    {
      "cell_type": "markdown",
      "metadata": {
        "id": "wzzKPxrFbqpF"
      },
      "source": [
        " RNN2\n",
        ""
      ]
    }
  ],
  "metadata": {
    "colab": {
      "provenance": []
    },
    "kernelspec": {
      "display_name": "Python 3",
      "name": "python3"
    }
  },
  "nbformat": 4,
  "nbformat_minor": 0
}